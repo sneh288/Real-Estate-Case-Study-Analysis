{
  "nbformat": 4,
  "nbformat_minor": 0,
  "metadata": {
    "colab": {
      "name": "Real Estate Case Study Analysis.ipynb",
      "provenance": [],
      "collapsed_sections": []
    },
    "kernelspec": {
      "name": "python3",
      "display_name": "Python 3"
    },
    "language_info": {
      "name": "python"
    }
  },
  "cells": [
    {
      "cell_type": "code",
      "metadata": {
        "id": "6vcBmArvP9ah"
      },
      "source": [
        "# importing all the necessary libraries\n",
        "import pandas as pd\n",
        "from matplotlib import pyplot as plt\n",
        "import seaborn as sns\n",
        "import numpy as np\n",
        "import ast"
      ],
      "execution_count": null,
      "outputs": []
    },
    {
      "cell_type": "markdown",
      "metadata": {
        "id": "IhiA_g18mA2z"
      },
      "source": [
        "# Data Sourcing"
      ]
    },
    {
      "cell_type": "code",
      "metadata": {
        "id": "lE667vhGQQlO"
      },
      "source": [
        "dataset= pd.read_excel(\"/content/drive/MyDrive/Colab Notebooks/squadstack/dataset.xlsx\",sheet_name='Dataset')"
      ],
      "execution_count": null,
      "outputs": []
    },
    {
      "cell_type": "code",
      "metadata": {
        "colab": {
          "base_uri": "https://localhost:8080/",
          "height": 198
        },
        "id": "59nIGJ9GQTSz",
        "outputId": "c42f0b93-7b88-4caf-a8fd-5095ddf364ed"
      },
      "source": [
        "dataset.head()"
      ],
      "execution_count": null,
      "outputs": [
        {
          "output_type": "execute_result",
          "data": {
            "text/html": [
              "<div>\n",
              "<style scoped>\n",
              "    .dataframe tbody tr th:only-of-type {\n",
              "        vertical-align: middle;\n",
              "    }\n",
              "\n",
              "    .dataframe tbody tr th {\n",
              "        vertical-align: top;\n",
              "    }\n",
              "\n",
              "    .dataframe thead th {\n",
              "        text-align: right;\n",
              "    }\n",
              "</style>\n",
              "<table border=\"1\" class=\"dataframe\">\n",
              "  <thead>\n",
              "    <tr style=\"text-align: right;\">\n",
              "      <th></th>\n",
              "      <th>id</th>\n",
              "      <th>followup_date</th>\n",
              "      <th>lead_created_at</th>\n",
              "      <th>leadId</th>\n",
              "      <th>followup_type</th>\n",
              "      <th>agentId</th>\n",
              "      <th>additional_data</th>\n",
              "    </tr>\n",
              "  </thead>\n",
              "  <tbody>\n",
              "    <tr>\n",
              "      <th>0</th>\n",
              "      <td>1</td>\n",
              "      <td>2020-03-05 14:38:54</td>\n",
              "      <td>2019-11-04 16:12:00-05:00</td>\n",
              "      <td>20293</td>\n",
              "      <td>calls</td>\n",
              "      <td>10</td>\n",
              "      <td>{\"duration\": 0, \"is_incoming\": False}</td>\n",
              "    </tr>\n",
              "    <tr>\n",
              "      <th>1</th>\n",
              "      <td>2</td>\n",
              "      <td>2020-03-05 14:38:55</td>\n",
              "      <td>2019-11-04 16:12:00-05:00</td>\n",
              "      <td>20293</td>\n",
              "      <td>calls</td>\n",
              "      <td>10</td>\n",
              "      <td>{\"duration\": 0, \"is_incoming\" : False}</td>\n",
              "    </tr>\n",
              "    <tr>\n",
              "      <th>2</th>\n",
              "      <td>3</td>\n",
              "      <td>2020-01-06 19:11:39</td>\n",
              "      <td>2019-12-26 08:30:32-05:00</td>\n",
              "      <td>49122</td>\n",
              "      <td>calls</td>\n",
              "      <td>4</td>\n",
              "      <td>{'duration': 91, 'is_incoming': False}</td>\n",
              "    </tr>\n",
              "    <tr>\n",
              "      <th>3</th>\n",
              "      <td>4</td>\n",
              "      <td>2020-08-31 13:12:53</td>\n",
              "      <td>2020-08-30 19:39:18-04:00</td>\n",
              "      <td>58040</td>\n",
              "      <td>calls</td>\n",
              "      <td>9</td>\n",
              "      <td>{'duration': 0, 'is_incoming': False}</td>\n",
              "    </tr>\n",
              "    <tr>\n",
              "      <th>4</th>\n",
              "      <td>5</td>\n",
              "      <td>2020-10-14 14:47:23</td>\n",
              "      <td>2017-01-28 11:04:00-05:00</td>\n",
              "      <td>36567</td>\n",
              "      <td>calls</td>\n",
              "      <td>9</td>\n",
              "      <td>{'duration': 0, 'is_incoming': False}</td>\n",
              "    </tr>\n",
              "  </tbody>\n",
              "</table>\n",
              "</div>"
            ],
            "text/plain": [
              "   id        followup_date  ... agentId                         additional_data\n",
              "0   1  2020-03-05 14:38:54  ...      10   {\"duration\": 0, \"is_incoming\": False}\n",
              "1   2  2020-03-05 14:38:55  ...      10  {\"duration\": 0, \"is_incoming\" : False}\n",
              "2   3  2020-01-06 19:11:39  ...       4  {'duration': 91, 'is_incoming': False}\n",
              "3   4  2020-08-31 13:12:53  ...       9   {'duration': 0, 'is_incoming': False}\n",
              "4   5  2020-10-14 14:47:23  ...       9   {'duration': 0, 'is_incoming': False}\n",
              "\n",
              "[5 rows x 7 columns]"
            ]
          },
          "metadata": {
            "tags": []
          },
          "execution_count": 4
        }
      ]
    },
    {
      "cell_type": "markdown",
      "metadata": {
        "id": "VRvXgchBmIM-"
      },
      "source": [
        "# Exploratory Data Analysis\n"
      ]
    },
    {
      "cell_type": "code",
      "metadata": {
        "id": "UG1k97RNQWTa"
      },
      "source": [
        "# Seperating the values in additional_data column\n",
        "df1=pd.DataFrame(columns=['id','duration','is_incoming'])"
      ],
      "execution_count": null,
      "outputs": []
    },
    {
      "cell_type": "code",
      "metadata": {
        "id": "4zRX4ps2QdOT"
      },
      "source": [
        "for i in dataset.index.values:\n",
        "    df1.loc[i,'id']=dataset.loc[i,'id']\n",
        "    dict_1=ast.literal_eval(dataset.loc[i,'additional_data'])\n",
        "    for k in dict_1.keys():\n",
        "        df1.loc[i,k]=dict_1[k]\n"
      ],
      "execution_count": null,
      "outputs": []
    },
    {
      "cell_type": "code",
      "metadata": {
        "colab": {
          "base_uri": "https://localhost:8080/",
          "height": 198
        },
        "id": "Io4AcIk7QhPp",
        "outputId": "5a0470fb-2728-4745-d2ef-0dee01ee4a2e"
      },
      "source": [
        "df1.head()"
      ],
      "execution_count": null,
      "outputs": [
        {
          "output_type": "execute_result",
          "data": {
            "text/html": [
              "<div>\n",
              "<style scoped>\n",
              "    .dataframe tbody tr th:only-of-type {\n",
              "        vertical-align: middle;\n",
              "    }\n",
              "\n",
              "    .dataframe tbody tr th {\n",
              "        vertical-align: top;\n",
              "    }\n",
              "\n",
              "    .dataframe thead th {\n",
              "        text-align: right;\n",
              "    }\n",
              "</style>\n",
              "<table border=\"1\" class=\"dataframe\">\n",
              "  <thead>\n",
              "    <tr style=\"text-align: right;\">\n",
              "      <th></th>\n",
              "      <th>id</th>\n",
              "      <th>duration</th>\n",
              "      <th>is_incoming</th>\n",
              "    </tr>\n",
              "  </thead>\n",
              "  <tbody>\n",
              "    <tr>\n",
              "      <th>0</th>\n",
              "      <td>1</td>\n",
              "      <td>0</td>\n",
              "      <td>False</td>\n",
              "    </tr>\n",
              "    <tr>\n",
              "      <th>1</th>\n",
              "      <td>2</td>\n",
              "      <td>0</td>\n",
              "      <td>False</td>\n",
              "    </tr>\n",
              "    <tr>\n",
              "      <th>2</th>\n",
              "      <td>3</td>\n",
              "      <td>91</td>\n",
              "      <td>False</td>\n",
              "    </tr>\n",
              "    <tr>\n",
              "      <th>3</th>\n",
              "      <td>4</td>\n",
              "      <td>0</td>\n",
              "      <td>False</td>\n",
              "    </tr>\n",
              "    <tr>\n",
              "      <th>4</th>\n",
              "      <td>5</td>\n",
              "      <td>0</td>\n",
              "      <td>False</td>\n",
              "    </tr>\n",
              "  </tbody>\n",
              "</table>\n",
              "</div>"
            ],
            "text/plain": [
              "  id duration is_incoming\n",
              "0  1        0       False\n",
              "1  2        0       False\n",
              "2  3       91       False\n",
              "3  4        0       False\n",
              "4  5        0       False"
            ]
          },
          "metadata": {
            "tags": []
          },
          "execution_count": 7
        }
      ]
    },
    {
      "cell_type": "code",
      "metadata": {
        "colab": {
          "base_uri": "https://localhost:8080/",
          "height": 216
        },
        "id": "EcKA8PcbQpMW",
        "outputId": "0ed46f5d-f4c6-43bd-b003-3de4b4484a7d"
      },
      "source": [
        "#Merging the two dataframe df1 and dataset and eliminating the common column \n",
        "df=pd.merge(dataset,df1.drop_duplicates(['id']),how=\"outer\") \n",
        "print(df.shape)\n",
        "df.head()"
      ],
      "execution_count": null,
      "outputs": [
        {
          "output_type": "stream",
          "text": [
            "(68354, 9)\n"
          ],
          "name": "stdout"
        },
        {
          "output_type": "execute_result",
          "data": {
            "text/html": [
              "<div>\n",
              "<style scoped>\n",
              "    .dataframe tbody tr th:only-of-type {\n",
              "        vertical-align: middle;\n",
              "    }\n",
              "\n",
              "    .dataframe tbody tr th {\n",
              "        vertical-align: top;\n",
              "    }\n",
              "\n",
              "    .dataframe thead th {\n",
              "        text-align: right;\n",
              "    }\n",
              "</style>\n",
              "<table border=\"1\" class=\"dataframe\">\n",
              "  <thead>\n",
              "    <tr style=\"text-align: right;\">\n",
              "      <th></th>\n",
              "      <th>id</th>\n",
              "      <th>followup_date</th>\n",
              "      <th>lead_created_at</th>\n",
              "      <th>leadId</th>\n",
              "      <th>followup_type</th>\n",
              "      <th>agentId</th>\n",
              "      <th>additional_data</th>\n",
              "      <th>duration</th>\n",
              "      <th>is_incoming</th>\n",
              "    </tr>\n",
              "  </thead>\n",
              "  <tbody>\n",
              "    <tr>\n",
              "      <th>0</th>\n",
              "      <td>1</td>\n",
              "      <td>2020-03-05 14:38:54</td>\n",
              "      <td>2019-11-04 16:12:00-05:00</td>\n",
              "      <td>20293</td>\n",
              "      <td>calls</td>\n",
              "      <td>10</td>\n",
              "      <td>{\"duration\": 0, \"is_incoming\": False}</td>\n",
              "      <td>0</td>\n",
              "      <td>False</td>\n",
              "    </tr>\n",
              "    <tr>\n",
              "      <th>1</th>\n",
              "      <td>2</td>\n",
              "      <td>2020-03-05 14:38:55</td>\n",
              "      <td>2019-11-04 16:12:00-05:00</td>\n",
              "      <td>20293</td>\n",
              "      <td>calls</td>\n",
              "      <td>10</td>\n",
              "      <td>{\"duration\": 0, \"is_incoming\" : False}</td>\n",
              "      <td>0</td>\n",
              "      <td>False</td>\n",
              "    </tr>\n",
              "    <tr>\n",
              "      <th>2</th>\n",
              "      <td>3</td>\n",
              "      <td>2020-01-06 19:11:39</td>\n",
              "      <td>2019-12-26 08:30:32-05:00</td>\n",
              "      <td>49122</td>\n",
              "      <td>calls</td>\n",
              "      <td>4</td>\n",
              "      <td>{'duration': 91, 'is_incoming': False}</td>\n",
              "      <td>91</td>\n",
              "      <td>False</td>\n",
              "    </tr>\n",
              "    <tr>\n",
              "      <th>3</th>\n",
              "      <td>4</td>\n",
              "      <td>2020-08-31 13:12:53</td>\n",
              "      <td>2020-08-30 19:39:18-04:00</td>\n",
              "      <td>58040</td>\n",
              "      <td>calls</td>\n",
              "      <td>9</td>\n",
              "      <td>{'duration': 0, 'is_incoming': False}</td>\n",
              "      <td>0</td>\n",
              "      <td>False</td>\n",
              "    </tr>\n",
              "    <tr>\n",
              "      <th>4</th>\n",
              "      <td>5</td>\n",
              "      <td>2020-10-14 14:47:23</td>\n",
              "      <td>2017-01-28 11:04:00-05:00</td>\n",
              "      <td>36567</td>\n",
              "      <td>calls</td>\n",
              "      <td>9</td>\n",
              "      <td>{'duration': 0, 'is_incoming': False}</td>\n",
              "      <td>0</td>\n",
              "      <td>False</td>\n",
              "    </tr>\n",
              "  </tbody>\n",
              "</table>\n",
              "</div>"
            ],
            "text/plain": [
              "  id        followup_date  ... duration  is_incoming\n",
              "0  1  2020-03-05 14:38:54  ...        0        False\n",
              "1  2  2020-03-05 14:38:55  ...        0        False\n",
              "2  3  2020-01-06 19:11:39  ...       91        False\n",
              "3  4  2020-08-31 13:12:53  ...        0        False\n",
              "4  5  2020-10-14 14:47:23  ...        0        False\n",
              "\n",
              "[5 rows x 9 columns]"
            ]
          },
          "metadata": {
            "tags": []
          },
          "execution_count": 8
        }
      ]
    },
    {
      "cell_type": "code",
      "metadata": {
        "colab": {
          "base_uri": "https://localhost:8080/"
        },
        "id": "HyVG6E7jQrHi",
        "outputId": "a40b1f8a-577b-4d3a-ac7d-6260bb734b37"
      },
      "source": [
        "# checking null values\n",
        "df.isnull().sum()"
      ],
      "execution_count": null,
      "outputs": [
        {
          "output_type": "execute_result",
          "data": {
            "text/plain": [
              "id                     0\n",
              "followup_date          0\n",
              "lead_created_at        0\n",
              "leadId                 0\n",
              "followup_type          0\n",
              "agentId                0\n",
              "additional_data        0\n",
              "duration           65049\n",
              "is_incoming            0\n",
              "dtype: int64"
            ]
          },
          "metadata": {
            "tags": []
          },
          "execution_count": 9
        }
      ]
    },
    {
      "cell_type": "code",
      "metadata": {
        "id": "lnQqTRvCRFmV"
      },
      "source": [
        "df.duration.values"
      ],
      "execution_count": null,
      "outputs": []
    },
    {
      "cell_type": "code",
      "metadata": {
        "id": "28rRRWASRGrw"
      },
      "source": [
        "#replacing all nan values in duration with zero\n",
        "df['duration'] = df['duration'].fillna(0)\n"
      ],
      "execution_count": null,
      "outputs": []
    },
    {
      "cell_type": "code",
      "metadata": {
        "colab": {
          "base_uri": "https://localhost:8080/"
        },
        "id": "_N-hWgwIRJyJ",
        "outputId": "313a48e0-0068-418c-b7f3-77e22adb633c"
      },
      "source": [
        "df.shape"
      ],
      "execution_count": null,
      "outputs": [
        {
          "output_type": "execute_result",
          "data": {
            "text/plain": [
              "(68354, 9)"
            ]
          },
          "metadata": {
            "tags": []
          },
          "execution_count": 12
        }
      ]
    },
    {
      "cell_type": "code",
      "metadata": {
        "colab": {
          "base_uri": "https://localhost:8080/"
        },
        "id": "tql1Tr10Rhqb",
        "outputId": "116d2f7e-67f8-4ac1-8839-24776ae4f99a"
      },
      "source": [
        "df.agentId.unique()"
      ],
      "execution_count": null,
      "outputs": [
        {
          "output_type": "execute_result",
          "data": {
            "text/plain": [
              "array([10,  4,  9,  7,  8,  2,  6,  5,  3,  0])"
            ]
          },
          "metadata": {
            "tags": []
          },
          "execution_count": 13
        }
      ]
    },
    {
      "cell_type": "code",
      "metadata": {
        "colab": {
          "base_uri": "https://localhost:8080/"
        },
        "id": "xpjuzVPBRtOA",
        "outputId": "0cbab4c4-263a-4c57-9327-b51df00ba1c1"
      },
      "source": [
        "df.followup_type.unique()"
      ],
      "execution_count": null,
      "outputs": [
        {
          "output_type": "execute_result",
          "data": {
            "text/plain": [
              "array(['calls', 'emails', 'textmessages'], dtype=object)"
            ]
          },
          "metadata": {
            "tags": []
          },
          "execution_count": 14
        }
      ]
    },
    {
      "cell_type": "code",
      "metadata": {
        "id": "c9EQVU3rRtcj"
      },
      "source": [
        "#handling Categorical values \n",
        "df.followup_type.replace(('calls','emails','textmessages'),(1,2,3),inplace=True)"
      ],
      "execution_count": null,
      "outputs": []
    },
    {
      "cell_type": "markdown",
      "metadata": {
        "id": "XNSweU2dmshz"
      },
      "source": [
        "# No. of Unique Lead each agent have: Feature 1"
      ]
    },
    {
      "cell_type": "code",
      "metadata": {
        "colab": {
          "base_uri": "https://localhost:8080/",
          "height": 407
        },
        "id": "T7YYp23PRtyz",
        "outputId": "6c6f386a-53c0-4f71-dcc5-090d3b758fb4"
      },
      "source": [
        "df_unique_lead=df[['agentId','leadId']]\n",
        "df_unique_lead=df_unique_lead.groupby(['agentId', 'leadId']).size().reset_index(name='lead_followup_count')\n",
        "df_unique_lead\n",
        "\n"
      ],
      "execution_count": null,
      "outputs": [
        {
          "output_type": "execute_result",
          "data": {
            "text/html": [
              "<div>\n",
              "<style scoped>\n",
              "    .dataframe tbody tr th:only-of-type {\n",
              "        vertical-align: middle;\n",
              "    }\n",
              "\n",
              "    .dataframe tbody tr th {\n",
              "        vertical-align: top;\n",
              "    }\n",
              "\n",
              "    .dataframe thead th {\n",
              "        text-align: right;\n",
              "    }\n",
              "</style>\n",
              "<table border=\"1\" class=\"dataframe\">\n",
              "  <thead>\n",
              "    <tr style=\"text-align: right;\">\n",
              "      <th></th>\n",
              "      <th>agentId</th>\n",
              "      <th>leadId</th>\n",
              "      <th>lead_followup_count</th>\n",
              "    </tr>\n",
              "  </thead>\n",
              "  <tbody>\n",
              "    <tr>\n",
              "      <th>0</th>\n",
              "      <td>0</td>\n",
              "      <td>2408</td>\n",
              "      <td>7</td>\n",
              "    </tr>\n",
              "    <tr>\n",
              "      <th>1</th>\n",
              "      <td>0</td>\n",
              "      <td>55289</td>\n",
              "      <td>2</td>\n",
              "    </tr>\n",
              "    <tr>\n",
              "      <th>2</th>\n",
              "      <td>0</td>\n",
              "      <td>56731</td>\n",
              "      <td>13</td>\n",
              "    </tr>\n",
              "    <tr>\n",
              "      <th>3</th>\n",
              "      <td>0</td>\n",
              "      <td>60730</td>\n",
              "      <td>82</td>\n",
              "    </tr>\n",
              "    <tr>\n",
              "      <th>4</th>\n",
              "      <td>0</td>\n",
              "      <td>61034</td>\n",
              "      <td>11</td>\n",
              "    </tr>\n",
              "    <tr>\n",
              "      <th>...</th>\n",
              "      <td>...</td>\n",
              "      <td>...</td>\n",
              "      <td>...</td>\n",
              "    </tr>\n",
              "    <tr>\n",
              "      <th>6798</th>\n",
              "      <td>10</td>\n",
              "      <td>62423</td>\n",
              "      <td>6</td>\n",
              "    </tr>\n",
              "    <tr>\n",
              "      <th>6799</th>\n",
              "      <td>10</td>\n",
              "      <td>62591</td>\n",
              "      <td>1</td>\n",
              "    </tr>\n",
              "    <tr>\n",
              "      <th>6800</th>\n",
              "      <td>10</td>\n",
              "      <td>62630</td>\n",
              "      <td>1</td>\n",
              "    </tr>\n",
              "    <tr>\n",
              "      <th>6801</th>\n",
              "      <td>10</td>\n",
              "      <td>62781</td>\n",
              "      <td>125</td>\n",
              "    </tr>\n",
              "    <tr>\n",
              "      <th>6802</th>\n",
              "      <td>10</td>\n",
              "      <td>63511</td>\n",
              "      <td>8</td>\n",
              "    </tr>\n",
              "  </tbody>\n",
              "</table>\n",
              "<p>6803 rows × 3 columns</p>\n",
              "</div>"
            ],
            "text/plain": [
              "      agentId  leadId  lead_followup_count\n",
              "0           0    2408                    7\n",
              "1           0   55289                    2\n",
              "2           0   56731                   13\n",
              "3           0   60730                   82\n",
              "4           0   61034                   11\n",
              "...       ...     ...                  ...\n",
              "6798       10   62423                    6\n",
              "6799       10   62591                    1\n",
              "6800       10   62630                    1\n",
              "6801       10   62781                  125\n",
              "6802       10   63511                    8\n",
              "\n",
              "[6803 rows x 3 columns]"
            ]
          },
          "metadata": {
            "tags": []
          },
          "execution_count": 353
        }
      ]
    },
    {
      "cell_type": "code",
      "metadata": {
        "id": "EA0p5D67Rt7o"
      },
      "source": [
        "df_agent_lead=df_unique_lead.reset_index()"
      ],
      "execution_count": null,
      "outputs": []
    },
    {
      "cell_type": "code",
      "metadata": {
        "colab": {
          "base_uri": "https://localhost:8080/",
          "height": 524
        },
        "id": "yVKtv0MoRuEF",
        "outputId": "bbe0ae5e-cdb6-4d55-9090-a462c5733f2c"
      },
      "source": [
        "#no. of unique leads per agent_graph\n",
        "sns.countplot(df_agent_lead['agentId'])"
      ],
      "execution_count": null,
      "outputs": [
        {
          "output_type": "stream",
          "text": [
            "/usr/local/lib/python3.7/dist-packages/seaborn/_decorators.py:43: FutureWarning: Pass the following variable as a keyword arg: x. From version 0.12, the only valid positional argument will be `data`, and passing other arguments without an explicit keyword will result in an error or misinterpretation.\n",
            "  FutureWarning\n"
          ],
          "name": "stderr"
        },
        {
          "output_type": "execute_result",
          "data": {
            "text/plain": [
              "<matplotlib.axes._subplots.AxesSubplot at 0x7fd8489459d0>"
            ]
          },
          "metadata": {
            "tags": []
          },
          "execution_count": 355
        },
        {
          "output_type": "display_data",
          "data": {
            "image/png": "[encoded data removed]",
            "text/plain": [
              "<Figure size 640x480 with 1 Axes>"
            ]
          },
          "metadata": {
            "tags": []
          }
        }
      ]
    },
    {
      "cell_type": "code",
      "metadata": {
        "colab": {
          "base_uri": "https://localhost:8080/",
          "height": 348
        },
        "id": "j42nVga0psog",
        "outputId": "3cb09a72-147a-46a8-e4a6-408f9a1a067e"
      },
      "source": [
        "# Total_lead_count for each agentId \n",
        "df_agent_lead_count=df_agent_lead.groupby('agentId').size().reset_index(name='agent_lead_count')\n",
        "df_agent_lead_count"
      ],
      "execution_count": null,
      "outputs": [
        {
          "output_type": "execute_result",
          "data": {
            "text/html": [
              "<div>\n",
              "<style scoped>\n",
              "    .dataframe tbody tr th:only-of-type {\n",
              "        vertical-align: middle;\n",
              "    }\n",
              "\n",
              "    .dataframe tbody tr th {\n",
              "        vertical-align: top;\n",
              "    }\n",
              "\n",
              "    .dataframe thead th {\n",
              "        text-align: right;\n",
              "    }\n",
              "</style>\n",
              "<table border=\"1\" class=\"dataframe\">\n",
              "  <thead>\n",
              "    <tr style=\"text-align: right;\">\n",
              "      <th></th>\n",
              "      <th>agentId</th>\n",
              "      <th>agent_lead_count</th>\n",
              "    </tr>\n",
              "  </thead>\n",
              "  <tbody>\n",
              "    <tr>\n",
              "      <th>0</th>\n",
              "      <td>0</td>\n",
              "      <td>5</td>\n",
              "    </tr>\n",
              "    <tr>\n",
              "      <th>1</th>\n",
              "      <td>2</td>\n",
              "      <td>874</td>\n",
              "    </tr>\n",
              "    <tr>\n",
              "      <th>2</th>\n",
              "      <td>3</td>\n",
              "      <td>343</td>\n",
              "    </tr>\n",
              "    <tr>\n",
              "      <th>3</th>\n",
              "      <td>4</td>\n",
              "      <td>1599</td>\n",
              "    </tr>\n",
              "    <tr>\n",
              "      <th>4</th>\n",
              "      <td>5</td>\n",
              "      <td>398</td>\n",
              "    </tr>\n",
              "    <tr>\n",
              "      <th>5</th>\n",
              "      <td>6</td>\n",
              "      <td>351</td>\n",
              "    </tr>\n",
              "    <tr>\n",
              "      <th>6</th>\n",
              "      <td>7</td>\n",
              "      <td>364</td>\n",
              "    </tr>\n",
              "    <tr>\n",
              "      <th>7</th>\n",
              "      <td>8</td>\n",
              "      <td>568</td>\n",
              "    </tr>\n",
              "    <tr>\n",
              "      <th>8</th>\n",
              "      <td>9</td>\n",
              "      <td>876</td>\n",
              "    </tr>\n",
              "    <tr>\n",
              "      <th>9</th>\n",
              "      <td>10</td>\n",
              "      <td>1425</td>\n",
              "    </tr>\n",
              "  </tbody>\n",
              "</table>\n",
              "</div>"
            ],
            "text/plain": [
              "   agentId  agent_lead_count\n",
              "0        0                 5\n",
              "1        2               874\n",
              "2        3               343\n",
              "3        4              1599\n",
              "4        5               398\n",
              "5        6               351\n",
              "6        7               364\n",
              "7        8               568\n",
              "8        9               876\n",
              "9       10              1425"
            ]
          },
          "metadata": {
            "tags": []
          },
          "execution_count": 65
        }
      ]
    },
    {
      "cell_type": "markdown",
      "metadata": {
        "id": "G8S1huzBrcVU"
      },
      "source": [
        "# no. of followup per agent have: feature 2"
      ]
    },
    {
      "cell_type": "code",
      "metadata": {
        "colab": {
          "base_uri": "https://localhost:8080/",
          "height": 348
        },
        "id": "kR61EVIBr5Zz",
        "outputId": "c18c77f7-9b30-4a65-c5f0-adc5f645c1a6"
      },
      "source": [
        "# total followUp for each agentId\n",
        "total_followup_by_agent_df = df.groupby('agentId').size().reset_index(name='Total_followup')\n",
        "total_followup_by_agent_df"
      ],
      "execution_count": null,
      "outputs": [
        {
          "output_type": "execute_result",
          "data": {
            "text/html": [
              "<div>\n",
              "<style scoped>\n",
              "    .dataframe tbody tr th:only-of-type {\n",
              "        vertical-align: middle;\n",
              "    }\n",
              "\n",
              "    .dataframe tbody tr th {\n",
              "        vertical-align: top;\n",
              "    }\n",
              "\n",
              "    .dataframe thead th {\n",
              "        text-align: right;\n",
              "    }\n",
              "</style>\n",
              "<table border=\"1\" class=\"dataframe\">\n",
              "  <thead>\n",
              "    <tr style=\"text-align: right;\">\n",
              "      <th></th>\n",
              "      <th>agentId</th>\n",
              "      <th>Total_followup</th>\n",
              "    </tr>\n",
              "  </thead>\n",
              "  <tbody>\n",
              "    <tr>\n",
              "      <th>0</th>\n",
              "      <td>0</td>\n",
              "      <td>115</td>\n",
              "    </tr>\n",
              "    <tr>\n",
              "      <th>1</th>\n",
              "      <td>2</td>\n",
              "      <td>4086</td>\n",
              "    </tr>\n",
              "    <tr>\n",
              "      <th>2</th>\n",
              "      <td>3</td>\n",
              "      <td>529</td>\n",
              "    </tr>\n",
              "    <tr>\n",
              "      <th>3</th>\n",
              "      <td>4</td>\n",
              "      <td>15290</td>\n",
              "    </tr>\n",
              "    <tr>\n",
              "      <th>4</th>\n",
              "      <td>5</td>\n",
              "      <td>11241</td>\n",
              "    </tr>\n",
              "    <tr>\n",
              "      <th>5</th>\n",
              "      <td>6</td>\n",
              "      <td>5606</td>\n",
              "    </tr>\n",
              "    <tr>\n",
              "      <th>6</th>\n",
              "      <td>7</td>\n",
              "      <td>7819</td>\n",
              "    </tr>\n",
              "    <tr>\n",
              "      <th>7</th>\n",
              "      <td>8</td>\n",
              "      <td>2732</td>\n",
              "    </tr>\n",
              "    <tr>\n",
              "      <th>8</th>\n",
              "      <td>9</td>\n",
              "      <td>9281</td>\n",
              "    </tr>\n",
              "    <tr>\n",
              "      <th>9</th>\n",
              "      <td>10</td>\n",
              "      <td>11655</td>\n",
              "    </tr>\n",
              "  </tbody>\n",
              "</table>\n",
              "</div>"
            ],
            "text/plain": [
              "   agentId  Total_followup\n",
              "0        0             115\n",
              "1        2            4086\n",
              "2        3             529\n",
              "3        4           15290\n",
              "4        5           11241\n",
              "5        6            5606\n",
              "6        7            7819\n",
              "7        8            2732\n",
              "8        9            9281\n",
              "9       10           11655"
            ]
          },
          "metadata": {
            "tags": []
          },
          "execution_count": 56
        }
      ]
    },
    {
      "cell_type": "code",
      "metadata": {
        "colab": {
          "base_uri": "https://localhost:8080/"
        },
        "id": "_x0iPu0h1juq",
        "outputId": "dc426948-9943-49bd-a261-3092fe09c3aa"
      },
      "source": [
        "total_followup_by_agent_df.shape"
      ],
      "execution_count": null,
      "outputs": [
        {
          "output_type": "execute_result",
          "data": {
            "text/plain": [
              "(10, 2)"
            ]
          },
          "metadata": {
            "tags": []
          },
          "execution_count": 58
        }
      ]
    },
    {
      "cell_type": "code",
      "metadata": {
        "colab": {
          "base_uri": "https://localhost:8080/",
          "height": 265
        },
        "id": "QYR3MVq7Rtok",
        "outputId": "91224bd0-0e3f-41da-add3-53b8bade0e98"
      },
      "source": [
        "# no. of followup per agent have\n",
        "new_incoming_outgoing_graph = total_followup_by_agent_df.plot(kind='bar')"
      ],
      "execution_count": null,
      "outputs": [
        {
          "output_type": "display_data",
          "data": {
            "image/png": "[encoded data removed]",
            "text/plain": [
              "<Figure size 432x288 with 1 Axes>"
            ]
          },
          "metadata": {
            "tags": [],
            "needs_background": "light"
          }
        }
      ]
    },
    {
      "cell_type": "code",
      "metadata": {
        "colab": {
          "base_uri": "https://localhost:8080/",
          "height": 348
        },
        "id": "1RZ_u7wj04EP",
        "outputId": "f469f3eb-2bbc-4aa2-c738-cd68e5829a5d"
      },
      "source": [
        "total_followup_by_agent_df.reset_index()"
      ],
      "execution_count": null,
      "outputs": [
        {
          "output_type": "execute_result",
          "data": {
            "text/html": [
              "<div>\n",
              "<style scoped>\n",
              "    .dataframe tbody tr th:only-of-type {\n",
              "        vertical-align: middle;\n",
              "    }\n",
              "\n",
              "    .dataframe tbody tr th {\n",
              "        vertical-align: top;\n",
              "    }\n",
              "\n",
              "    .dataframe thead th {\n",
              "        text-align: right;\n",
              "    }\n",
              "</style>\n",
              "<table border=\"1\" class=\"dataframe\">\n",
              "  <thead>\n",
              "    <tr style=\"text-align: right;\">\n",
              "      <th></th>\n",
              "      <th>agentId</th>\n",
              "      <th>0</th>\n",
              "    </tr>\n",
              "  </thead>\n",
              "  <tbody>\n",
              "    <tr>\n",
              "      <th>0</th>\n",
              "      <td>0</td>\n",
              "      <td>115</td>\n",
              "    </tr>\n",
              "    <tr>\n",
              "      <th>1</th>\n",
              "      <td>2</td>\n",
              "      <td>4086</td>\n",
              "    </tr>\n",
              "    <tr>\n",
              "      <th>2</th>\n",
              "      <td>3</td>\n",
              "      <td>529</td>\n",
              "    </tr>\n",
              "    <tr>\n",
              "      <th>3</th>\n",
              "      <td>4</td>\n",
              "      <td>15290</td>\n",
              "    </tr>\n",
              "    <tr>\n",
              "      <th>4</th>\n",
              "      <td>5</td>\n",
              "      <td>11241</td>\n",
              "    </tr>\n",
              "    <tr>\n",
              "      <th>5</th>\n",
              "      <td>6</td>\n",
              "      <td>5606</td>\n",
              "    </tr>\n",
              "    <tr>\n",
              "      <th>6</th>\n",
              "      <td>7</td>\n",
              "      <td>7819</td>\n",
              "    </tr>\n",
              "    <tr>\n",
              "      <th>7</th>\n",
              "      <td>8</td>\n",
              "      <td>2732</td>\n",
              "    </tr>\n",
              "    <tr>\n",
              "      <th>8</th>\n",
              "      <td>9</td>\n",
              "      <td>9281</td>\n",
              "    </tr>\n",
              "    <tr>\n",
              "      <th>9</th>\n",
              "      <td>10</td>\n",
              "      <td>11655</td>\n",
              "    </tr>\n",
              "  </tbody>\n",
              "</table>\n",
              "</div>"
            ],
            "text/plain": [
              "   agentId      0\n",
              "0        0    115\n",
              "1        2   4086\n",
              "2        3    529\n",
              "3        4  15290\n",
              "4        5  11241\n",
              "5        6   5606\n",
              "6        7   7819\n",
              "7        8   2732\n",
              "8        9   9281\n",
              "9       10  11655"
            ]
          },
          "metadata": {
            "tags": []
          },
          "execution_count": 55
        }
      ]
    },
    {
      "cell_type": "markdown",
      "metadata": {
        "id": "s9E7asSVi12d"
      },
      "source": [
        "#Merging feature 1 and feature 2 in common DataFrame"
      ]
    },
    {
      "cell_type": "code",
      "metadata": {
        "colab": {
          "base_uri": "https://localhost:8080/",
          "height": 216
        },
        "id": "VUPIkmB3429n",
        "outputId": "698c2513-3f22-4c52-8ffa-711f607d6bb1"
      },
      "source": [
        "final_df_till_2_feature=pd.merge(df_agent_lead_count,total_followup_by_agent_df.drop_duplicates(['agentId']),how=\"outer\") \n",
        "print(final_df_till_2_feature.shape)\n",
        "final_df_till_2_feature.head()"
      ],
      "execution_count": null,
      "outputs": [
        {
          "output_type": "stream",
          "text": [
            "(10, 3)\n"
          ],
          "name": "stdout"
        },
        {
          "output_type": "execute_result",
          "data": {
            "text/html": [
              "<div>\n",
              "<style scoped>\n",
              "    .dataframe tbody tr th:only-of-type {\n",
              "        vertical-align: middle;\n",
              "    }\n",
              "\n",
              "    .dataframe tbody tr th {\n",
              "        vertical-align: top;\n",
              "    }\n",
              "\n",
              "    .dataframe thead th {\n",
              "        text-align: right;\n",
              "    }\n",
              "</style>\n",
              "<table border=\"1\" class=\"dataframe\">\n",
              "  <thead>\n",
              "    <tr style=\"text-align: right;\">\n",
              "      <th></th>\n",
              "      <th>agentId</th>\n",
              "      <th>agent_lead_count</th>\n",
              "      <th>Total_followup</th>\n",
              "    </tr>\n",
              "  </thead>\n",
              "  <tbody>\n",
              "    <tr>\n",
              "      <th>0</th>\n",
              "      <td>0</td>\n",
              "      <td>5</td>\n",
              "      <td>115</td>\n",
              "    </tr>\n",
              "    <tr>\n",
              "      <th>1</th>\n",
              "      <td>2</td>\n",
              "      <td>874</td>\n",
              "      <td>4086</td>\n",
              "    </tr>\n",
              "    <tr>\n",
              "      <th>2</th>\n",
              "      <td>3</td>\n",
              "      <td>343</td>\n",
              "      <td>529</td>\n",
              "    </tr>\n",
              "    <tr>\n",
              "      <th>3</th>\n",
              "      <td>4</td>\n",
              "      <td>1599</td>\n",
              "      <td>15290</td>\n",
              "    </tr>\n",
              "    <tr>\n",
              "      <th>4</th>\n",
              "      <td>5</td>\n",
              "      <td>398</td>\n",
              "      <td>11241</td>\n",
              "    </tr>\n",
              "  </tbody>\n",
              "</table>\n",
              "</div>"
            ],
            "text/plain": [
              "   agentId  agent_lead_count  Total_followup\n",
              "0        0                 5             115\n",
              "1        2               874            4086\n",
              "2        3               343             529\n",
              "3        4              1599           15290\n",
              "4        5               398           11241"
            ]
          },
          "metadata": {
            "tags": []
          },
          "execution_count": 66
        }
      ]
    },
    {
      "cell_type": "markdown",
      "metadata": {
        "id": "q1b-BvrqsdT2"
      },
      "source": [
        "# graph for incoming and outgoing per agent have:feature 3\n",
        "\n"
      ]
    },
    {
      "cell_type": "code",
      "metadata": {
        "colab": {
          "base_uri": "https://localhost:8080/",
          "height": 407
        },
        "id": "4o2DJVWEtmYm",
        "outputId": "f6f61beb-85a5-4fae-ca4c-0b77b7ec0cea"
      },
      "source": [
        "df_is_incoming=pd.get_dummies(df['is_incoming'])\n",
        "df_is_incoming"
      ],
      "execution_count": null,
      "outputs": [
        {
          "output_type": "execute_result",
          "data": {
            "text/html": [
              "<div>\n",
              "<style scoped>\n",
              "    .dataframe tbody tr th:only-of-type {\n",
              "        vertical-align: middle;\n",
              "    }\n",
              "\n",
              "    .dataframe tbody tr th {\n",
              "        vertical-align: top;\n",
              "    }\n",
              "\n",
              "    .dataframe thead th {\n",
              "        text-align: right;\n",
              "    }\n",
              "</style>\n",
              "<table border=\"1\" class=\"dataframe\">\n",
              "  <thead>\n",
              "    <tr style=\"text-align: right;\">\n",
              "      <th></th>\n",
              "      <th>False</th>\n",
              "      <th>True</th>\n",
              "    </tr>\n",
              "  </thead>\n",
              "  <tbody>\n",
              "    <tr>\n",
              "      <th>0</th>\n",
              "      <td>1</td>\n",
              "      <td>0</td>\n",
              "    </tr>\n",
              "    <tr>\n",
              "      <th>1</th>\n",
              "      <td>1</td>\n",
              "      <td>0</td>\n",
              "    </tr>\n",
              "    <tr>\n",
              "      <th>2</th>\n",
              "      <td>1</td>\n",
              "      <td>0</td>\n",
              "    </tr>\n",
              "    <tr>\n",
              "      <th>3</th>\n",
              "      <td>1</td>\n",
              "      <td>0</td>\n",
              "    </tr>\n",
              "    <tr>\n",
              "      <th>4</th>\n",
              "      <td>1</td>\n",
              "      <td>0</td>\n",
              "    </tr>\n",
              "    <tr>\n",
              "      <th>...</th>\n",
              "      <td>...</td>\n",
              "      <td>...</td>\n",
              "    </tr>\n",
              "    <tr>\n",
              "      <th>68349</th>\n",
              "      <td>0</td>\n",
              "      <td>1</td>\n",
              "    </tr>\n",
              "    <tr>\n",
              "      <th>68350</th>\n",
              "      <td>1</td>\n",
              "      <td>0</td>\n",
              "    </tr>\n",
              "    <tr>\n",
              "      <th>68351</th>\n",
              "      <td>1</td>\n",
              "      <td>0</td>\n",
              "    </tr>\n",
              "    <tr>\n",
              "      <th>68352</th>\n",
              "      <td>1</td>\n",
              "      <td>0</td>\n",
              "    </tr>\n",
              "    <tr>\n",
              "      <th>68353</th>\n",
              "      <td>1</td>\n",
              "      <td>0</td>\n",
              "    </tr>\n",
              "  </tbody>\n",
              "</table>\n",
              "<p>68354 rows × 2 columns</p>\n",
              "</div>"
            ],
            "text/plain": [
              "       False  True \n",
              "0          1      0\n",
              "1          1      0\n",
              "2          1      0\n",
              "3          1      0\n",
              "4          1      0\n",
              "...      ...    ...\n",
              "68349      0      1\n",
              "68350      1      0\n",
              "68351      1      0\n",
              "68352      1      0\n",
              "68353      1      0\n",
              "\n",
              "[68354 rows x 2 columns]"
            ]
          },
          "metadata": {
            "tags": []
          },
          "execution_count": 84
        }
      ]
    },
    {
      "cell_type": "code",
      "metadata": {
        "id": "XAPVudDjuUzn"
      },
      "source": [
        "df_is_incoming.columns = ['outgoing', 'incoming']"
      ],
      "execution_count": null,
      "outputs": []
    },
    {
      "cell_type": "code",
      "metadata": {
        "colab": {
          "base_uri": "https://localhost:8080/",
          "height": 580
        },
        "id": "kfpLuBZetXrt",
        "outputId": "d92e1e62-b987-45ec-e6bc-4d430decfe51"
      },
      "source": [
        "feature_3_df= pd.concat([df,df_is_incoming],axis=1)\n",
        "feature_3_df"
      ],
      "execution_count": null,
      "outputs": [
        {
          "output_type": "execute_result",
          "data": {
            "text/html": [
              "<div>\n",
              "<style scoped>\n",
              "    .dataframe tbody tr th:only-of-type {\n",
              "        vertical-align: middle;\n",
              "    }\n",
              "\n",
              "    .dataframe tbody tr th {\n",
              "        vertical-align: top;\n",
              "    }\n",
              "\n",
              "    .dataframe thead th {\n",
              "        text-align: right;\n",
              "    }\n",
              "</style>\n",
              "<table border=\"1\" class=\"dataframe\">\n",
              "  <thead>\n",
              "    <tr style=\"text-align: right;\">\n",
              "      <th></th>\n",
              "      <th>id</th>\n",
              "      <th>followup_date</th>\n",
              "      <th>lead_created_at</th>\n",
              "      <th>leadId</th>\n",
              "      <th>followup_type</th>\n",
              "      <th>agentId</th>\n",
              "      <th>additional_data</th>\n",
              "      <th>duration</th>\n",
              "      <th>is_incoming</th>\n",
              "      <th>outgoing</th>\n",
              "      <th>incoming</th>\n",
              "    </tr>\n",
              "  </thead>\n",
              "  <tbody>\n",
              "    <tr>\n",
              "      <th>0</th>\n",
              "      <td>1</td>\n",
              "      <td>2020-03-05 14:38:54</td>\n",
              "      <td>2019-11-04 16:12:00-05:00</td>\n",
              "      <td>20293</td>\n",
              "      <td>1</td>\n",
              "      <td>10</td>\n",
              "      <td>{\"duration\": 0, \"is_incoming\": False}</td>\n",
              "      <td>0</td>\n",
              "      <td>False</td>\n",
              "      <td>1</td>\n",
              "      <td>0</td>\n",
              "    </tr>\n",
              "    <tr>\n",
              "      <th>1</th>\n",
              "      <td>2</td>\n",
              "      <td>2020-03-05 14:38:55</td>\n",
              "      <td>2019-11-04 16:12:00-05:00</td>\n",
              "      <td>20293</td>\n",
              "      <td>1</td>\n",
              "      <td>10</td>\n",
              "      <td>{\"duration\": 0, \"is_incoming\" : False}</td>\n",
              "      <td>0</td>\n",
              "      <td>False</td>\n",
              "      <td>1</td>\n",
              "      <td>0</td>\n",
              "    </tr>\n",
              "    <tr>\n",
              "      <th>2</th>\n",
              "      <td>3</td>\n",
              "      <td>2020-01-06 19:11:39</td>\n",
              "      <td>2019-12-26 08:30:32-05:00</td>\n",
              "      <td>49122</td>\n",
              "      <td>1</td>\n",
              "      <td>4</td>\n",
              "      <td>{'duration': 91, 'is_incoming': False}</td>\n",
              "      <td>91</td>\n",
              "      <td>False</td>\n",
              "      <td>1</td>\n",
              "      <td>0</td>\n",
              "    </tr>\n",
              "    <tr>\n",
              "      <th>3</th>\n",
              "      <td>4</td>\n",
              "      <td>2020-08-31 13:12:53</td>\n",
              "      <td>2020-08-30 19:39:18-04:00</td>\n",
              "      <td>58040</td>\n",
              "      <td>1</td>\n",
              "      <td>9</td>\n",
              "      <td>{'duration': 0, 'is_incoming': False}</td>\n",
              "      <td>0</td>\n",
              "      <td>False</td>\n",
              "      <td>1</td>\n",
              "      <td>0</td>\n",
              "    </tr>\n",
              "    <tr>\n",
              "      <th>4</th>\n",
              "      <td>5</td>\n",
              "      <td>2020-10-14 14:47:23</td>\n",
              "      <td>2017-01-28 11:04:00-05:00</td>\n",
              "      <td>36567</td>\n",
              "      <td>1</td>\n",
              "      <td>9</td>\n",
              "      <td>{'duration': 0, 'is_incoming': False}</td>\n",
              "      <td>0</td>\n",
              "      <td>False</td>\n",
              "      <td>1</td>\n",
              "      <td>0</td>\n",
              "    </tr>\n",
              "    <tr>\n",
              "      <th>...</th>\n",
              "      <td>...</td>\n",
              "      <td>...</td>\n",
              "      <td>...</td>\n",
              "      <td>...</td>\n",
              "      <td>...</td>\n",
              "      <td>...</td>\n",
              "      <td>...</td>\n",
              "      <td>...</td>\n",
              "      <td>...</td>\n",
              "      <td>...</td>\n",
              "      <td>...</td>\n",
              "    </tr>\n",
              "    <tr>\n",
              "      <th>68349</th>\n",
              "      <td>68350</td>\n",
              "      <td>2020-03-11 21:10:18</td>\n",
              "      <td>2018-03-17 09:09:00-04:00</td>\n",
              "      <td>31965</td>\n",
              "      <td>3</td>\n",
              "      <td>4</td>\n",
              "      <td>{'is_incoming': True}</td>\n",
              "      <td>0</td>\n",
              "      <td>True</td>\n",
              "      <td>0</td>\n",
              "      <td>1</td>\n",
              "    </tr>\n",
              "    <tr>\n",
              "      <th>68350</th>\n",
              "      <td>68351</td>\n",
              "      <td>2020-03-11 21:11:12</td>\n",
              "      <td>2018-03-17 09:09:00-04:00</td>\n",
              "      <td>31965</td>\n",
              "      <td>3</td>\n",
              "      <td>4</td>\n",
              "      <td>{'is_incoming': False}</td>\n",
              "      <td>0</td>\n",
              "      <td>False</td>\n",
              "      <td>1</td>\n",
              "      <td>0</td>\n",
              "    </tr>\n",
              "    <tr>\n",
              "      <th>68351</th>\n",
              "      <td>68352</td>\n",
              "      <td>2020-03-20 17:08:10</td>\n",
              "      <td>2018-03-17 09:09:00-04:00</td>\n",
              "      <td>31965</td>\n",
              "      <td>3</td>\n",
              "      <td>4</td>\n",
              "      <td>{'is_incoming': False}</td>\n",
              "      <td>0</td>\n",
              "      <td>False</td>\n",
              "      <td>1</td>\n",
              "      <td>0</td>\n",
              "    </tr>\n",
              "    <tr>\n",
              "      <th>68352</th>\n",
              "      <td>68353</td>\n",
              "      <td>2020-06-05 15:24:48</td>\n",
              "      <td>2017-12-05 05:10:00-05:00</td>\n",
              "      <td>27972</td>\n",
              "      <td>3</td>\n",
              "      <td>7</td>\n",
              "      <td>{'is_incoming': False}</td>\n",
              "      <td>0</td>\n",
              "      <td>False</td>\n",
              "      <td>1</td>\n",
              "      <td>0</td>\n",
              "    </tr>\n",
              "    <tr>\n",
              "      <th>68353</th>\n",
              "      <td>68354</td>\n",
              "      <td>2020-01-22 20:26:54</td>\n",
              "      <td>2019-07-16 09:56:00-04:00</td>\n",
              "      <td>16281</td>\n",
              "      <td>3</td>\n",
              "      <td>4</td>\n",
              "      <td>{'is_incoming': False}</td>\n",
              "      <td>0</td>\n",
              "      <td>False</td>\n",
              "      <td>1</td>\n",
              "      <td>0</td>\n",
              "    </tr>\n",
              "  </tbody>\n",
              "</table>\n",
              "<p>68354 rows × 11 columns</p>\n",
              "</div>"
            ],
            "text/plain": [
              "          id        followup_date  ... outgoing  incoming\n",
              "0          1  2020-03-05 14:38:54  ...        1         0\n",
              "1          2  2020-03-05 14:38:55  ...        1         0\n",
              "2          3  2020-01-06 19:11:39  ...        1         0\n",
              "3          4  2020-08-31 13:12:53  ...        1         0\n",
              "4          5  2020-10-14 14:47:23  ...        1         0\n",
              "...      ...                  ...  ...      ...       ...\n",
              "68349  68350  2020-03-11 21:10:18  ...        0         1\n",
              "68350  68351  2020-03-11 21:11:12  ...        1         0\n",
              "68351  68352  2020-03-20 17:08:10  ...        1         0\n",
              "68352  68353  2020-06-05 15:24:48  ...        1         0\n",
              "68353  68354  2020-01-22 20:26:54  ...        1         0\n",
              "\n",
              "[68354 rows x 11 columns]"
            ]
          },
          "metadata": {
            "tags": []
          },
          "execution_count": 198
        }
      ]
    },
    {
      "cell_type": "code",
      "metadata": {
        "colab": {
          "base_uri": "https://localhost:8080/",
          "height": 618
        },
        "id": "lKeYcruMtH0O",
        "outputId": "9d83ce54-4593-468a-9731-6c8959d6bb5d"
      },
      "source": [
        "feature_3_df_count=feature_3_df.groupby(['agentId', 'outgoing', 'incoming']).size().reset_index(name='counts')\n",
        "feature_3_df_count\n",
        "\n"
      ],
      "execution_count": null,
      "outputs": [
        {
          "output_type": "execute_result",
          "data": {
            "text/html": [
              "<div>\n",
              "<style scoped>\n",
              "    .dataframe tbody tr th:only-of-type {\n",
              "        vertical-align: middle;\n",
              "    }\n",
              "\n",
              "    .dataframe tbody tr th {\n",
              "        vertical-align: top;\n",
              "    }\n",
              "\n",
              "    .dataframe thead th {\n",
              "        text-align: right;\n",
              "    }\n",
              "</style>\n",
              "<table border=\"1\" class=\"dataframe\">\n",
              "  <thead>\n",
              "    <tr style=\"text-align: right;\">\n",
              "      <th></th>\n",
              "      <th>agentId</th>\n",
              "      <th>outgoing</th>\n",
              "      <th>incoming</th>\n",
              "      <th>counts</th>\n",
              "    </tr>\n",
              "  </thead>\n",
              "  <tbody>\n",
              "    <tr>\n",
              "      <th>0</th>\n",
              "      <td>0</td>\n",
              "      <td>0</td>\n",
              "      <td>1</td>\n",
              "      <td>115</td>\n",
              "    </tr>\n",
              "    <tr>\n",
              "      <th>1</th>\n",
              "      <td>2</td>\n",
              "      <td>0</td>\n",
              "      <td>1</td>\n",
              "      <td>341</td>\n",
              "    </tr>\n",
              "    <tr>\n",
              "      <th>2</th>\n",
              "      <td>2</td>\n",
              "      <td>1</td>\n",
              "      <td>0</td>\n",
              "      <td>3745</td>\n",
              "    </tr>\n",
              "    <tr>\n",
              "      <th>3</th>\n",
              "      <td>3</td>\n",
              "      <td>0</td>\n",
              "      <td>1</td>\n",
              "      <td>24</td>\n",
              "    </tr>\n",
              "    <tr>\n",
              "      <th>4</th>\n",
              "      <td>3</td>\n",
              "      <td>1</td>\n",
              "      <td>0</td>\n",
              "      <td>505</td>\n",
              "    </tr>\n",
              "    <tr>\n",
              "      <th>5</th>\n",
              "      <td>4</td>\n",
              "      <td>0</td>\n",
              "      <td>1</td>\n",
              "      <td>3405</td>\n",
              "    </tr>\n",
              "    <tr>\n",
              "      <th>6</th>\n",
              "      <td>4</td>\n",
              "      <td>1</td>\n",
              "      <td>0</td>\n",
              "      <td>11885</td>\n",
              "    </tr>\n",
              "    <tr>\n",
              "      <th>7</th>\n",
              "      <td>5</td>\n",
              "      <td>0</td>\n",
              "      <td>1</td>\n",
              "      <td>133</td>\n",
              "    </tr>\n",
              "    <tr>\n",
              "      <th>8</th>\n",
              "      <td>5</td>\n",
              "      <td>1</td>\n",
              "      <td>0</td>\n",
              "      <td>11108</td>\n",
              "    </tr>\n",
              "    <tr>\n",
              "      <th>9</th>\n",
              "      <td>6</td>\n",
              "      <td>0</td>\n",
              "      <td>1</td>\n",
              "      <td>2257</td>\n",
              "    </tr>\n",
              "    <tr>\n",
              "      <th>10</th>\n",
              "      <td>6</td>\n",
              "      <td>1</td>\n",
              "      <td>0</td>\n",
              "      <td>3349</td>\n",
              "    </tr>\n",
              "    <tr>\n",
              "      <th>11</th>\n",
              "      <td>7</td>\n",
              "      <td>0</td>\n",
              "      <td>1</td>\n",
              "      <td>4711</td>\n",
              "    </tr>\n",
              "    <tr>\n",
              "      <th>12</th>\n",
              "      <td>7</td>\n",
              "      <td>1</td>\n",
              "      <td>0</td>\n",
              "      <td>3108</td>\n",
              "    </tr>\n",
              "    <tr>\n",
              "      <th>13</th>\n",
              "      <td>8</td>\n",
              "      <td>0</td>\n",
              "      <td>1</td>\n",
              "      <td>160</td>\n",
              "    </tr>\n",
              "    <tr>\n",
              "      <th>14</th>\n",
              "      <td>8</td>\n",
              "      <td>1</td>\n",
              "      <td>0</td>\n",
              "      <td>2572</td>\n",
              "    </tr>\n",
              "    <tr>\n",
              "      <th>15</th>\n",
              "      <td>9</td>\n",
              "      <td>0</td>\n",
              "      <td>1</td>\n",
              "      <td>2215</td>\n",
              "    </tr>\n",
              "    <tr>\n",
              "      <th>16</th>\n",
              "      <td>9</td>\n",
              "      <td>1</td>\n",
              "      <td>0</td>\n",
              "      <td>7066</td>\n",
              "    </tr>\n",
              "    <tr>\n",
              "      <th>17</th>\n",
              "      <td>10</td>\n",
              "      <td>0</td>\n",
              "      <td>1</td>\n",
              "      <td>3780</td>\n",
              "    </tr>\n",
              "    <tr>\n",
              "      <th>18</th>\n",
              "      <td>10</td>\n",
              "      <td>1</td>\n",
              "      <td>0</td>\n",
              "      <td>7875</td>\n",
              "    </tr>\n",
              "  </tbody>\n",
              "</table>\n",
              "</div>"
            ],
            "text/plain": [
              "    agentId  outgoing  incoming  counts\n",
              "0         0         0         1     115\n",
              "1         2         0         1     341\n",
              "2         2         1         0    3745\n",
              "3         3         0         1      24\n",
              "4         3         1         0     505\n",
              "5         4         0         1    3405\n",
              "6         4         1         0   11885\n",
              "7         5         0         1     133\n",
              "8         5         1         0   11108\n",
              "9         6         0         1    2257\n",
              "10        6         1         0    3349\n",
              "11        7         0         1    4711\n",
              "12        7         1         0    3108\n",
              "13        8         0         1     160\n",
              "14        8         1         0    2572\n",
              "15        9         0         1    2215\n",
              "16        9         1         0    7066\n",
              "17       10         0         1    3780\n",
              "18       10         1         0    7875"
            ]
          },
          "metadata": {
            "tags": []
          },
          "execution_count": 199
        }
      ]
    },
    {
      "cell_type": "code",
      "metadata": {
        "colab": {
          "base_uri": "https://localhost:8080/",
          "height": 618
        },
        "id": "8q_4HoLe6V-E",
        "outputId": "3c21d6ba-228e-432d-a164-dad199f74abd"
      },
      "source": [
        "feature_3_df_incoming_count=feature_3_df.groupby(['agentId', 'incoming']).size().reset_index(name='incoming_counts')\n",
        "feature_3_df_incoming_count"
      ],
      "execution_count": null,
      "outputs": [
        {
          "output_type": "execute_result",
          "data": {
            "text/html": [
              "<div>\n",
              "<style scoped>\n",
              "    .dataframe tbody tr th:only-of-type {\n",
              "        vertical-align: middle;\n",
              "    }\n",
              "\n",
              "    .dataframe tbody tr th {\n",
              "        vertical-align: top;\n",
              "    }\n",
              "\n",
              "    .dataframe thead th {\n",
              "        text-align: right;\n",
              "    }\n",
              "</style>\n",
              "<table border=\"1\" class=\"dataframe\">\n",
              "  <thead>\n",
              "    <tr style=\"text-align: right;\">\n",
              "      <th></th>\n",
              "      <th>agentId</th>\n",
              "      <th>incoming</th>\n",
              "      <th>incoming_counts</th>\n",
              "    </tr>\n",
              "  </thead>\n",
              "  <tbody>\n",
              "    <tr>\n",
              "      <th>0</th>\n",
              "      <td>0</td>\n",
              "      <td>1</td>\n",
              "      <td>115</td>\n",
              "    </tr>\n",
              "    <tr>\n",
              "      <th>1</th>\n",
              "      <td>2</td>\n",
              "      <td>0</td>\n",
              "      <td>3745</td>\n",
              "    </tr>\n",
              "    <tr>\n",
              "      <th>2</th>\n",
              "      <td>2</td>\n",
              "      <td>1</td>\n",
              "      <td>341</td>\n",
              "    </tr>\n",
              "    <tr>\n",
              "      <th>3</th>\n",
              "      <td>3</td>\n",
              "      <td>0</td>\n",
              "      <td>505</td>\n",
              "    </tr>\n",
              "    <tr>\n",
              "      <th>4</th>\n",
              "      <td>3</td>\n",
              "      <td>1</td>\n",
              "      <td>24</td>\n",
              "    </tr>\n",
              "    <tr>\n",
              "      <th>5</th>\n",
              "      <td>4</td>\n",
              "      <td>0</td>\n",
              "      <td>11885</td>\n",
              "    </tr>\n",
              "    <tr>\n",
              "      <th>6</th>\n",
              "      <td>4</td>\n",
              "      <td>1</td>\n",
              "      <td>3405</td>\n",
              "    </tr>\n",
              "    <tr>\n",
              "      <th>7</th>\n",
              "      <td>5</td>\n",
              "      <td>0</td>\n",
              "      <td>11108</td>\n",
              "    </tr>\n",
              "    <tr>\n",
              "      <th>8</th>\n",
              "      <td>5</td>\n",
              "      <td>1</td>\n",
              "      <td>133</td>\n",
              "    </tr>\n",
              "    <tr>\n",
              "      <th>9</th>\n",
              "      <td>6</td>\n",
              "      <td>0</td>\n",
              "      <td>3349</td>\n",
              "    </tr>\n",
              "    <tr>\n",
              "      <th>10</th>\n",
              "      <td>6</td>\n",
              "      <td>1</td>\n",
              "      <td>2257</td>\n",
              "    </tr>\n",
              "    <tr>\n",
              "      <th>11</th>\n",
              "      <td>7</td>\n",
              "      <td>0</td>\n",
              "      <td>3108</td>\n",
              "    </tr>\n",
              "    <tr>\n",
              "      <th>12</th>\n",
              "      <td>7</td>\n",
              "      <td>1</td>\n",
              "      <td>4711</td>\n",
              "    </tr>\n",
              "    <tr>\n",
              "      <th>13</th>\n",
              "      <td>8</td>\n",
              "      <td>0</td>\n",
              "      <td>2572</td>\n",
              "    </tr>\n",
              "    <tr>\n",
              "      <th>14</th>\n",
              "      <td>8</td>\n",
              "      <td>1</td>\n",
              "      <td>160</td>\n",
              "    </tr>\n",
              "    <tr>\n",
              "      <th>15</th>\n",
              "      <td>9</td>\n",
              "      <td>0</td>\n",
              "      <td>7066</td>\n",
              "    </tr>\n",
              "    <tr>\n",
              "      <th>16</th>\n",
              "      <td>9</td>\n",
              "      <td>1</td>\n",
              "      <td>2215</td>\n",
              "    </tr>\n",
              "    <tr>\n",
              "      <th>17</th>\n",
              "      <td>10</td>\n",
              "      <td>0</td>\n",
              "      <td>7875</td>\n",
              "    </tr>\n",
              "    <tr>\n",
              "      <th>18</th>\n",
              "      <td>10</td>\n",
              "      <td>1</td>\n",
              "      <td>3780</td>\n",
              "    </tr>\n",
              "  </tbody>\n",
              "</table>\n",
              "</div>"
            ],
            "text/plain": [
              "    agentId  incoming  incoming_counts\n",
              "0         0         1              115\n",
              "1         2         0             3745\n",
              "2         2         1              341\n",
              "3         3         0              505\n",
              "4         3         1               24\n",
              "5         4         0            11885\n",
              "6         4         1             3405\n",
              "7         5         0            11108\n",
              "8         5         1              133\n",
              "9         6         0             3349\n",
              "10        6         1             2257\n",
              "11        7         0             3108\n",
              "12        7         1             4711\n",
              "13        8         0             2572\n",
              "14        8         1              160\n",
              "15        9         0             7066\n",
              "16        9         1             2215\n",
              "17       10         0             7875\n",
              "18       10         1             3780"
            ]
          },
          "metadata": {
            "tags": []
          },
          "execution_count": 200
        }
      ]
    },
    {
      "cell_type": "code",
      "metadata": {
        "colab": {
          "base_uri": "https://localhost:8080/",
          "height": 300
        },
        "id": "v4ie6Z41RuHM",
        "outputId": "5de1b15b-40d0-41c4-faff-2842d7664cad"
      },
      "source": [
        "# graph for incoming and outgoing per agent have\n",
        "feature_3_df.groupby(['agentId', 'is_incoming' ]).size().unstack(level=1).plot(kind='bar')\n",
        "plt.legend(['outgoing', 'incoming'], loc='upper right')\n"
      ],
      "execution_count": null,
      "outputs": [
        {
          "output_type": "execute_result",
          "data": {
            "text/plain": [
              "<matplotlib.legend.Legend at 0x7fd85bb08450>"
            ]
          },
          "metadata": {
            "tags": []
          },
          "execution_count": 201
        },
        {
          "output_type": "display_data",
          "data": {
            "image/png": "[encoded data removed]",
            "text/plain": [
              "<Figure size 432x288 with 1 Axes>"
            ]
          },
          "metadata": {
            "tags": [],
            "needs_background": "light"
          }
        }
      ]
    },
    {
      "cell_type": "code",
      "metadata": {
        "id": "E3in9J0AAgUO",
        "colab": {
          "base_uri": "https://localhost:8080/",
          "height": 580
        },
        "outputId": "e08a48c7-8dfc-462b-c134-85c3f13a398d"
      },
      "source": [
        " feature_3_df"
      ],
      "execution_count": null,
      "outputs": [
        {
          "output_type": "execute_result",
          "data": {
            "text/html": [
              "<div>\n",
              "<style scoped>\n",
              "    .dataframe tbody tr th:only-of-type {\n",
              "        vertical-align: middle;\n",
              "    }\n",
              "\n",
              "    .dataframe tbody tr th {\n",
              "        vertical-align: top;\n",
              "    }\n",
              "\n",
              "    .dataframe thead th {\n",
              "        text-align: right;\n",
              "    }\n",
              "</style>\n",
              "<table border=\"1\" class=\"dataframe\">\n",
              "  <thead>\n",
              "    <tr style=\"text-align: right;\">\n",
              "      <th></th>\n",
              "      <th>id</th>\n",
              "      <th>followup_date</th>\n",
              "      <th>lead_created_at</th>\n",
              "      <th>leadId</th>\n",
              "      <th>followup_type</th>\n",
              "      <th>agentId</th>\n",
              "      <th>additional_data</th>\n",
              "      <th>duration</th>\n",
              "      <th>is_incoming</th>\n",
              "      <th>outgoing</th>\n",
              "      <th>incoming</th>\n",
              "    </tr>\n",
              "  </thead>\n",
              "  <tbody>\n",
              "    <tr>\n",
              "      <th>0</th>\n",
              "      <td>1</td>\n",
              "      <td>2020-03-05 14:38:54</td>\n",
              "      <td>2019-11-04 16:12:00-05:00</td>\n",
              "      <td>20293</td>\n",
              "      <td>1</td>\n",
              "      <td>10</td>\n",
              "      <td>{\"duration\": 0, \"is_incoming\": False}</td>\n",
              "      <td>0</td>\n",
              "      <td>False</td>\n",
              "      <td>1</td>\n",
              "      <td>0</td>\n",
              "    </tr>\n",
              "    <tr>\n",
              "      <th>1</th>\n",
              "      <td>2</td>\n",
              "      <td>2020-03-05 14:38:55</td>\n",
              "      <td>2019-11-04 16:12:00-05:00</td>\n",
              "      <td>20293</td>\n",
              "      <td>1</td>\n",
              "      <td>10</td>\n",
              "      <td>{\"duration\": 0, \"is_incoming\" : False}</td>\n",
              "      <td>0</td>\n",
              "      <td>False</td>\n",
              "      <td>1</td>\n",
              "      <td>0</td>\n",
              "    </tr>\n",
              "    <tr>\n",
              "      <th>2</th>\n",
              "      <td>3</td>\n",
              "      <td>2020-01-06 19:11:39</td>\n",
              "      <td>2019-12-26 08:30:32-05:00</td>\n",
              "      <td>49122</td>\n",
              "      <td>1</td>\n",
              "      <td>4</td>\n",
              "      <td>{'duration': 91, 'is_incoming': False}</td>\n",
              "      <td>91</td>\n",
              "      <td>False</td>\n",
              "      <td>1</td>\n",
              "      <td>0</td>\n",
              "    </tr>\n",
              "    <tr>\n",
              "      <th>3</th>\n",
              "      <td>4</td>\n",
              "      <td>2020-08-31 13:12:53</td>\n",
              "      <td>2020-08-30 19:39:18-04:00</td>\n",
              "      <td>58040</td>\n",
              "      <td>1</td>\n",
              "      <td>9</td>\n",
              "      <td>{'duration': 0, 'is_incoming': False}</td>\n",
              "      <td>0</td>\n",
              "      <td>False</td>\n",
              "      <td>1</td>\n",
              "      <td>0</td>\n",
              "    </tr>\n",
              "    <tr>\n",
              "      <th>4</th>\n",
              "      <td>5</td>\n",
              "      <td>2020-10-14 14:47:23</td>\n",
              "      <td>2017-01-28 11:04:00-05:00</td>\n",
              "      <td>36567</td>\n",
              "      <td>1</td>\n",
              "      <td>9</td>\n",
              "      <td>{'duration': 0, 'is_incoming': False}</td>\n",
              "      <td>0</td>\n",
              "      <td>False</td>\n",
              "      <td>1</td>\n",
              "      <td>0</td>\n",
              "    </tr>\n",
              "    <tr>\n",
              "      <th>...</th>\n",
              "      <td>...</td>\n",
              "      <td>...</td>\n",
              "      <td>...</td>\n",
              "      <td>...</td>\n",
              "      <td>...</td>\n",
              "      <td>...</td>\n",
              "      <td>...</td>\n",
              "      <td>...</td>\n",
              "      <td>...</td>\n",
              "      <td>...</td>\n",
              "      <td>...</td>\n",
              "    </tr>\n",
              "    <tr>\n",
              "      <th>68349</th>\n",
              "      <td>68350</td>\n",
              "      <td>2020-03-11 21:10:18</td>\n",
              "      <td>2018-03-17 09:09:00-04:00</td>\n",
              "      <td>31965</td>\n",
              "      <td>3</td>\n",
              "      <td>4</td>\n",
              "      <td>{'is_incoming': True}</td>\n",
              "      <td>0</td>\n",
              "      <td>True</td>\n",
              "      <td>0</td>\n",
              "      <td>1</td>\n",
              "    </tr>\n",
              "    <tr>\n",
              "      <th>68350</th>\n",
              "      <td>68351</td>\n",
              "      <td>2020-03-11 21:11:12</td>\n",
              "      <td>2018-03-17 09:09:00-04:00</td>\n",
              "      <td>31965</td>\n",
              "      <td>3</td>\n",
              "      <td>4</td>\n",
              "      <td>{'is_incoming': False}</td>\n",
              "      <td>0</td>\n",
              "      <td>False</td>\n",
              "      <td>1</td>\n",
              "      <td>0</td>\n",
              "    </tr>\n",
              "    <tr>\n",
              "      <th>68351</th>\n",
              "      <td>68352</td>\n",
              "      <td>2020-03-20 17:08:10</td>\n",
              "      <td>2018-03-17 09:09:00-04:00</td>\n",
              "      <td>31965</td>\n",
              "      <td>3</td>\n",
              "      <td>4</td>\n",
              "      <td>{'is_incoming': False}</td>\n",
              "      <td>0</td>\n",
              "      <td>False</td>\n",
              "      <td>1</td>\n",
              "      <td>0</td>\n",
              "    </tr>\n",
              "    <tr>\n",
              "      <th>68352</th>\n",
              "      <td>68353</td>\n",
              "      <td>2020-06-05 15:24:48</td>\n",
              "      <td>2017-12-05 05:10:00-05:00</td>\n",
              "      <td>27972</td>\n",
              "      <td>3</td>\n",
              "      <td>7</td>\n",
              "      <td>{'is_incoming': False}</td>\n",
              "      <td>0</td>\n",
              "      <td>False</td>\n",
              "      <td>1</td>\n",
              "      <td>0</td>\n",
              "    </tr>\n",
              "    <tr>\n",
              "      <th>68353</th>\n",
              "      <td>68354</td>\n",
              "      <td>2020-01-22 20:26:54</td>\n",
              "      <td>2019-07-16 09:56:00-04:00</td>\n",
              "      <td>16281</td>\n",
              "      <td>3</td>\n",
              "      <td>4</td>\n",
              "      <td>{'is_incoming': False}</td>\n",
              "      <td>0</td>\n",
              "      <td>False</td>\n",
              "      <td>1</td>\n",
              "      <td>0</td>\n",
              "    </tr>\n",
              "  </tbody>\n",
              "</table>\n",
              "<p>68354 rows × 11 columns</p>\n",
              "</div>"
            ],
            "text/plain": [
              "          id        followup_date  ... outgoing  incoming\n",
              "0          1  2020-03-05 14:38:54  ...        1         0\n",
              "1          2  2020-03-05 14:38:55  ...        1         0\n",
              "2          3  2020-01-06 19:11:39  ...        1         0\n",
              "3          4  2020-08-31 13:12:53  ...        1         0\n",
              "4          5  2020-10-14 14:47:23  ...        1         0\n",
              "...      ...                  ...  ...      ...       ...\n",
              "68349  68350  2020-03-11 21:10:18  ...        0         1\n",
              "68350  68351  2020-03-11 21:11:12  ...        1         0\n",
              "68351  68352  2020-03-20 17:08:10  ...        1         0\n",
              "68352  68353  2020-06-05 15:24:48  ...        1         0\n",
              "68353  68354  2020-01-22 20:26:54  ...        1         0\n",
              "\n",
              "[68354 rows x 11 columns]"
            ]
          },
          "metadata": {
            "tags": []
          },
          "execution_count": 202
        }
      ]
    },
    {
      "cell_type": "markdown",
      "metadata": {
        "id": "wHMU_d1fjSS_"
      },
      "source": [
        "### Extracting incoming column from feature_3_df DataFrame \n",
        "\n",
        "\n",
        "\n"
      ]
    },
    {
      "cell_type": "code",
      "metadata": {
        "id": "WkrKXwtmxNm8"
      },
      "source": [
        "feature_3_df_incoming = feature_3_df[['agentId','incoming']]\n"
      ],
      "execution_count": null,
      "outputs": []
    },
    {
      "cell_type": "code",
      "metadata": {
        "colab": {
          "base_uri": "https://localhost:8080/"
        },
        "id": "jZqP2CauGrkC",
        "outputId": "051b3ab9-cf19-4d12-9580-506787f3cd9b"
      },
      "source": [
        "feature_3_df_incoming_slice=feature_3_df_incoming.drop(feature_3_df_incoming[feature_3_df_incoming['incoming'] == 0].index, inplace = True)"
      ],
      "execution_count": null,
      "outputs": [
        {
          "output_type": "stream",
          "text": [
            "/usr/local/lib/python3.7/dist-packages/pandas/core/frame.py:4174: SettingWithCopyWarning: \n",
            "A value is trying to be set on a copy of a slice from a DataFrame\n",
            "\n",
            "See the caveats in the documentation: https://pandas.pydata.org/pandas-docs/stable/user_guide/indexing.html#returning-a-view-versus-a-copy\n",
            "  errors=errors,\n"
          ],
          "name": "stderr"
        }
      ]
    },
    {
      "cell_type": "code",
      "metadata": {
        "id": "m-qmOWSZ-86I"
      },
      "source": [
        "feature_3_df_incoming =feature_3_df_incoming.groupby(['agentId', 'incoming']).size().reset_index(name='incoming_counts')"
      ],
      "execution_count": null,
      "outputs": []
    },
    {
      "cell_type": "code",
      "metadata": {
        "id": "YvEWlSVYxbeR",
        "colab": {
          "base_uri": "https://localhost:8080/",
          "height": 348
        },
        "outputId": "9c2cf027-92e7-49b9-d128-5b079a6b2008"
      },
      "source": [
        "feature_3_df_incoming"
      ],
      "execution_count": null,
      "outputs": [
        {
          "output_type": "execute_result",
          "data": {
            "text/html": [
              "<div>\n",
              "<style scoped>\n",
              "    .dataframe tbody tr th:only-of-type {\n",
              "        vertical-align: middle;\n",
              "    }\n",
              "\n",
              "    .dataframe tbody tr th {\n",
              "        vertical-align: top;\n",
              "    }\n",
              "\n",
              "    .dataframe thead th {\n",
              "        text-align: right;\n",
              "    }\n",
              "</style>\n",
              "<table border=\"1\" class=\"dataframe\">\n",
              "  <thead>\n",
              "    <tr style=\"text-align: right;\">\n",
              "      <th></th>\n",
              "      <th>agentId</th>\n",
              "      <th>incoming</th>\n",
              "      <th>incoming_counts</th>\n",
              "    </tr>\n",
              "  </thead>\n",
              "  <tbody>\n",
              "    <tr>\n",
              "      <th>0</th>\n",
              "      <td>0</td>\n",
              "      <td>1</td>\n",
              "      <td>115</td>\n",
              "    </tr>\n",
              "    <tr>\n",
              "      <th>1</th>\n",
              "      <td>2</td>\n",
              "      <td>1</td>\n",
              "      <td>341</td>\n",
              "    </tr>\n",
              "    <tr>\n",
              "      <th>2</th>\n",
              "      <td>3</td>\n",
              "      <td>1</td>\n",
              "      <td>24</td>\n",
              "    </tr>\n",
              "    <tr>\n",
              "      <th>3</th>\n",
              "      <td>4</td>\n",
              "      <td>1</td>\n",
              "      <td>3405</td>\n",
              "    </tr>\n",
              "    <tr>\n",
              "      <th>4</th>\n",
              "      <td>5</td>\n",
              "      <td>1</td>\n",
              "      <td>133</td>\n",
              "    </tr>\n",
              "    <tr>\n",
              "      <th>5</th>\n",
              "      <td>6</td>\n",
              "      <td>1</td>\n",
              "      <td>2257</td>\n",
              "    </tr>\n",
              "    <tr>\n",
              "      <th>6</th>\n",
              "      <td>7</td>\n",
              "      <td>1</td>\n",
              "      <td>4711</td>\n",
              "    </tr>\n",
              "    <tr>\n",
              "      <th>7</th>\n",
              "      <td>8</td>\n",
              "      <td>1</td>\n",
              "      <td>160</td>\n",
              "    </tr>\n",
              "    <tr>\n",
              "      <th>8</th>\n",
              "      <td>9</td>\n",
              "      <td>1</td>\n",
              "      <td>2215</td>\n",
              "    </tr>\n",
              "    <tr>\n",
              "      <th>9</th>\n",
              "      <td>10</td>\n",
              "      <td>1</td>\n",
              "      <td>3780</td>\n",
              "    </tr>\n",
              "  </tbody>\n",
              "</table>\n",
              "</div>"
            ],
            "text/plain": [
              "   agentId  incoming  incoming_counts\n",
              "0        0         1              115\n",
              "1        2         1              341\n",
              "2        3         1               24\n",
              "3        4         1             3405\n",
              "4        5         1              133\n",
              "5        6         1             2257\n",
              "6        7         1             4711\n",
              "7        8         1              160\n",
              "8        9         1             2215\n",
              "9       10         1             3780"
            ]
          },
          "metadata": {
            "tags": []
          },
          "execution_count": 206
        }
      ]
    },
    {
      "cell_type": "markdown",
      "metadata": {
        "id": "uVBvk8dOjvQQ"
      },
      "source": [
        "### Extracting outcoming column from feature_3_df DataFrame \n"
      ]
    },
    {
      "cell_type": "code",
      "metadata": {
        "id": "8n3Kpon__6yh",
        "colab": {
          "base_uri": "https://localhost:8080/"
        },
        "outputId": "b5fa5612-35ed-4046-a3ae-12d8d191090b"
      },
      "source": [
        "feature_3_df_outgoing =feature_3_df_incoming = feature_3_df[['agentId','outgoing']]\n",
        "\n",
        "feature_3_df_outgoing.drop(feature_3_df_outgoing[feature_3_df_outgoing['outgoing'] == 0].index, inplace = True)"
      ],
      "execution_count": null,
      "outputs": [
        {
          "output_type": "stream",
          "text": [
            "/usr/local/lib/python3.7/dist-packages/pandas/core/frame.py:4174: SettingWithCopyWarning: \n",
            "A value is trying to be set on a copy of a slice from a DataFrame\n",
            "\n",
            "See the caveats in the documentation: https://pandas.pydata.org/pandas-docs/stable/user_guide/indexing.html#returning-a-view-versus-a-copy\n",
            "  errors=errors,\n"
          ],
          "name": "stderr"
        }
      ]
    },
    {
      "cell_type": "code",
      "metadata": {
        "id": "omEW_pD-BjbS"
      },
      "source": [
        "feature_3_df_outgoing =feature_3_df_outgoing.groupby(['agentId', 'outgoing']).size().reset_index(name='outgoing_counts')"
      ],
      "execution_count": null,
      "outputs": []
    },
    {
      "cell_type": "code",
      "metadata": {
        "colab": {
          "base_uri": "https://localhost:8080/",
          "height": 318
        },
        "id": "BKV-cOj3CQNH",
        "outputId": "12203d78-6fca-4e7d-f271-62dcb0d464b1"
      },
      "source": [
        "feature_3_df_outgoing"
      ],
      "execution_count": null,
      "outputs": [
        {
          "output_type": "execute_result",
          "data": {
            "text/html": [
              "<div>\n",
              "<style scoped>\n",
              "    .dataframe tbody tr th:only-of-type {\n",
              "        vertical-align: middle;\n",
              "    }\n",
              "\n",
              "    .dataframe tbody tr th {\n",
              "        vertical-align: top;\n",
              "    }\n",
              "\n",
              "    .dataframe thead th {\n",
              "        text-align: right;\n",
              "    }\n",
              "</style>\n",
              "<table border=\"1\" class=\"dataframe\">\n",
              "  <thead>\n",
              "    <tr style=\"text-align: right;\">\n",
              "      <th></th>\n",
              "      <th>agentId</th>\n",
              "      <th>outgoing</th>\n",
              "      <th>outgoing_counts</th>\n",
              "    </tr>\n",
              "  </thead>\n",
              "  <tbody>\n",
              "    <tr>\n",
              "      <th>0</th>\n",
              "      <td>2</td>\n",
              "      <td>1</td>\n",
              "      <td>3745</td>\n",
              "    </tr>\n",
              "    <tr>\n",
              "      <th>1</th>\n",
              "      <td>3</td>\n",
              "      <td>1</td>\n",
              "      <td>505</td>\n",
              "    </tr>\n",
              "    <tr>\n",
              "      <th>2</th>\n",
              "      <td>4</td>\n",
              "      <td>1</td>\n",
              "      <td>11885</td>\n",
              "    </tr>\n",
              "    <tr>\n",
              "      <th>3</th>\n",
              "      <td>5</td>\n",
              "      <td>1</td>\n",
              "      <td>11108</td>\n",
              "    </tr>\n",
              "    <tr>\n",
              "      <th>4</th>\n",
              "      <td>6</td>\n",
              "      <td>1</td>\n",
              "      <td>3349</td>\n",
              "    </tr>\n",
              "    <tr>\n",
              "      <th>5</th>\n",
              "      <td>7</td>\n",
              "      <td>1</td>\n",
              "      <td>3108</td>\n",
              "    </tr>\n",
              "    <tr>\n",
              "      <th>6</th>\n",
              "      <td>8</td>\n",
              "      <td>1</td>\n",
              "      <td>2572</td>\n",
              "    </tr>\n",
              "    <tr>\n",
              "      <th>7</th>\n",
              "      <td>9</td>\n",
              "      <td>1</td>\n",
              "      <td>7066</td>\n",
              "    </tr>\n",
              "    <tr>\n",
              "      <th>8</th>\n",
              "      <td>10</td>\n",
              "      <td>1</td>\n",
              "      <td>7875</td>\n",
              "    </tr>\n",
              "  </tbody>\n",
              "</table>\n",
              "</div>"
            ],
            "text/plain": [
              "   agentId  outgoing  outgoing_counts\n",
              "0        2         1             3745\n",
              "1        3         1              505\n",
              "2        4         1            11885\n",
              "3        5         1            11108\n",
              "4        6         1             3349\n",
              "5        7         1             3108\n",
              "6        8         1             2572\n",
              "7        9         1             7066\n",
              "8       10         1             7875"
            ]
          },
          "metadata": {
            "tags": []
          },
          "execution_count": 180
        }
      ]
    },
    {
      "cell_type": "markdown",
      "metadata": {
        "id": "FyTpW9Fej23X"
      },
      "source": [
        "# Merging all feature1,2,3 in common DataFrame"
      ]
    },
    {
      "cell_type": "code",
      "metadata": {
        "id": "X3G7V8ZPDSM8"
      },
      "source": [
        "final_df_till_3_feature=pd.merge(final_df_till_2_feature,feature_3_df_outgoing, on = \"agentId\", how=\"outer\") "
      ],
      "execution_count": null,
      "outputs": []
    },
    {
      "cell_type": "code",
      "metadata": {
        "colab": {
          "base_uri": "https://localhost:8080/",
          "height": 359
        },
        "id": "3YkMmCyLIo7G",
        "outputId": "eee4c765-7606-4442-b116-8699e1695dba"
      },
      "source": [
        "final_df_till_3_feature"
      ],
      "execution_count": null,
      "outputs": [
        {
          "output_type": "execute_result",
          "data": {
            "text/html": [
              "<div>\n",
              "<style scoped>\n",
              "    .dataframe tbody tr th:only-of-type {\n",
              "        vertical-align: middle;\n",
              "    }\n",
              "\n",
              "    .dataframe tbody tr th {\n",
              "        vertical-align: top;\n",
              "    }\n",
              "\n",
              "    .dataframe thead th {\n",
              "        text-align: right;\n",
              "    }\n",
              "</style>\n",
              "<table border=\"1\" class=\"dataframe\">\n",
              "  <thead>\n",
              "    <tr style=\"text-align: right;\">\n",
              "      <th></th>\n",
              "      <th>agentId</th>\n",
              "      <th>agent_lead_count</th>\n",
              "      <th>Total_followup</th>\n",
              "      <th>outgoing</th>\n",
              "      <th>outgoing_counts</th>\n",
              "    </tr>\n",
              "  </thead>\n",
              "  <tbody>\n",
              "    <tr>\n",
              "      <th>0</th>\n",
              "      <td>0</td>\n",
              "      <td>5</td>\n",
              "      <td>115</td>\n",
              "      <td>NaN</td>\n",
              "      <td>NaN</td>\n",
              "    </tr>\n",
              "    <tr>\n",
              "      <th>1</th>\n",
              "      <td>2</td>\n",
              "      <td>874</td>\n",
              "      <td>4086</td>\n",
              "      <td>1.0</td>\n",
              "      <td>3745.0</td>\n",
              "    </tr>\n",
              "    <tr>\n",
              "      <th>2</th>\n",
              "      <td>3</td>\n",
              "      <td>343</td>\n",
              "      <td>529</td>\n",
              "      <td>1.0</td>\n",
              "      <td>505.0</td>\n",
              "    </tr>\n",
              "    <tr>\n",
              "      <th>3</th>\n",
              "      <td>4</td>\n",
              "      <td>1599</td>\n",
              "      <td>15290</td>\n",
              "      <td>1.0</td>\n",
              "      <td>11885.0</td>\n",
              "    </tr>\n",
              "    <tr>\n",
              "      <th>4</th>\n",
              "      <td>5</td>\n",
              "      <td>398</td>\n",
              "      <td>11241</td>\n",
              "      <td>1.0</td>\n",
              "      <td>11108.0</td>\n",
              "    </tr>\n",
              "    <tr>\n",
              "      <th>5</th>\n",
              "      <td>6</td>\n",
              "      <td>351</td>\n",
              "      <td>5606</td>\n",
              "      <td>1.0</td>\n",
              "      <td>3349.0</td>\n",
              "    </tr>\n",
              "    <tr>\n",
              "      <th>6</th>\n",
              "      <td>7</td>\n",
              "      <td>364</td>\n",
              "      <td>7819</td>\n",
              "      <td>1.0</td>\n",
              "      <td>3108.0</td>\n",
              "    </tr>\n",
              "    <tr>\n",
              "      <th>7</th>\n",
              "      <td>8</td>\n",
              "      <td>568</td>\n",
              "      <td>2732</td>\n",
              "      <td>1.0</td>\n",
              "      <td>2572.0</td>\n",
              "    </tr>\n",
              "    <tr>\n",
              "      <th>8</th>\n",
              "      <td>9</td>\n",
              "      <td>876</td>\n",
              "      <td>9281</td>\n",
              "      <td>1.0</td>\n",
              "      <td>7066.0</td>\n",
              "    </tr>\n",
              "    <tr>\n",
              "      <th>9</th>\n",
              "      <td>10</td>\n",
              "      <td>1425</td>\n",
              "      <td>11655</td>\n",
              "      <td>1.0</td>\n",
              "      <td>7875.0</td>\n",
              "    </tr>\n",
              "  </tbody>\n",
              "</table>\n",
              "</div>"
            ],
            "text/plain": [
              "   agentId  agent_lead_count  Total_followup  outgoing  outgoing_counts\n",
              "0        0                 5             115       NaN              NaN\n",
              "1        2               874            4086       1.0           3745.0\n",
              "2        3               343             529       1.0            505.0\n",
              "3        4              1599           15290       1.0          11885.0\n",
              "4        5               398           11241       1.0          11108.0\n",
              "5        6               351            5606       1.0           3349.0\n",
              "6        7               364            7819       1.0           3108.0\n",
              "7        8               568            2732       1.0           2572.0\n",
              "8        9               876            9281       1.0           7066.0\n",
              "9       10              1425           11655       1.0           7875.0"
            ]
          },
          "metadata": {
            "tags": []
          },
          "execution_count": 187
        }
      ]
    },
    {
      "cell_type": "code",
      "metadata": {
        "id": "lKIPiYvHKyDp"
      },
      "source": [
        "final_df_till_3_feature.drop('outgoing',axis=1,inplace=True)"
      ],
      "execution_count": null,
      "outputs": []
    },
    {
      "cell_type": "code",
      "metadata": {
        "colab": {
          "base_uri": "https://localhost:8080/",
          "height": 348
        },
        "id": "y3S9YAUtLteV",
        "outputId": "583dc5d0-3759-44f8-f2d1-49e0429f24cd"
      },
      "source": [
        "final_df_till_3_feature"
      ],
      "execution_count": null,
      "outputs": [
        {
          "output_type": "execute_result",
          "data": {
            "text/html": [
              "<div>\n",
              "<style scoped>\n",
              "    .dataframe tbody tr th:only-of-type {\n",
              "        vertical-align: middle;\n",
              "    }\n",
              "\n",
              "    .dataframe tbody tr th {\n",
              "        vertical-align: top;\n",
              "    }\n",
              "\n",
              "    .dataframe thead th {\n",
              "        text-align: right;\n",
              "    }\n",
              "</style>\n",
              "<table border=\"1\" class=\"dataframe\">\n",
              "  <thead>\n",
              "    <tr style=\"text-align: right;\">\n",
              "      <th></th>\n",
              "      <th>agentId</th>\n",
              "      <th>agent_lead_count</th>\n",
              "      <th>Total_followup</th>\n",
              "      <th>outgoing_counts</th>\n",
              "    </tr>\n",
              "  </thead>\n",
              "  <tbody>\n",
              "    <tr>\n",
              "      <th>0</th>\n",
              "      <td>0</td>\n",
              "      <td>5</td>\n",
              "      <td>115</td>\n",
              "      <td>NaN</td>\n",
              "    </tr>\n",
              "    <tr>\n",
              "      <th>1</th>\n",
              "      <td>2</td>\n",
              "      <td>874</td>\n",
              "      <td>4086</td>\n",
              "      <td>3745.0</td>\n",
              "    </tr>\n",
              "    <tr>\n",
              "      <th>2</th>\n",
              "      <td>3</td>\n",
              "      <td>343</td>\n",
              "      <td>529</td>\n",
              "      <td>505.0</td>\n",
              "    </tr>\n",
              "    <tr>\n",
              "      <th>3</th>\n",
              "      <td>4</td>\n",
              "      <td>1599</td>\n",
              "      <td>15290</td>\n",
              "      <td>11885.0</td>\n",
              "    </tr>\n",
              "    <tr>\n",
              "      <th>4</th>\n",
              "      <td>5</td>\n",
              "      <td>398</td>\n",
              "      <td>11241</td>\n",
              "      <td>11108.0</td>\n",
              "    </tr>\n",
              "    <tr>\n",
              "      <th>5</th>\n",
              "      <td>6</td>\n",
              "      <td>351</td>\n",
              "      <td>5606</td>\n",
              "      <td>3349.0</td>\n",
              "    </tr>\n",
              "    <tr>\n",
              "      <th>6</th>\n",
              "      <td>7</td>\n",
              "      <td>364</td>\n",
              "      <td>7819</td>\n",
              "      <td>3108.0</td>\n",
              "    </tr>\n",
              "    <tr>\n",
              "      <th>7</th>\n",
              "      <td>8</td>\n",
              "      <td>568</td>\n",
              "      <td>2732</td>\n",
              "      <td>2572.0</td>\n",
              "    </tr>\n",
              "    <tr>\n",
              "      <th>8</th>\n",
              "      <td>9</td>\n",
              "      <td>876</td>\n",
              "      <td>9281</td>\n",
              "      <td>7066.0</td>\n",
              "    </tr>\n",
              "    <tr>\n",
              "      <th>9</th>\n",
              "      <td>10</td>\n",
              "      <td>1425</td>\n",
              "      <td>11655</td>\n",
              "      <td>7875.0</td>\n",
              "    </tr>\n",
              "  </tbody>\n",
              "</table>\n",
              "</div>"
            ],
            "text/plain": [
              "   agentId  agent_lead_count  Total_followup  outgoing_counts\n",
              "0        0                 5             115              NaN\n",
              "1        2               874            4086           3745.0\n",
              "2        3               343             529            505.0\n",
              "3        4              1599           15290          11885.0\n",
              "4        5               398           11241          11108.0\n",
              "5        6               351            5606           3349.0\n",
              "6        7               364            7819           3108.0\n",
              "7        8               568            2732           2572.0\n",
              "8        9               876            9281           7066.0\n",
              "9       10              1425           11655           7875.0"
            ]
          },
          "metadata": {
            "tags": []
          },
          "execution_count": 207
        }
      ]
    },
    {
      "cell_type": "code",
      "metadata": {
        "colab": {
          "base_uri": "https://localhost:8080/",
          "height": 407
        },
        "id": "v_aN4ASlM4R0",
        "outputId": "1e06d3c4-87ff-45d8-e55a-b2877049b9e4"
      },
      "source": [
        "feature_3_df_incoming"
      ],
      "execution_count": null,
      "outputs": [
        {
          "output_type": "execute_result",
          "data": {
            "text/html": [
              "<div>\n",
              "<style scoped>\n",
              "    .dataframe tbody tr th:only-of-type {\n",
              "        vertical-align: middle;\n",
              "    }\n",
              "\n",
              "    .dataframe tbody tr th {\n",
              "        vertical-align: top;\n",
              "    }\n",
              "\n",
              "    .dataframe thead th {\n",
              "        text-align: right;\n",
              "    }\n",
              "</style>\n",
              "<table border=\"1\" class=\"dataframe\">\n",
              "  <thead>\n",
              "    <tr style=\"text-align: right;\">\n",
              "      <th></th>\n",
              "      <th>agentId</th>\n",
              "      <th>outgoing</th>\n",
              "    </tr>\n",
              "  </thead>\n",
              "  <tbody>\n",
              "    <tr>\n",
              "      <th>0</th>\n",
              "      <td>10</td>\n",
              "      <td>1</td>\n",
              "    </tr>\n",
              "    <tr>\n",
              "      <th>1</th>\n",
              "      <td>10</td>\n",
              "      <td>1</td>\n",
              "    </tr>\n",
              "    <tr>\n",
              "      <th>2</th>\n",
              "      <td>4</td>\n",
              "      <td>1</td>\n",
              "    </tr>\n",
              "    <tr>\n",
              "      <th>3</th>\n",
              "      <td>9</td>\n",
              "      <td>1</td>\n",
              "    </tr>\n",
              "    <tr>\n",
              "      <th>4</th>\n",
              "      <td>9</td>\n",
              "      <td>1</td>\n",
              "    </tr>\n",
              "    <tr>\n",
              "      <th>...</th>\n",
              "      <td>...</td>\n",
              "      <td>...</td>\n",
              "    </tr>\n",
              "    <tr>\n",
              "      <th>68348</th>\n",
              "      <td>4</td>\n",
              "      <td>1</td>\n",
              "    </tr>\n",
              "    <tr>\n",
              "      <th>68350</th>\n",
              "      <td>4</td>\n",
              "      <td>1</td>\n",
              "    </tr>\n",
              "    <tr>\n",
              "      <th>68351</th>\n",
              "      <td>4</td>\n",
              "      <td>1</td>\n",
              "    </tr>\n",
              "    <tr>\n",
              "      <th>68352</th>\n",
              "      <td>7</td>\n",
              "      <td>1</td>\n",
              "    </tr>\n",
              "    <tr>\n",
              "      <th>68353</th>\n",
              "      <td>4</td>\n",
              "      <td>1</td>\n",
              "    </tr>\n",
              "  </tbody>\n",
              "</table>\n",
              "<p>51213 rows × 2 columns</p>\n",
              "</div>"
            ],
            "text/plain": [
              "       agentId  outgoing\n",
              "0           10         1\n",
              "1           10         1\n",
              "2            4         1\n",
              "3            9         1\n",
              "4            9         1\n",
              "...        ...       ...\n",
              "68348        4         1\n",
              "68350        4         1\n",
              "68351        4         1\n",
              "68352        7         1\n",
              "68353        4         1\n",
              "\n",
              "[51213 rows x 2 columns]"
            ]
          },
          "metadata": {
            "tags": []
          },
          "execution_count": 195
        }
      ]
    },
    {
      "cell_type": "code",
      "metadata": {
        "colab": {
          "base_uri": "https://localhost:8080/",
          "height": 348
        },
        "id": "5HwrLRomL1Y6",
        "outputId": "2db5485d-aa40-4a53-b463-b52374180473"
      },
      "source": [
        "final_df_till_3_feature_1=pd.merge(final_df_till_3_feature,feature_3_df_incoming, on = \"agentId\", how=\"outer\") \n",
        "final_df_till_3_feature_1"
      ],
      "execution_count": null,
      "outputs": [
        {
          "output_type": "execute_result",
          "data": {
            "text/html": [
              "<div>\n",
              "<style scoped>\n",
              "    .dataframe tbody tr th:only-of-type {\n",
              "        vertical-align: middle;\n",
              "    }\n",
              "\n",
              "    .dataframe tbody tr th {\n",
              "        vertical-align: top;\n",
              "    }\n",
              "\n",
              "    .dataframe thead th {\n",
              "        text-align: right;\n",
              "    }\n",
              "</style>\n",
              "<table border=\"1\" class=\"dataframe\">\n",
              "  <thead>\n",
              "    <tr style=\"text-align: right;\">\n",
              "      <th></th>\n",
              "      <th>agentId</th>\n",
              "      <th>agent_lead_count</th>\n",
              "      <th>Total_followup</th>\n",
              "      <th>outgoing_counts</th>\n",
              "      <th>incoming</th>\n",
              "      <th>incoming_counts</th>\n",
              "    </tr>\n",
              "  </thead>\n",
              "  <tbody>\n",
              "    <tr>\n",
              "      <th>0</th>\n",
              "      <td>0</td>\n",
              "      <td>5</td>\n",
              "      <td>115</td>\n",
              "      <td>NaN</td>\n",
              "      <td>1</td>\n",
              "      <td>115</td>\n",
              "    </tr>\n",
              "    <tr>\n",
              "      <th>1</th>\n",
              "      <td>2</td>\n",
              "      <td>874</td>\n",
              "      <td>4086</td>\n",
              "      <td>3745.0</td>\n",
              "      <td>1</td>\n",
              "      <td>341</td>\n",
              "    </tr>\n",
              "    <tr>\n",
              "      <th>2</th>\n",
              "      <td>3</td>\n",
              "      <td>343</td>\n",
              "      <td>529</td>\n",
              "      <td>505.0</td>\n",
              "      <td>1</td>\n",
              "      <td>24</td>\n",
              "    </tr>\n",
              "    <tr>\n",
              "      <th>3</th>\n",
              "      <td>4</td>\n",
              "      <td>1599</td>\n",
              "      <td>15290</td>\n",
              "      <td>11885.0</td>\n",
              "      <td>1</td>\n",
              "      <td>3405</td>\n",
              "    </tr>\n",
              "    <tr>\n",
              "      <th>4</th>\n",
              "      <td>5</td>\n",
              "      <td>398</td>\n",
              "      <td>11241</td>\n",
              "      <td>11108.0</td>\n",
              "      <td>1</td>\n",
              "      <td>133</td>\n",
              "    </tr>\n",
              "    <tr>\n",
              "      <th>5</th>\n",
              "      <td>6</td>\n",
              "      <td>351</td>\n",
              "      <td>5606</td>\n",
              "      <td>3349.0</td>\n",
              "      <td>1</td>\n",
              "      <td>2257</td>\n",
              "    </tr>\n",
              "    <tr>\n",
              "      <th>6</th>\n",
              "      <td>7</td>\n",
              "      <td>364</td>\n",
              "      <td>7819</td>\n",
              "      <td>3108.0</td>\n",
              "      <td>1</td>\n",
              "      <td>4711</td>\n",
              "    </tr>\n",
              "    <tr>\n",
              "      <th>7</th>\n",
              "      <td>8</td>\n",
              "      <td>568</td>\n",
              "      <td>2732</td>\n",
              "      <td>2572.0</td>\n",
              "      <td>1</td>\n",
              "      <td>160</td>\n",
              "    </tr>\n",
              "    <tr>\n",
              "      <th>8</th>\n",
              "      <td>9</td>\n",
              "      <td>876</td>\n",
              "      <td>9281</td>\n",
              "      <td>7066.0</td>\n",
              "      <td>1</td>\n",
              "      <td>2215</td>\n",
              "    </tr>\n",
              "    <tr>\n",
              "      <th>9</th>\n",
              "      <td>10</td>\n",
              "      <td>1425</td>\n",
              "      <td>11655</td>\n",
              "      <td>7875.0</td>\n",
              "      <td>1</td>\n",
              "      <td>3780</td>\n",
              "    </tr>\n",
              "  </tbody>\n",
              "</table>\n",
              "</div>"
            ],
            "text/plain": [
              "   agentId  agent_lead_count  ...  incoming  incoming_counts\n",
              "0        0                 5  ...         1              115\n",
              "1        2               874  ...         1              341\n",
              "2        3               343  ...         1               24\n",
              "3        4              1599  ...         1             3405\n",
              "4        5               398  ...         1              133\n",
              "5        6               351  ...         1             2257\n",
              "6        7               364  ...         1             4711\n",
              "7        8               568  ...         1              160\n",
              "8        9               876  ...         1             2215\n",
              "9       10              1425  ...         1             3780\n",
              "\n",
              "[10 rows x 6 columns]"
            ]
          },
          "metadata": {
            "tags": []
          },
          "execution_count": 208
        }
      ]
    },
    {
      "cell_type": "code",
      "metadata": {
        "id": "d6MY6jh0NhmU"
      },
      "source": [
        "final_df_till_3_feature_1.drop('incoming',axis=1,inplace=True)"
      ],
      "execution_count": null,
      "outputs": []
    },
    {
      "cell_type": "code",
      "metadata": {
        "colab": {
          "base_uri": "https://localhost:8080/",
          "height": 348
        },
        "id": "sAOLgaBNNvc6",
        "outputId": "fb4d53eb-9599-4827-b104-29e24907613f"
      },
      "source": [
        "final_df_till_3_feature_1['outgoing_counts'] = final_df_till_3_feature_1['outgoing_counts'].fillna(0)\n",
        "final_df_till_3_feature_1"
      ],
      "execution_count": null,
      "outputs": [
        {
          "output_type": "execute_result",
          "data": {
            "text/html": [
              "<div>\n",
              "<style scoped>\n",
              "    .dataframe tbody tr th:only-of-type {\n",
              "        vertical-align: middle;\n",
              "    }\n",
              "\n",
              "    .dataframe tbody tr th {\n",
              "        vertical-align: top;\n",
              "    }\n",
              "\n",
              "    .dataframe thead th {\n",
              "        text-align: right;\n",
              "    }\n",
              "</style>\n",
              "<table border=\"1\" class=\"dataframe\">\n",
              "  <thead>\n",
              "    <tr style=\"text-align: right;\">\n",
              "      <th></th>\n",
              "      <th>agentId</th>\n",
              "      <th>agent_lead_count</th>\n",
              "      <th>Total_followup</th>\n",
              "      <th>outgoing_counts</th>\n",
              "      <th>incoming_counts</th>\n",
              "    </tr>\n",
              "  </thead>\n",
              "  <tbody>\n",
              "    <tr>\n",
              "      <th>0</th>\n",
              "      <td>0</td>\n",
              "      <td>5</td>\n",
              "      <td>115</td>\n",
              "      <td>0.0</td>\n",
              "      <td>115</td>\n",
              "    </tr>\n",
              "    <tr>\n",
              "      <th>1</th>\n",
              "      <td>2</td>\n",
              "      <td>874</td>\n",
              "      <td>4086</td>\n",
              "      <td>3745.0</td>\n",
              "      <td>341</td>\n",
              "    </tr>\n",
              "    <tr>\n",
              "      <th>2</th>\n",
              "      <td>3</td>\n",
              "      <td>343</td>\n",
              "      <td>529</td>\n",
              "      <td>505.0</td>\n",
              "      <td>24</td>\n",
              "    </tr>\n",
              "    <tr>\n",
              "      <th>3</th>\n",
              "      <td>4</td>\n",
              "      <td>1599</td>\n",
              "      <td>15290</td>\n",
              "      <td>11885.0</td>\n",
              "      <td>3405</td>\n",
              "    </tr>\n",
              "    <tr>\n",
              "      <th>4</th>\n",
              "      <td>5</td>\n",
              "      <td>398</td>\n",
              "      <td>11241</td>\n",
              "      <td>11108.0</td>\n",
              "      <td>133</td>\n",
              "    </tr>\n",
              "    <tr>\n",
              "      <th>5</th>\n",
              "      <td>6</td>\n",
              "      <td>351</td>\n",
              "      <td>5606</td>\n",
              "      <td>3349.0</td>\n",
              "      <td>2257</td>\n",
              "    </tr>\n",
              "    <tr>\n",
              "      <th>6</th>\n",
              "      <td>7</td>\n",
              "      <td>364</td>\n",
              "      <td>7819</td>\n",
              "      <td>3108.0</td>\n",
              "      <td>4711</td>\n",
              "    </tr>\n",
              "    <tr>\n",
              "      <th>7</th>\n",
              "      <td>8</td>\n",
              "      <td>568</td>\n",
              "      <td>2732</td>\n",
              "      <td>2572.0</td>\n",
              "      <td>160</td>\n",
              "    </tr>\n",
              "    <tr>\n",
              "      <th>8</th>\n",
              "      <td>9</td>\n",
              "      <td>876</td>\n",
              "      <td>9281</td>\n",
              "      <td>7066.0</td>\n",
              "      <td>2215</td>\n",
              "    </tr>\n",
              "    <tr>\n",
              "      <th>9</th>\n",
              "      <td>10</td>\n",
              "      <td>1425</td>\n",
              "      <td>11655</td>\n",
              "      <td>7875.0</td>\n",
              "      <td>3780</td>\n",
              "    </tr>\n",
              "  </tbody>\n",
              "</table>\n",
              "</div>"
            ],
            "text/plain": [
              "   agentId  agent_lead_count  Total_followup  outgoing_counts  incoming_counts\n",
              "0        0                 5             115              0.0              115\n",
              "1        2               874            4086           3745.0              341\n",
              "2        3               343             529            505.0               24\n",
              "3        4              1599           15290          11885.0             3405\n",
              "4        5               398           11241          11108.0              133\n",
              "5        6               351            5606           3349.0             2257\n",
              "6        7               364            7819           3108.0             4711\n",
              "7        8               568            2732           2572.0              160\n",
              "8        9               876            9281           7066.0             2215\n",
              "9       10              1425           11655           7875.0             3780"
            ]
          },
          "metadata": {
            "tags": []
          },
          "execution_count": 210
        }
      ]
    },
    {
      "cell_type": "markdown",
      "metadata": {
        "id": "VoTfPMWrxMTF"
      },
      "source": [
        ""
      ]
    },
    {
      "cell_type": "markdown",
      "metadata": {
        "id": "4LswNBnJxL9o"
      },
      "source": [
        "#feature 4"
      ]
    },
    {
      "cell_type": "markdown",
      "metadata": {
        "id": "WjyLhMLdkMRH"
      },
      "source": [
        "# Different FollowUp Types each Agent have"
      ]
    },
    {
      "cell_type": "code",
      "metadata": {
        "id": "z00_hGu6RuLj"
      },
      "source": [
        "\n",
        "feature_4_df = df.groupby(['agentId', 'followup_type']).size().reset_index(name='Total_followup_by_each_type')"
      ],
      "execution_count": null,
      "outputs": []
    },
    {
      "cell_type": "code",
      "metadata": {
        "colab": {
          "base_uri": "https://localhost:8080/",
          "height": 858
        },
        "id": "2tEpoBfDRuXC",
        "outputId": "e88476e4-ba44-4d89-ade2-3fe513d2a4bc"
      },
      "source": [
        "feature_4_df"
      ],
      "execution_count": null,
      "outputs": [
        {
          "output_type": "execute_result",
          "data": {
            "text/html": [
              "<div>\n",
              "<style scoped>\n",
              "    .dataframe tbody tr th:only-of-type {\n",
              "        vertical-align: middle;\n",
              "    }\n",
              "\n",
              "    .dataframe tbody tr th {\n",
              "        vertical-align: top;\n",
              "    }\n",
              "\n",
              "    .dataframe thead th {\n",
              "        text-align: right;\n",
              "    }\n",
              "</style>\n",
              "<table border=\"1\" class=\"dataframe\">\n",
              "  <thead>\n",
              "    <tr style=\"text-align: right;\">\n",
              "      <th></th>\n",
              "      <th>agentId</th>\n",
              "      <th>followup_type</th>\n",
              "      <th>Total_followup_by_each_type</th>\n",
              "    </tr>\n",
              "  </thead>\n",
              "  <tbody>\n",
              "    <tr>\n",
              "      <th>0</th>\n",
              "      <td>0</td>\n",
              "      <td>3</td>\n",
              "      <td>115</td>\n",
              "    </tr>\n",
              "    <tr>\n",
              "      <th>1</th>\n",
              "      <td>2</td>\n",
              "      <td>1</td>\n",
              "      <td>65</td>\n",
              "    </tr>\n",
              "    <tr>\n",
              "      <th>2</th>\n",
              "      <td>2</td>\n",
              "      <td>2</td>\n",
              "      <td>3706</td>\n",
              "    </tr>\n",
              "    <tr>\n",
              "      <th>3</th>\n",
              "      <td>2</td>\n",
              "      <td>3</td>\n",
              "      <td>315</td>\n",
              "    </tr>\n",
              "    <tr>\n",
              "      <th>4</th>\n",
              "      <td>3</td>\n",
              "      <td>2</td>\n",
              "      <td>516</td>\n",
              "    </tr>\n",
              "    <tr>\n",
              "      <th>5</th>\n",
              "      <td>3</td>\n",
              "      <td>3</td>\n",
              "      <td>13</td>\n",
              "    </tr>\n",
              "    <tr>\n",
              "      <th>6</th>\n",
              "      <td>4</td>\n",
              "      <td>1</td>\n",
              "      <td>1087</td>\n",
              "    </tr>\n",
              "    <tr>\n",
              "      <th>7</th>\n",
              "      <td>4</td>\n",
              "      <td>2</td>\n",
              "      <td>7140</td>\n",
              "    </tr>\n",
              "    <tr>\n",
              "      <th>8</th>\n",
              "      <td>4</td>\n",
              "      <td>3</td>\n",
              "      <td>7063</td>\n",
              "    </tr>\n",
              "    <tr>\n",
              "      <th>9</th>\n",
              "      <td>5</td>\n",
              "      <td>1</td>\n",
              "      <td>6</td>\n",
              "    </tr>\n",
              "    <tr>\n",
              "      <th>10</th>\n",
              "      <td>5</td>\n",
              "      <td>2</td>\n",
              "      <td>11065</td>\n",
              "    </tr>\n",
              "    <tr>\n",
              "      <th>11</th>\n",
              "      <td>5</td>\n",
              "      <td>3</td>\n",
              "      <td>170</td>\n",
              "    </tr>\n",
              "    <tr>\n",
              "      <th>12</th>\n",
              "      <td>6</td>\n",
              "      <td>1</td>\n",
              "      <td>210</td>\n",
              "    </tr>\n",
              "    <tr>\n",
              "      <th>13</th>\n",
              "      <td>6</td>\n",
              "      <td>2</td>\n",
              "      <td>2256</td>\n",
              "    </tr>\n",
              "    <tr>\n",
              "      <th>14</th>\n",
              "      <td>6</td>\n",
              "      <td>3</td>\n",
              "      <td>3140</td>\n",
              "    </tr>\n",
              "    <tr>\n",
              "      <th>15</th>\n",
              "      <td>7</td>\n",
              "      <td>1</td>\n",
              "      <td>183</td>\n",
              "    </tr>\n",
              "    <tr>\n",
              "      <th>16</th>\n",
              "      <td>7</td>\n",
              "      <td>2</td>\n",
              "      <td>5207</td>\n",
              "    </tr>\n",
              "    <tr>\n",
              "      <th>17</th>\n",
              "      <td>7</td>\n",
              "      <td>3</td>\n",
              "      <td>2429</td>\n",
              "    </tr>\n",
              "    <tr>\n",
              "      <th>18</th>\n",
              "      <td>8</td>\n",
              "      <td>1</td>\n",
              "      <td>293</td>\n",
              "    </tr>\n",
              "    <tr>\n",
              "      <th>19</th>\n",
              "      <td>8</td>\n",
              "      <td>2</td>\n",
              "      <td>1945</td>\n",
              "    </tr>\n",
              "    <tr>\n",
              "      <th>20</th>\n",
              "      <td>8</td>\n",
              "      <td>3</td>\n",
              "      <td>494</td>\n",
              "    </tr>\n",
              "    <tr>\n",
              "      <th>21</th>\n",
              "      <td>9</td>\n",
              "      <td>1</td>\n",
              "      <td>814</td>\n",
              "    </tr>\n",
              "    <tr>\n",
              "      <th>22</th>\n",
              "      <td>9</td>\n",
              "      <td>2</td>\n",
              "      <td>7292</td>\n",
              "    </tr>\n",
              "    <tr>\n",
              "      <th>23</th>\n",
              "      <td>9</td>\n",
              "      <td>3</td>\n",
              "      <td>1175</td>\n",
              "    </tr>\n",
              "    <tr>\n",
              "      <th>24</th>\n",
              "      <td>10</td>\n",
              "      <td>1</td>\n",
              "      <td>647</td>\n",
              "    </tr>\n",
              "    <tr>\n",
              "      <th>25</th>\n",
              "      <td>10</td>\n",
              "      <td>2</td>\n",
              "      <td>5630</td>\n",
              "    </tr>\n",
              "    <tr>\n",
              "      <th>26</th>\n",
              "      <td>10</td>\n",
              "      <td>3</td>\n",
              "      <td>5378</td>\n",
              "    </tr>\n",
              "  </tbody>\n",
              "</table>\n",
              "</div>"
            ],
            "text/plain": [
              "    agentId  followup_type  Total_followup_by_each_type\n",
              "0         0              3                          115\n",
              "1         2              1                           65\n",
              "2         2              2                         3706\n",
              "3         2              3                          315\n",
              "4         3              2                          516\n",
              "5         3              3                           13\n",
              "6         4              1                         1087\n",
              "7         4              2                         7140\n",
              "8         4              3                         7063\n",
              "9         5              1                            6\n",
              "10        5              2                        11065\n",
              "11        5              3                          170\n",
              "12        6              1                          210\n",
              "13        6              2                         2256\n",
              "14        6              3                         3140\n",
              "15        7              1                          183\n",
              "16        7              2                         5207\n",
              "17        7              3                         2429\n",
              "18        8              1                          293\n",
              "19        8              2                         1945\n",
              "20        8              3                          494\n",
              "21        9              1                          814\n",
              "22        9              2                         7292\n",
              "23        9              3                         1175\n",
              "24       10              1                          647\n",
              "25       10              2                         5630\n",
              "26       10              3                         5378"
            ]
          },
          "metadata": {
            "tags": []
          },
          "execution_count": 250
        }
      ]
    },
    {
      "cell_type": "code",
      "metadata": {
        "id": "FBnr88cdEkt1"
      },
      "source": [
        "feature_3_df_incoming = feature_3_df\n",
        "feature_3_df_incoming.drop(feature_3_df_incoming[feature_3_df_incoming['incoming'] == 0].index, inplace = True)"
      ],
      "execution_count": null,
      "outputs": []
    },
    {
      "cell_type": "code",
      "metadata": {
        "colab": {
          "base_uri": "https://localhost:8080/",
          "height": 300
        },
        "id": "qq3zY1JCRufj",
        "outputId": "897d6176-c2fe-4022-9af9-5f7ffa2cb081"
      },
      "source": [
        "# graph for different type of followup each agent have\n",
        "feature_4_df.unstack(level=1).plot(kind='bar')"
      ],
      "execution_count": null,
      "outputs": [
        {
          "output_type": "execute_result",
          "data": {
            "text/plain": [
              "<matplotlib.axes._subplots.AxesSubplot at 0x7fd85cbfe950>"
            ]
          },
          "metadata": {
            "tags": []
          },
          "execution_count": 50
        },
        {
          "output_type": "display_data",
          "data": {
            "image/png": "[encoded data removed]",
            "text/plain": [
              "<Figure size 432x288 with 1 Axes>"
            ]
          },
          "metadata": {
            "tags": [],
            "needs_background": "light"
          }
        }
      ]
    },
    {
      "cell_type": "markdown",
      "metadata": {
        "id": "gOAuv5p8knum"
      },
      "source": [
        "### Extracting each followUp type from dataFrame "
      ]
    },
    {
      "cell_type": "markdown",
      "metadata": {
        "id": "OJrmrFNDk8Rc"
      },
      "source": [
        "### Extracting each followUp type call"
      ]
    },
    {
      "cell_type": "code",
      "metadata": {
        "colab": {
          "base_uri": "https://localhost:8080/",
          "height": 858
        },
        "id": "mrAvdfwYOdtD",
        "outputId": "f45d7fb0-52df-47ab-9f61-40fd6d8cef68"
      },
      "source": [
        "feature_4_df_call = feature_4_df[['agentId','followup_type','Total_followup_by_each_type']]\n",
        "feature_4_df_call "
      ],
      "execution_count": null,
      "outputs": [
        {
          "output_type": "execute_result",
          "data": {
            "text/html": [
              "<div>\n",
              "<style scoped>\n",
              "    .dataframe tbody tr th:only-of-type {\n",
              "        vertical-align: middle;\n",
              "    }\n",
              "\n",
              "    .dataframe tbody tr th {\n",
              "        vertical-align: top;\n",
              "    }\n",
              "\n",
              "    .dataframe thead th {\n",
              "        text-align: right;\n",
              "    }\n",
              "</style>\n",
              "<table border=\"1\" class=\"dataframe\">\n",
              "  <thead>\n",
              "    <tr style=\"text-align: right;\">\n",
              "      <th></th>\n",
              "      <th>agentId</th>\n",
              "      <th>followup_type</th>\n",
              "      <th>Total_followup_by_each_type</th>\n",
              "    </tr>\n",
              "  </thead>\n",
              "  <tbody>\n",
              "    <tr>\n",
              "      <th>0</th>\n",
              "      <td>0</td>\n",
              "      <td>3</td>\n",
              "      <td>115</td>\n",
              "    </tr>\n",
              "    <tr>\n",
              "      <th>1</th>\n",
              "      <td>2</td>\n",
              "      <td>1</td>\n",
              "      <td>65</td>\n",
              "    </tr>\n",
              "    <tr>\n",
              "      <th>2</th>\n",
              "      <td>2</td>\n",
              "      <td>2</td>\n",
              "      <td>3706</td>\n",
              "    </tr>\n",
              "    <tr>\n",
              "      <th>3</th>\n",
              "      <td>2</td>\n",
              "      <td>3</td>\n",
              "      <td>315</td>\n",
              "    </tr>\n",
              "    <tr>\n",
              "      <th>4</th>\n",
              "      <td>3</td>\n",
              "      <td>2</td>\n",
              "      <td>516</td>\n",
              "    </tr>\n",
              "    <tr>\n",
              "      <th>5</th>\n",
              "      <td>3</td>\n",
              "      <td>3</td>\n",
              "      <td>13</td>\n",
              "    </tr>\n",
              "    <tr>\n",
              "      <th>6</th>\n",
              "      <td>4</td>\n",
              "      <td>1</td>\n",
              "      <td>1087</td>\n",
              "    </tr>\n",
              "    <tr>\n",
              "      <th>7</th>\n",
              "      <td>4</td>\n",
              "      <td>2</td>\n",
              "      <td>7140</td>\n",
              "    </tr>\n",
              "    <tr>\n",
              "      <th>8</th>\n",
              "      <td>4</td>\n",
              "      <td>3</td>\n",
              "      <td>7063</td>\n",
              "    </tr>\n",
              "    <tr>\n",
              "      <th>9</th>\n",
              "      <td>5</td>\n",
              "      <td>1</td>\n",
              "      <td>6</td>\n",
              "    </tr>\n",
              "    <tr>\n",
              "      <th>10</th>\n",
              "      <td>5</td>\n",
              "      <td>2</td>\n",
              "      <td>11065</td>\n",
              "    </tr>\n",
              "    <tr>\n",
              "      <th>11</th>\n",
              "      <td>5</td>\n",
              "      <td>3</td>\n",
              "      <td>170</td>\n",
              "    </tr>\n",
              "    <tr>\n",
              "      <th>12</th>\n",
              "      <td>6</td>\n",
              "      <td>1</td>\n",
              "      <td>210</td>\n",
              "    </tr>\n",
              "    <tr>\n",
              "      <th>13</th>\n",
              "      <td>6</td>\n",
              "      <td>2</td>\n",
              "      <td>2256</td>\n",
              "    </tr>\n",
              "    <tr>\n",
              "      <th>14</th>\n",
              "      <td>6</td>\n",
              "      <td>3</td>\n",
              "      <td>3140</td>\n",
              "    </tr>\n",
              "    <tr>\n",
              "      <th>15</th>\n",
              "      <td>7</td>\n",
              "      <td>1</td>\n",
              "      <td>183</td>\n",
              "    </tr>\n",
              "    <tr>\n",
              "      <th>16</th>\n",
              "      <td>7</td>\n",
              "      <td>2</td>\n",
              "      <td>5207</td>\n",
              "    </tr>\n",
              "    <tr>\n",
              "      <th>17</th>\n",
              "      <td>7</td>\n",
              "      <td>3</td>\n",
              "      <td>2429</td>\n",
              "    </tr>\n",
              "    <tr>\n",
              "      <th>18</th>\n",
              "      <td>8</td>\n",
              "      <td>1</td>\n",
              "      <td>293</td>\n",
              "    </tr>\n",
              "    <tr>\n",
              "      <th>19</th>\n",
              "      <td>8</td>\n",
              "      <td>2</td>\n",
              "      <td>1945</td>\n",
              "    </tr>\n",
              "    <tr>\n",
              "      <th>20</th>\n",
              "      <td>8</td>\n",
              "      <td>3</td>\n",
              "      <td>494</td>\n",
              "    </tr>\n",
              "    <tr>\n",
              "      <th>21</th>\n",
              "      <td>9</td>\n",
              "      <td>1</td>\n",
              "      <td>814</td>\n",
              "    </tr>\n",
              "    <tr>\n",
              "      <th>22</th>\n",
              "      <td>9</td>\n",
              "      <td>2</td>\n",
              "      <td>7292</td>\n",
              "    </tr>\n",
              "    <tr>\n",
              "      <th>23</th>\n",
              "      <td>9</td>\n",
              "      <td>3</td>\n",
              "      <td>1175</td>\n",
              "    </tr>\n",
              "    <tr>\n",
              "      <th>24</th>\n",
              "      <td>10</td>\n",
              "      <td>1</td>\n",
              "      <td>647</td>\n",
              "    </tr>\n",
              "    <tr>\n",
              "      <th>25</th>\n",
              "      <td>10</td>\n",
              "      <td>2</td>\n",
              "      <td>5630</td>\n",
              "    </tr>\n",
              "    <tr>\n",
              "      <th>26</th>\n",
              "      <td>10</td>\n",
              "      <td>3</td>\n",
              "      <td>5378</td>\n",
              "    </tr>\n",
              "  </tbody>\n",
              "</table>\n",
              "</div>"
            ],
            "text/plain": [
              "    agentId  followup_type  Total_followup_by_each_type\n",
              "0         0              3                          115\n",
              "1         2              1                           65\n",
              "2         2              2                         3706\n",
              "3         2              3                          315\n",
              "4         3              2                          516\n",
              "5         3              3                           13\n",
              "6         4              1                         1087\n",
              "7         4              2                         7140\n",
              "8         4              3                         7063\n",
              "9         5              1                            6\n",
              "10        5              2                        11065\n",
              "11        5              3                          170\n",
              "12        6              1                          210\n",
              "13        6              2                         2256\n",
              "14        6              3                         3140\n",
              "15        7              1                          183\n",
              "16        7              2                         5207\n",
              "17        7              3                         2429\n",
              "18        8              1                          293\n",
              "19        8              2                         1945\n",
              "20        8              3                          494\n",
              "21        9              1                          814\n",
              "22        9              2                         7292\n",
              "23        9              3                         1175\n",
              "24       10              1                          647\n",
              "25       10              2                         5630\n",
              "26       10              3                         5378"
            ]
          },
          "metadata": {
            "tags": []
          },
          "execution_count": 246
        }
      ]
    },
    {
      "cell_type": "code",
      "metadata": {
        "id": "-MoU93poQfxO"
      },
      "source": [
        "feature_4_df_call.drop(feature_4_df_call[feature_4_df_call['followup_type'] != 1].index, inplace = True)\n"
      ],
      "execution_count": null,
      "outputs": []
    },
    {
      "cell_type": "code",
      "metadata": {
        "id": "rNuTCN5cWnV8",
        "colab": {
          "base_uri": "https://localhost:8080/",
          "height": 288
        },
        "outputId": "8aca7d66-f635-4a3f-e555-a56b46760b36"
      },
      "source": [
        "feature_4_df_call"
      ],
      "execution_count": null,
      "outputs": [
        {
          "output_type": "execute_result",
          "data": {
            "text/html": [
              "<div>\n",
              "<style scoped>\n",
              "    .dataframe tbody tr th:only-of-type {\n",
              "        vertical-align: middle;\n",
              "    }\n",
              "\n",
              "    .dataframe tbody tr th {\n",
              "        vertical-align: top;\n",
              "    }\n",
              "\n",
              "    .dataframe thead th {\n",
              "        text-align: right;\n",
              "    }\n",
              "</style>\n",
              "<table border=\"1\" class=\"dataframe\">\n",
              "  <thead>\n",
              "    <tr style=\"text-align: right;\">\n",
              "      <th></th>\n",
              "      <th>agentId</th>\n",
              "      <th>followup_type</th>\n",
              "      <th>Total_followup_by_each_type</th>\n",
              "    </tr>\n",
              "  </thead>\n",
              "  <tbody>\n",
              "    <tr>\n",
              "      <th>1</th>\n",
              "      <td>2</td>\n",
              "      <td>1</td>\n",
              "      <td>65</td>\n",
              "    </tr>\n",
              "    <tr>\n",
              "      <th>6</th>\n",
              "      <td>4</td>\n",
              "      <td>1</td>\n",
              "      <td>1087</td>\n",
              "    </tr>\n",
              "    <tr>\n",
              "      <th>9</th>\n",
              "      <td>5</td>\n",
              "      <td>1</td>\n",
              "      <td>6</td>\n",
              "    </tr>\n",
              "    <tr>\n",
              "      <th>12</th>\n",
              "      <td>6</td>\n",
              "      <td>1</td>\n",
              "      <td>210</td>\n",
              "    </tr>\n",
              "    <tr>\n",
              "      <th>15</th>\n",
              "      <td>7</td>\n",
              "      <td>1</td>\n",
              "      <td>183</td>\n",
              "    </tr>\n",
              "    <tr>\n",
              "      <th>18</th>\n",
              "      <td>8</td>\n",
              "      <td>1</td>\n",
              "      <td>293</td>\n",
              "    </tr>\n",
              "    <tr>\n",
              "      <th>21</th>\n",
              "      <td>9</td>\n",
              "      <td>1</td>\n",
              "      <td>814</td>\n",
              "    </tr>\n",
              "    <tr>\n",
              "      <th>24</th>\n",
              "      <td>10</td>\n",
              "      <td>1</td>\n",
              "      <td>647</td>\n",
              "    </tr>\n",
              "  </tbody>\n",
              "</table>\n",
              "</div>"
            ],
            "text/plain": [
              "    agentId  followup_type  Total_followup_by_each_type\n",
              "1         2              1                           65\n",
              "6         4              1                         1087\n",
              "9         5              1                            6\n",
              "12        6              1                          210\n",
              "15        7              1                          183\n",
              "18        8              1                          293\n",
              "21        9              1                          814\n",
              "24       10              1                          647"
            ]
          },
          "metadata": {
            "tags": []
          },
          "execution_count": 252
        }
      ]
    },
    {
      "cell_type": "code",
      "metadata": {
        "colab": {
          "base_uri": "https://localhost:8080/",
          "height": 288
        },
        "id": "_u1bLkGvcNPz",
        "outputId": "3685adda-9f2f-4981-c496-1fa2f989b521"
      },
      "source": [
        "feature_4_df_call.rename(columns ={'Total_followup_by_each_type':'Total_followup_by_call'}, inplace = False)\n"
      ],
      "execution_count": null,
      "outputs": [
        {
          "output_type": "execute_result",
          "data": {
            "text/html": [
              "<div>\n",
              "<style scoped>\n",
              "    .dataframe tbody tr th:only-of-type {\n",
              "        vertical-align: middle;\n",
              "    }\n",
              "\n",
              "    .dataframe tbody tr th {\n",
              "        vertical-align: top;\n",
              "    }\n",
              "\n",
              "    .dataframe thead th {\n",
              "        text-align: right;\n",
              "    }\n",
              "</style>\n",
              "<table border=\"1\" class=\"dataframe\">\n",
              "  <thead>\n",
              "    <tr style=\"text-align: right;\">\n",
              "      <th></th>\n",
              "      <th>agentId</th>\n",
              "      <th>followup_type</th>\n",
              "      <th>Total_followup_by_call</th>\n",
              "    </tr>\n",
              "  </thead>\n",
              "  <tbody>\n",
              "    <tr>\n",
              "      <th>1</th>\n",
              "      <td>2</td>\n",
              "      <td>1</td>\n",
              "      <td>65</td>\n",
              "    </tr>\n",
              "    <tr>\n",
              "      <th>6</th>\n",
              "      <td>4</td>\n",
              "      <td>1</td>\n",
              "      <td>1087</td>\n",
              "    </tr>\n",
              "    <tr>\n",
              "      <th>9</th>\n",
              "      <td>5</td>\n",
              "      <td>1</td>\n",
              "      <td>6</td>\n",
              "    </tr>\n",
              "    <tr>\n",
              "      <th>12</th>\n",
              "      <td>6</td>\n",
              "      <td>1</td>\n",
              "      <td>210</td>\n",
              "    </tr>\n",
              "    <tr>\n",
              "      <th>15</th>\n",
              "      <td>7</td>\n",
              "      <td>1</td>\n",
              "      <td>183</td>\n",
              "    </tr>\n",
              "    <tr>\n",
              "      <th>18</th>\n",
              "      <td>8</td>\n",
              "      <td>1</td>\n",
              "      <td>293</td>\n",
              "    </tr>\n",
              "    <tr>\n",
              "      <th>21</th>\n",
              "      <td>9</td>\n",
              "      <td>1</td>\n",
              "      <td>814</td>\n",
              "    </tr>\n",
              "    <tr>\n",
              "      <th>24</th>\n",
              "      <td>10</td>\n",
              "      <td>1</td>\n",
              "      <td>647</td>\n",
              "    </tr>\n",
              "  </tbody>\n",
              "</table>\n",
              "</div>"
            ],
            "text/plain": [
              "    agentId  followup_type  Total_followup_by_call\n",
              "1         2              1                      65\n",
              "6         4              1                    1087\n",
              "9         5              1                       6\n",
              "12        6              1                     210\n",
              "15        7              1                     183\n",
              "18        8              1                     293\n",
              "21        9              1                     814\n",
              "24       10              1                     647"
            ]
          },
          "metadata": {
            "tags": []
          },
          "execution_count": 255
        }
      ]
    },
    {
      "cell_type": "markdown",
      "metadata": {
        "id": "1SBenopwlDRn"
      },
      "source": [
        "### Extracting each followUp type mail"
      ]
    },
    {
      "cell_type": "code",
      "metadata": {
        "colab": {
          "base_uri": "https://localhost:8080/",
          "height": 858
        },
        "id": "t9Bh07TLY4MD",
        "outputId": "f941a63c-3b93-45a4-fcdb-610e20824d19"
      },
      "source": [
        "feature_4_df_mail = feature_4_df[['agentId','followup_type','Total_followup_by_each_type']]\n",
        "feature_4_df_mail "
      ],
      "execution_count": null,
      "outputs": [
        {
          "output_type": "execute_result",
          "data": {
            "text/html": [
              "<div>\n",
              "<style scoped>\n",
              "    .dataframe tbody tr th:only-of-type {\n",
              "        vertical-align: middle;\n",
              "    }\n",
              "\n",
              "    .dataframe tbody tr th {\n",
              "        vertical-align: top;\n",
              "    }\n",
              "\n",
              "    .dataframe thead th {\n",
              "        text-align: right;\n",
              "    }\n",
              "</style>\n",
              "<table border=\"1\" class=\"dataframe\">\n",
              "  <thead>\n",
              "    <tr style=\"text-align: right;\">\n",
              "      <th></th>\n",
              "      <th>agentId</th>\n",
              "      <th>followup_type</th>\n",
              "      <th>Total_followup_by_each_type</th>\n",
              "    </tr>\n",
              "  </thead>\n",
              "  <tbody>\n",
              "    <tr>\n",
              "      <th>0</th>\n",
              "      <td>0</td>\n",
              "      <td>3</td>\n",
              "      <td>115</td>\n",
              "    </tr>\n",
              "    <tr>\n",
              "      <th>1</th>\n",
              "      <td>2</td>\n",
              "      <td>1</td>\n",
              "      <td>65</td>\n",
              "    </tr>\n",
              "    <tr>\n",
              "      <th>2</th>\n",
              "      <td>2</td>\n",
              "      <td>2</td>\n",
              "      <td>3706</td>\n",
              "    </tr>\n",
              "    <tr>\n",
              "      <th>3</th>\n",
              "      <td>2</td>\n",
              "      <td>3</td>\n",
              "      <td>315</td>\n",
              "    </tr>\n",
              "    <tr>\n",
              "      <th>4</th>\n",
              "      <td>3</td>\n",
              "      <td>2</td>\n",
              "      <td>516</td>\n",
              "    </tr>\n",
              "    <tr>\n",
              "      <th>5</th>\n",
              "      <td>3</td>\n",
              "      <td>3</td>\n",
              "      <td>13</td>\n",
              "    </tr>\n",
              "    <tr>\n",
              "      <th>6</th>\n",
              "      <td>4</td>\n",
              "      <td>1</td>\n",
              "      <td>1087</td>\n",
              "    </tr>\n",
              "    <tr>\n",
              "      <th>7</th>\n",
              "      <td>4</td>\n",
              "      <td>2</td>\n",
              "      <td>7140</td>\n",
              "    </tr>\n",
              "    <tr>\n",
              "      <th>8</th>\n",
              "      <td>4</td>\n",
              "      <td>3</td>\n",
              "      <td>7063</td>\n",
              "    </tr>\n",
              "    <tr>\n",
              "      <th>9</th>\n",
              "      <td>5</td>\n",
              "      <td>1</td>\n",
              "      <td>6</td>\n",
              "    </tr>\n",
              "    <tr>\n",
              "      <th>10</th>\n",
              "      <td>5</td>\n",
              "      <td>2</td>\n",
              "      <td>11065</td>\n",
              "    </tr>\n",
              "    <tr>\n",
              "      <th>11</th>\n",
              "      <td>5</td>\n",
              "      <td>3</td>\n",
              "      <td>170</td>\n",
              "    </tr>\n",
              "    <tr>\n",
              "      <th>12</th>\n",
              "      <td>6</td>\n",
              "      <td>1</td>\n",
              "      <td>210</td>\n",
              "    </tr>\n",
              "    <tr>\n",
              "      <th>13</th>\n",
              "      <td>6</td>\n",
              "      <td>2</td>\n",
              "      <td>2256</td>\n",
              "    </tr>\n",
              "    <tr>\n",
              "      <th>14</th>\n",
              "      <td>6</td>\n",
              "      <td>3</td>\n",
              "      <td>3140</td>\n",
              "    </tr>\n",
              "    <tr>\n",
              "      <th>15</th>\n",
              "      <td>7</td>\n",
              "      <td>1</td>\n",
              "      <td>183</td>\n",
              "    </tr>\n",
              "    <tr>\n",
              "      <th>16</th>\n",
              "      <td>7</td>\n",
              "      <td>2</td>\n",
              "      <td>5207</td>\n",
              "    </tr>\n",
              "    <tr>\n",
              "      <th>17</th>\n",
              "      <td>7</td>\n",
              "      <td>3</td>\n",
              "      <td>2429</td>\n",
              "    </tr>\n",
              "    <tr>\n",
              "      <th>18</th>\n",
              "      <td>8</td>\n",
              "      <td>1</td>\n",
              "      <td>293</td>\n",
              "    </tr>\n",
              "    <tr>\n",
              "      <th>19</th>\n",
              "      <td>8</td>\n",
              "      <td>2</td>\n",
              "      <td>1945</td>\n",
              "    </tr>\n",
              "    <tr>\n",
              "      <th>20</th>\n",
              "      <td>8</td>\n",
              "      <td>3</td>\n",
              "      <td>494</td>\n",
              "    </tr>\n",
              "    <tr>\n",
              "      <th>21</th>\n",
              "      <td>9</td>\n",
              "      <td>1</td>\n",
              "      <td>814</td>\n",
              "    </tr>\n",
              "    <tr>\n",
              "      <th>22</th>\n",
              "      <td>9</td>\n",
              "      <td>2</td>\n",
              "      <td>7292</td>\n",
              "    </tr>\n",
              "    <tr>\n",
              "      <th>23</th>\n",
              "      <td>9</td>\n",
              "      <td>3</td>\n",
              "      <td>1175</td>\n",
              "    </tr>\n",
              "    <tr>\n",
              "      <th>24</th>\n",
              "      <td>10</td>\n",
              "      <td>1</td>\n",
              "      <td>647</td>\n",
              "    </tr>\n",
              "    <tr>\n",
              "      <th>25</th>\n",
              "      <td>10</td>\n",
              "      <td>2</td>\n",
              "      <td>5630</td>\n",
              "    </tr>\n",
              "    <tr>\n",
              "      <th>26</th>\n",
              "      <td>10</td>\n",
              "      <td>3</td>\n",
              "      <td>5378</td>\n",
              "    </tr>\n",
              "  </tbody>\n",
              "</table>\n",
              "</div>"
            ],
            "text/plain": [
              "    agentId  followup_type  Total_followup_by_each_type\n",
              "0         0              3                          115\n",
              "1         2              1                           65\n",
              "2         2              2                         3706\n",
              "3         2              3                          315\n",
              "4         3              2                          516\n",
              "5         3              3                           13\n",
              "6         4              1                         1087\n",
              "7         4              2                         7140\n",
              "8         4              3                         7063\n",
              "9         5              1                            6\n",
              "10        5              2                        11065\n",
              "11        5              3                          170\n",
              "12        6              1                          210\n",
              "13        6              2                         2256\n",
              "14        6              3                         3140\n",
              "15        7              1                          183\n",
              "16        7              2                         5207\n",
              "17        7              3                         2429\n",
              "18        8              1                          293\n",
              "19        8              2                         1945\n",
              "20        8              3                          494\n",
              "21        9              1                          814\n",
              "22        9              2                         7292\n",
              "23        9              3                         1175\n",
              "24       10              1                          647\n",
              "25       10              2                         5630\n",
              "26       10              3                         5378"
            ]
          },
          "metadata": {
            "tags": []
          },
          "execution_count": 256
        }
      ]
    },
    {
      "cell_type": "code",
      "metadata": {
        "id": "aImy8X24ZKli"
      },
      "source": [
        "feature_4_df_mail.drop(feature_4_df_mail[feature_4_df_mail['followup_type'] != 2].index, inplace = True)\n"
      ],
      "execution_count": null,
      "outputs": []
    },
    {
      "cell_type": "code",
      "metadata": {
        "id": "93X6zjAiTEoa",
        "colab": {
          "base_uri": "https://localhost:8080/",
          "height": 318
        },
        "outputId": "78219da2-1619-4f77-d78d-ba2799625770"
      },
      "source": [
        "feature_4_df_mail.rename(columns ={'Total_followup_by_each_type':'Total_followup_by_mail'}, inplace = False)\n"
      ],
      "execution_count": null,
      "outputs": [
        {
          "output_type": "execute_result",
          "data": {
            "text/html": [
              "<div>\n",
              "<style scoped>\n",
              "    .dataframe tbody tr th:only-of-type {\n",
              "        vertical-align: middle;\n",
              "    }\n",
              "\n",
              "    .dataframe tbody tr th {\n",
              "        vertical-align: top;\n",
              "    }\n",
              "\n",
              "    .dataframe thead th {\n",
              "        text-align: right;\n",
              "    }\n",
              "</style>\n",
              "<table border=\"1\" class=\"dataframe\">\n",
              "  <thead>\n",
              "    <tr style=\"text-align: right;\">\n",
              "      <th></th>\n",
              "      <th>agentId</th>\n",
              "      <th>followup_type</th>\n",
              "      <th>Total_followup_by_mail</th>\n",
              "    </tr>\n",
              "  </thead>\n",
              "  <tbody>\n",
              "    <tr>\n",
              "      <th>2</th>\n",
              "      <td>2</td>\n",
              "      <td>2</td>\n",
              "      <td>3706</td>\n",
              "    </tr>\n",
              "    <tr>\n",
              "      <th>4</th>\n",
              "      <td>3</td>\n",
              "      <td>2</td>\n",
              "      <td>516</td>\n",
              "    </tr>\n",
              "    <tr>\n",
              "      <th>7</th>\n",
              "      <td>4</td>\n",
              "      <td>2</td>\n",
              "      <td>7140</td>\n",
              "    </tr>\n",
              "    <tr>\n",
              "      <th>10</th>\n",
              "      <td>5</td>\n",
              "      <td>2</td>\n",
              "      <td>11065</td>\n",
              "    </tr>\n",
              "    <tr>\n",
              "      <th>13</th>\n",
              "      <td>6</td>\n",
              "      <td>2</td>\n",
              "      <td>2256</td>\n",
              "    </tr>\n",
              "    <tr>\n",
              "      <th>16</th>\n",
              "      <td>7</td>\n",
              "      <td>2</td>\n",
              "      <td>5207</td>\n",
              "    </tr>\n",
              "    <tr>\n",
              "      <th>19</th>\n",
              "      <td>8</td>\n",
              "      <td>2</td>\n",
              "      <td>1945</td>\n",
              "    </tr>\n",
              "    <tr>\n",
              "      <th>22</th>\n",
              "      <td>9</td>\n",
              "      <td>2</td>\n",
              "      <td>7292</td>\n",
              "    </tr>\n",
              "    <tr>\n",
              "      <th>25</th>\n",
              "      <td>10</td>\n",
              "      <td>2</td>\n",
              "      <td>5630</td>\n",
              "    </tr>\n",
              "  </tbody>\n",
              "</table>\n",
              "</div>"
            ],
            "text/plain": [
              "    agentId  followup_type  Total_followup_by_mail\n",
              "2         2              2                    3706\n",
              "4         3              2                     516\n",
              "7         4              2                    7140\n",
              "10        5              2                   11065\n",
              "13        6              2                    2256\n",
              "16        7              2                    5207\n",
              "19        8              2                    1945\n",
              "22        9              2                    7292\n",
              "25       10              2                    5630"
            ]
          },
          "metadata": {
            "tags": []
          },
          "execution_count": 258
        }
      ]
    },
    {
      "cell_type": "markdown",
      "metadata": {
        "id": "BTSNHob7lMcj"
      },
      "source": [
        "### Extracting each followUp type text"
      ]
    },
    {
      "cell_type": "code",
      "metadata": {
        "colab": {
          "base_uri": "https://localhost:8080/",
          "height": 858
        },
        "id": "71yNVTS1ZhLu",
        "outputId": "9e75eeab-ec33-4254-c711-67bbcf53c800"
      },
      "source": [
        "feature_4_df_text = feature_4_df[['agentId','followup_type','Total_followup_by_each_type']]\n",
        "feature_4_df_text "
      ],
      "execution_count": null,
      "outputs": [
        {
          "output_type": "execute_result",
          "data": {
            "text/html": [
              "<div>\n",
              "<style scoped>\n",
              "    .dataframe tbody tr th:only-of-type {\n",
              "        vertical-align: middle;\n",
              "    }\n",
              "\n",
              "    .dataframe tbody tr th {\n",
              "        vertical-align: top;\n",
              "    }\n",
              "\n",
              "    .dataframe thead th {\n",
              "        text-align: right;\n",
              "    }\n",
              "</style>\n",
              "<table border=\"1\" class=\"dataframe\">\n",
              "  <thead>\n",
              "    <tr style=\"text-align: right;\">\n",
              "      <th></th>\n",
              "      <th>agentId</th>\n",
              "      <th>followup_type</th>\n",
              "      <th>Total_followup_by_each_type</th>\n",
              "    </tr>\n",
              "  </thead>\n",
              "  <tbody>\n",
              "    <tr>\n",
              "      <th>0</th>\n",
              "      <td>0</td>\n",
              "      <td>3</td>\n",
              "      <td>115</td>\n",
              "    </tr>\n",
              "    <tr>\n",
              "      <th>1</th>\n",
              "      <td>2</td>\n",
              "      <td>1</td>\n",
              "      <td>65</td>\n",
              "    </tr>\n",
              "    <tr>\n",
              "      <th>2</th>\n",
              "      <td>2</td>\n",
              "      <td>2</td>\n",
              "      <td>3706</td>\n",
              "    </tr>\n",
              "    <tr>\n",
              "      <th>3</th>\n",
              "      <td>2</td>\n",
              "      <td>3</td>\n",
              "      <td>315</td>\n",
              "    </tr>\n",
              "    <tr>\n",
              "      <th>4</th>\n",
              "      <td>3</td>\n",
              "      <td>2</td>\n",
              "      <td>516</td>\n",
              "    </tr>\n",
              "    <tr>\n",
              "      <th>5</th>\n",
              "      <td>3</td>\n",
              "      <td>3</td>\n",
              "      <td>13</td>\n",
              "    </tr>\n",
              "    <tr>\n",
              "      <th>6</th>\n",
              "      <td>4</td>\n",
              "      <td>1</td>\n",
              "      <td>1087</td>\n",
              "    </tr>\n",
              "    <tr>\n",
              "      <th>7</th>\n",
              "      <td>4</td>\n",
              "      <td>2</td>\n",
              "      <td>7140</td>\n",
              "    </tr>\n",
              "    <tr>\n",
              "      <th>8</th>\n",
              "      <td>4</td>\n",
              "      <td>3</td>\n",
              "      <td>7063</td>\n",
              "    </tr>\n",
              "    <tr>\n",
              "      <th>9</th>\n",
              "      <td>5</td>\n",
              "      <td>1</td>\n",
              "      <td>6</td>\n",
              "    </tr>\n",
              "    <tr>\n",
              "      <th>10</th>\n",
              "      <td>5</td>\n",
              "      <td>2</td>\n",
              "      <td>11065</td>\n",
              "    </tr>\n",
              "    <tr>\n",
              "      <th>11</th>\n",
              "      <td>5</td>\n",
              "      <td>3</td>\n",
              "      <td>170</td>\n",
              "    </tr>\n",
              "    <tr>\n",
              "      <th>12</th>\n",
              "      <td>6</td>\n",
              "      <td>1</td>\n",
              "      <td>210</td>\n",
              "    </tr>\n",
              "    <tr>\n",
              "      <th>13</th>\n",
              "      <td>6</td>\n",
              "      <td>2</td>\n",
              "      <td>2256</td>\n",
              "    </tr>\n",
              "    <tr>\n",
              "      <th>14</th>\n",
              "      <td>6</td>\n",
              "      <td>3</td>\n",
              "      <td>3140</td>\n",
              "    </tr>\n",
              "    <tr>\n",
              "      <th>15</th>\n",
              "      <td>7</td>\n",
              "      <td>1</td>\n",
              "      <td>183</td>\n",
              "    </tr>\n",
              "    <tr>\n",
              "      <th>16</th>\n",
              "      <td>7</td>\n",
              "      <td>2</td>\n",
              "      <td>5207</td>\n",
              "    </tr>\n",
              "    <tr>\n",
              "      <th>17</th>\n",
              "      <td>7</td>\n",
              "      <td>3</td>\n",
              "      <td>2429</td>\n",
              "    </tr>\n",
              "    <tr>\n",
              "      <th>18</th>\n",
              "      <td>8</td>\n",
              "      <td>1</td>\n",
              "      <td>293</td>\n",
              "    </tr>\n",
              "    <tr>\n",
              "      <th>19</th>\n",
              "      <td>8</td>\n",
              "      <td>2</td>\n",
              "      <td>1945</td>\n",
              "    </tr>\n",
              "    <tr>\n",
              "      <th>20</th>\n",
              "      <td>8</td>\n",
              "      <td>3</td>\n",
              "      <td>494</td>\n",
              "    </tr>\n",
              "    <tr>\n",
              "      <th>21</th>\n",
              "      <td>9</td>\n",
              "      <td>1</td>\n",
              "      <td>814</td>\n",
              "    </tr>\n",
              "    <tr>\n",
              "      <th>22</th>\n",
              "      <td>9</td>\n",
              "      <td>2</td>\n",
              "      <td>7292</td>\n",
              "    </tr>\n",
              "    <tr>\n",
              "      <th>23</th>\n",
              "      <td>9</td>\n",
              "      <td>3</td>\n",
              "      <td>1175</td>\n",
              "    </tr>\n",
              "    <tr>\n",
              "      <th>24</th>\n",
              "      <td>10</td>\n",
              "      <td>1</td>\n",
              "      <td>647</td>\n",
              "    </tr>\n",
              "    <tr>\n",
              "      <th>25</th>\n",
              "      <td>10</td>\n",
              "      <td>2</td>\n",
              "      <td>5630</td>\n",
              "    </tr>\n",
              "    <tr>\n",
              "      <th>26</th>\n",
              "      <td>10</td>\n",
              "      <td>3</td>\n",
              "      <td>5378</td>\n",
              "    </tr>\n",
              "  </tbody>\n",
              "</table>\n",
              "</div>"
            ],
            "text/plain": [
              "    agentId  followup_type  Total_followup_by_each_type\n",
              "0         0              3                          115\n",
              "1         2              1                           65\n",
              "2         2              2                         3706\n",
              "3         2              3                          315\n",
              "4         3              2                          516\n",
              "5         3              3                           13\n",
              "6         4              1                         1087\n",
              "7         4              2                         7140\n",
              "8         4              3                         7063\n",
              "9         5              1                            6\n",
              "10        5              2                        11065\n",
              "11        5              3                          170\n",
              "12        6              1                          210\n",
              "13        6              2                         2256\n",
              "14        6              3                         3140\n",
              "15        7              1                          183\n",
              "16        7              2                         5207\n",
              "17        7              3                         2429\n",
              "18        8              1                          293\n",
              "19        8              2                         1945\n",
              "20        8              3                          494\n",
              "21        9              1                          814\n",
              "22        9              2                         7292\n",
              "23        9              3                         1175\n",
              "24       10              1                          647\n",
              "25       10              2                         5630\n",
              "26       10              3                         5378"
            ]
          },
          "metadata": {
            "tags": []
          },
          "execution_count": 259
        }
      ]
    },
    {
      "cell_type": "code",
      "metadata": {
        "id": "4XGRWO1LZvAo"
      },
      "source": [
        "feature_4_df_text.drop(feature_4_df_text[feature_4_df_text['followup_type'] !=3].index, inplace = True)\n"
      ],
      "execution_count": null,
      "outputs": []
    },
    {
      "cell_type": "code",
      "metadata": {
        "colab": {
          "base_uri": "https://localhost:8080/",
          "height": 348
        },
        "id": "ab5b-a5PZu7W",
        "outputId": "e3cc9d71-4308-44ae-df46-9e31bad77460"
      },
      "source": [
        "feature_4_df_text.rename(columns ={'Total_followup_by_each_type':'Total_followup_by_text'}, inplace = False)\n"
      ],
      "execution_count": null,
      "outputs": [
        {
          "output_type": "execute_result",
          "data": {
            "text/html": [
              "<div>\n",
              "<style scoped>\n",
              "    .dataframe tbody tr th:only-of-type {\n",
              "        vertical-align: middle;\n",
              "    }\n",
              "\n",
              "    .dataframe tbody tr th {\n",
              "        vertical-align: top;\n",
              "    }\n",
              "\n",
              "    .dataframe thead th {\n",
              "        text-align: right;\n",
              "    }\n",
              "</style>\n",
              "<table border=\"1\" class=\"dataframe\">\n",
              "  <thead>\n",
              "    <tr style=\"text-align: right;\">\n",
              "      <th></th>\n",
              "      <th>agentId</th>\n",
              "      <th>followup_type</th>\n",
              "      <th>Total_followup_by_text</th>\n",
              "    </tr>\n",
              "  </thead>\n",
              "  <tbody>\n",
              "    <tr>\n",
              "      <th>0</th>\n",
              "      <td>0</td>\n",
              "      <td>3</td>\n",
              "      <td>115</td>\n",
              "    </tr>\n",
              "    <tr>\n",
              "      <th>3</th>\n",
              "      <td>2</td>\n",
              "      <td>3</td>\n",
              "      <td>315</td>\n",
              "    </tr>\n",
              "    <tr>\n",
              "      <th>5</th>\n",
              "      <td>3</td>\n",
              "      <td>3</td>\n",
              "      <td>13</td>\n",
              "    </tr>\n",
              "    <tr>\n",
              "      <th>8</th>\n",
              "      <td>4</td>\n",
              "      <td>3</td>\n",
              "      <td>7063</td>\n",
              "    </tr>\n",
              "    <tr>\n",
              "      <th>11</th>\n",
              "      <td>5</td>\n",
              "      <td>3</td>\n",
              "      <td>170</td>\n",
              "    </tr>\n",
              "    <tr>\n",
              "      <th>14</th>\n",
              "      <td>6</td>\n",
              "      <td>3</td>\n",
              "      <td>3140</td>\n",
              "    </tr>\n",
              "    <tr>\n",
              "      <th>17</th>\n",
              "      <td>7</td>\n",
              "      <td>3</td>\n",
              "      <td>2429</td>\n",
              "    </tr>\n",
              "    <tr>\n",
              "      <th>20</th>\n",
              "      <td>8</td>\n",
              "      <td>3</td>\n",
              "      <td>494</td>\n",
              "    </tr>\n",
              "    <tr>\n",
              "      <th>23</th>\n",
              "      <td>9</td>\n",
              "      <td>3</td>\n",
              "      <td>1175</td>\n",
              "    </tr>\n",
              "    <tr>\n",
              "      <th>26</th>\n",
              "      <td>10</td>\n",
              "      <td>3</td>\n",
              "      <td>5378</td>\n",
              "    </tr>\n",
              "  </tbody>\n",
              "</table>\n",
              "</div>"
            ],
            "text/plain": [
              "    agentId  followup_type  Total_followup_by_text\n",
              "0         0              3                     115\n",
              "3         2              3                     315\n",
              "5         3              3                      13\n",
              "8         4              3                    7063\n",
              "11        5              3                     170\n",
              "14        6              3                    3140\n",
              "17        7              3                    2429\n",
              "20        8              3                     494\n",
              "23        9              3                    1175\n",
              "26       10              3                    5378"
            ]
          },
          "metadata": {
            "tags": []
          },
          "execution_count": 261
        }
      ]
    },
    {
      "cell_type": "markdown",
      "metadata": {
        "id": "JOoX7DwZlTuT"
      },
      "source": [
        "# merging feature 1, 2, 3, 4"
      ]
    },
    {
      "cell_type": "code",
      "metadata": {
        "colab": {
          "base_uri": "https://localhost:8080/",
          "height": 318
        },
        "id": "bk4iV-7KZu38",
        "outputId": "39de3c0a-e40f-4397-bbd6-7552df1507ab"
      },
      "source": [
        "feature_4_df_merge=pd.merge(feature_4_df_call,feature_4_df_mail, on = \"agentId\", how=\"outer\") \n",
        "feature_4_df_merge"
      ],
      "execution_count": null,
      "outputs": [
        {
          "output_type": "execute_result",
          "data": {
            "text/html": [
              "<div>\n",
              "<style scoped>\n",
              "    .dataframe tbody tr th:only-of-type {\n",
              "        vertical-align: middle;\n",
              "    }\n",
              "\n",
              "    .dataframe tbody tr th {\n",
              "        vertical-align: top;\n",
              "    }\n",
              "\n",
              "    .dataframe thead th {\n",
              "        text-align: right;\n",
              "    }\n",
              "</style>\n",
              "<table border=\"1\" class=\"dataframe\">\n",
              "  <thead>\n",
              "    <tr style=\"text-align: right;\">\n",
              "      <th></th>\n",
              "      <th>agentId</th>\n",
              "      <th>followup_type_x</th>\n",
              "      <th>Total_followup_by_each_type_x</th>\n",
              "      <th>followup_type_y</th>\n",
              "      <th>Total_followup_by_each_type_y</th>\n",
              "    </tr>\n",
              "  </thead>\n",
              "  <tbody>\n",
              "    <tr>\n",
              "      <th>0</th>\n",
              "      <td>2</td>\n",
              "      <td>1.0</td>\n",
              "      <td>65.0</td>\n",
              "      <td>2</td>\n",
              "      <td>3706</td>\n",
              "    </tr>\n",
              "    <tr>\n",
              "      <th>1</th>\n",
              "      <td>4</td>\n",
              "      <td>1.0</td>\n",
              "      <td>1087.0</td>\n",
              "      <td>2</td>\n",
              "      <td>7140</td>\n",
              "    </tr>\n",
              "    <tr>\n",
              "      <th>2</th>\n",
              "      <td>5</td>\n",
              "      <td>1.0</td>\n",
              "      <td>6.0</td>\n",
              "      <td>2</td>\n",
              "      <td>11065</td>\n",
              "    </tr>\n",
              "    <tr>\n",
              "      <th>3</th>\n",
              "      <td>6</td>\n",
              "      <td>1.0</td>\n",
              "      <td>210.0</td>\n",
              "      <td>2</td>\n",
              "      <td>2256</td>\n",
              "    </tr>\n",
              "    <tr>\n",
              "      <th>4</th>\n",
              "      <td>7</td>\n",
              "      <td>1.0</td>\n",
              "      <td>183.0</td>\n",
              "      <td>2</td>\n",
              "      <td>5207</td>\n",
              "    </tr>\n",
              "    <tr>\n",
              "      <th>5</th>\n",
              "      <td>8</td>\n",
              "      <td>1.0</td>\n",
              "      <td>293.0</td>\n",
              "      <td>2</td>\n",
              "      <td>1945</td>\n",
              "    </tr>\n",
              "    <tr>\n",
              "      <th>6</th>\n",
              "      <td>9</td>\n",
              "      <td>1.0</td>\n",
              "      <td>814.0</td>\n",
              "      <td>2</td>\n",
              "      <td>7292</td>\n",
              "    </tr>\n",
              "    <tr>\n",
              "      <th>7</th>\n",
              "      <td>10</td>\n",
              "      <td>1.0</td>\n",
              "      <td>647.0</td>\n",
              "      <td>2</td>\n",
              "      <td>5630</td>\n",
              "    </tr>\n",
              "    <tr>\n",
              "      <th>8</th>\n",
              "      <td>3</td>\n",
              "      <td>NaN</td>\n",
              "      <td>NaN</td>\n",
              "      <td>2</td>\n",
              "      <td>516</td>\n",
              "    </tr>\n",
              "  </tbody>\n",
              "</table>\n",
              "</div>"
            ],
            "text/plain": [
              "   agentId  followup_type_x  ...  followup_type_y  Total_followup_by_each_type_y\n",
              "0        2              1.0  ...                2                           3706\n",
              "1        4              1.0  ...                2                           7140\n",
              "2        5              1.0  ...                2                          11065\n",
              "3        6              1.0  ...                2                           2256\n",
              "4        7              1.0  ...                2                           5207\n",
              "5        8              1.0  ...                2                           1945\n",
              "6        9              1.0  ...                2                           7292\n",
              "7       10              1.0  ...                2                           5630\n",
              "8        3              NaN  ...                2                            516\n",
              "\n",
              "[9 rows x 5 columns]"
            ]
          },
          "metadata": {
            "tags": []
          },
          "execution_count": 262
        }
      ]
    },
    {
      "cell_type": "code",
      "metadata": {
        "colab": {
          "base_uri": "https://localhost:8080/",
          "height": 368
        },
        "id": "ZNAuTe8uZ7yW",
        "outputId": "f973cfeb-cab5-411d-9532-572f02a935e5"
      },
      "source": [
        "feature_4_df_merge_all=pd.merge(feature_4_df_merge,feature_4_df_text, on = \"agentId\", how=\"outer\") \n",
        "feature_4_df_merge_all"
      ],
      "execution_count": null,
      "outputs": [
        {
          "output_type": "execute_result",
          "data": {
            "text/html": [
              "<div>\n",
              "<style scoped>\n",
              "    .dataframe tbody tr th:only-of-type {\n",
              "        vertical-align: middle;\n",
              "    }\n",
              "\n",
              "    .dataframe tbody tr th {\n",
              "        vertical-align: top;\n",
              "    }\n",
              "\n",
              "    .dataframe thead th {\n",
              "        text-align: right;\n",
              "    }\n",
              "</style>\n",
              "<table border=\"1\" class=\"dataframe\">\n",
              "  <thead>\n",
              "    <tr style=\"text-align: right;\">\n",
              "      <th></th>\n",
              "      <th>agentId</th>\n",
              "      <th>followup_type_x</th>\n",
              "      <th>Total_followup_by_each_type_x</th>\n",
              "      <th>followup_type_y</th>\n",
              "      <th>Total_followup_by_each_type_y</th>\n",
              "      <th>followup_type</th>\n",
              "      <th>Total_followup_by_each_type</th>\n",
              "    </tr>\n",
              "  </thead>\n",
              "  <tbody>\n",
              "    <tr>\n",
              "      <th>0</th>\n",
              "      <td>2</td>\n",
              "      <td>1.0</td>\n",
              "      <td>65.0</td>\n",
              "      <td>2.0</td>\n",
              "      <td>3706.0</td>\n",
              "      <td>3</td>\n",
              "      <td>315</td>\n",
              "    </tr>\n",
              "    <tr>\n",
              "      <th>1</th>\n",
              "      <td>4</td>\n",
              "      <td>1.0</td>\n",
              "      <td>1087.0</td>\n",
              "      <td>2.0</td>\n",
              "      <td>7140.0</td>\n",
              "      <td>3</td>\n",
              "      <td>7063</td>\n",
              "    </tr>\n",
              "    <tr>\n",
              "      <th>2</th>\n",
              "      <td>5</td>\n",
              "      <td>1.0</td>\n",
              "      <td>6.0</td>\n",
              "      <td>2.0</td>\n",
              "      <td>11065.0</td>\n",
              "      <td>3</td>\n",
              "      <td>170</td>\n",
              "    </tr>\n",
              "    <tr>\n",
              "      <th>3</th>\n",
              "      <td>6</td>\n",
              "      <td>1.0</td>\n",
              "      <td>210.0</td>\n",
              "      <td>2.0</td>\n",
              "      <td>2256.0</td>\n",
              "      <td>3</td>\n",
              "      <td>3140</td>\n",
              "    </tr>\n",
              "    <tr>\n",
              "      <th>4</th>\n",
              "      <td>7</td>\n",
              "      <td>1.0</td>\n",
              "      <td>183.0</td>\n",
              "      <td>2.0</td>\n",
              "      <td>5207.0</td>\n",
              "      <td>3</td>\n",
              "      <td>2429</td>\n",
              "    </tr>\n",
              "    <tr>\n",
              "      <th>5</th>\n",
              "      <td>8</td>\n",
              "      <td>1.0</td>\n",
              "      <td>293.0</td>\n",
              "      <td>2.0</td>\n",
              "      <td>1945.0</td>\n",
              "      <td>3</td>\n",
              "      <td>494</td>\n",
              "    </tr>\n",
              "    <tr>\n",
              "      <th>6</th>\n",
              "      <td>9</td>\n",
              "      <td>1.0</td>\n",
              "      <td>814.0</td>\n",
              "      <td>2.0</td>\n",
              "      <td>7292.0</td>\n",
              "      <td>3</td>\n",
              "      <td>1175</td>\n",
              "    </tr>\n",
              "    <tr>\n",
              "      <th>7</th>\n",
              "      <td>10</td>\n",
              "      <td>1.0</td>\n",
              "      <td>647.0</td>\n",
              "      <td>2.0</td>\n",
              "      <td>5630.0</td>\n",
              "      <td>3</td>\n",
              "      <td>5378</td>\n",
              "    </tr>\n",
              "    <tr>\n",
              "      <th>8</th>\n",
              "      <td>3</td>\n",
              "      <td>NaN</td>\n",
              "      <td>NaN</td>\n",
              "      <td>2.0</td>\n",
              "      <td>516.0</td>\n",
              "      <td>3</td>\n",
              "      <td>13</td>\n",
              "    </tr>\n",
              "    <tr>\n",
              "      <th>9</th>\n",
              "      <td>0</td>\n",
              "      <td>NaN</td>\n",
              "      <td>NaN</td>\n",
              "      <td>NaN</td>\n",
              "      <td>NaN</td>\n",
              "      <td>3</td>\n",
              "      <td>115</td>\n",
              "    </tr>\n",
              "  </tbody>\n",
              "</table>\n",
              "</div>"
            ],
            "text/plain": [
              "   agentId  followup_type_x  ...  followup_type  Total_followup_by_each_type\n",
              "0        2              1.0  ...              3                          315\n",
              "1        4              1.0  ...              3                         7063\n",
              "2        5              1.0  ...              3                          170\n",
              "3        6              1.0  ...              3                         3140\n",
              "4        7              1.0  ...              3                         2429\n",
              "5        8              1.0  ...              3                          494\n",
              "6        9              1.0  ...              3                         1175\n",
              "7       10              1.0  ...              3                         5378\n",
              "8        3              NaN  ...              3                           13\n",
              "9        0              NaN  ...              3                          115\n",
              "\n",
              "[10 rows x 7 columns]"
            ]
          },
          "metadata": {
            "tags": []
          },
          "execution_count": 263
        }
      ]
    },
    {
      "cell_type": "code",
      "metadata": {
        "id": "ssefDugmZ7po"
      },
      "source": [
        "feature_4_df_merge_all.drop(['followup_type_x','followup_type_y','followup_type'],axis=1,inplace=True)"
      ],
      "execution_count": null,
      "outputs": []
    },
    {
      "cell_type": "code",
      "metadata": {
        "colab": {
          "base_uri": "https://localhost:8080/",
          "height": 348
        },
        "id": "Tw65zqdnZ7ji",
        "outputId": "7e1ad22d-13fa-4040-dddd-b618e043e852"
      },
      "source": [
        "feature_4_df_merge_all"
      ],
      "execution_count": null,
      "outputs": [
        {
          "output_type": "execute_result",
          "data": {
            "text/html": [
              "<div>\n",
              "<style scoped>\n",
              "    .dataframe tbody tr th:only-of-type {\n",
              "        vertical-align: middle;\n",
              "    }\n",
              "\n",
              "    .dataframe tbody tr th {\n",
              "        vertical-align: top;\n",
              "    }\n",
              "\n",
              "    .dataframe thead th {\n",
              "        text-align: right;\n",
              "    }\n",
              "</style>\n",
              "<table border=\"1\" class=\"dataframe\">\n",
              "  <thead>\n",
              "    <tr style=\"text-align: right;\">\n",
              "      <th></th>\n",
              "      <th>agentId</th>\n",
              "      <th>Total_followup_by_each_type_x</th>\n",
              "      <th>Total_followup_by_each_type_y</th>\n",
              "      <th>Total_followup_by_each_type</th>\n",
              "    </tr>\n",
              "  </thead>\n",
              "  <tbody>\n",
              "    <tr>\n",
              "      <th>0</th>\n",
              "      <td>2</td>\n",
              "      <td>65.0</td>\n",
              "      <td>3706.0</td>\n",
              "      <td>315</td>\n",
              "    </tr>\n",
              "    <tr>\n",
              "      <th>1</th>\n",
              "      <td>4</td>\n",
              "      <td>1087.0</td>\n",
              "      <td>7140.0</td>\n",
              "      <td>7063</td>\n",
              "    </tr>\n",
              "    <tr>\n",
              "      <th>2</th>\n",
              "      <td>5</td>\n",
              "      <td>6.0</td>\n",
              "      <td>11065.0</td>\n",
              "      <td>170</td>\n",
              "    </tr>\n",
              "    <tr>\n",
              "      <th>3</th>\n",
              "      <td>6</td>\n",
              "      <td>210.0</td>\n",
              "      <td>2256.0</td>\n",
              "      <td>3140</td>\n",
              "    </tr>\n",
              "    <tr>\n",
              "      <th>4</th>\n",
              "      <td>7</td>\n",
              "      <td>183.0</td>\n",
              "      <td>5207.0</td>\n",
              "      <td>2429</td>\n",
              "    </tr>\n",
              "    <tr>\n",
              "      <th>5</th>\n",
              "      <td>8</td>\n",
              "      <td>293.0</td>\n",
              "      <td>1945.0</td>\n",
              "      <td>494</td>\n",
              "    </tr>\n",
              "    <tr>\n",
              "      <th>6</th>\n",
              "      <td>9</td>\n",
              "      <td>814.0</td>\n",
              "      <td>7292.0</td>\n",
              "      <td>1175</td>\n",
              "    </tr>\n",
              "    <tr>\n",
              "      <th>7</th>\n",
              "      <td>10</td>\n",
              "      <td>647.0</td>\n",
              "      <td>5630.0</td>\n",
              "      <td>5378</td>\n",
              "    </tr>\n",
              "    <tr>\n",
              "      <th>8</th>\n",
              "      <td>3</td>\n",
              "      <td>NaN</td>\n",
              "      <td>516.0</td>\n",
              "      <td>13</td>\n",
              "    </tr>\n",
              "    <tr>\n",
              "      <th>9</th>\n",
              "      <td>0</td>\n",
              "      <td>NaN</td>\n",
              "      <td>NaN</td>\n",
              "      <td>115</td>\n",
              "    </tr>\n",
              "  </tbody>\n",
              "</table>\n",
              "</div>"
            ],
            "text/plain": [
              "   agentId  ...  Total_followup_by_each_type\n",
              "0        2  ...                          315\n",
              "1        4  ...                         7063\n",
              "2        5  ...                          170\n",
              "3        6  ...                         3140\n",
              "4        7  ...                         2429\n",
              "5        8  ...                          494\n",
              "6        9  ...                         1175\n",
              "7       10  ...                         5378\n",
              "8        3  ...                           13\n",
              "9        0  ...                          115\n",
              "\n",
              "[10 rows x 4 columns]"
            ]
          },
          "metadata": {
            "tags": []
          },
          "execution_count": 265
        }
      ]
    },
    {
      "cell_type": "code",
      "metadata": {
        "id": "xCpHa_3If0UQ"
      },
      "source": [
        "feature_4_df_merge_all=feature_4_df_merge_all.rename(columns ={'Total_followup_by_each_type_x':'Total_followup_by_call','Total_followup_by_each_type_y':'Total_followup_by_mail','Total_followup_by_each_type':'Total_followup_by_text'}, inplace = False)\n"
      ],
      "execution_count": null,
      "outputs": []
    },
    {
      "cell_type": "code",
      "metadata": {
        "colab": {
          "base_uri": "https://localhost:8080/",
          "height": 348
        },
        "id": "qsaqcxNvi8FL",
        "outputId": "e95281c0-a9a7-468b-f77f-ba86099ca837"
      },
      "source": [
        "feature_4_df_merge_all"
      ],
      "execution_count": null,
      "outputs": [
        {
          "output_type": "execute_result",
          "data": {
            "text/html": [
              "<div>\n",
              "<style scoped>\n",
              "    .dataframe tbody tr th:only-of-type {\n",
              "        vertical-align: middle;\n",
              "    }\n",
              "\n",
              "    .dataframe tbody tr th {\n",
              "        vertical-align: top;\n",
              "    }\n",
              "\n",
              "    .dataframe thead th {\n",
              "        text-align: right;\n",
              "    }\n",
              "</style>\n",
              "<table border=\"1\" class=\"dataframe\">\n",
              "  <thead>\n",
              "    <tr style=\"text-align: right;\">\n",
              "      <th></th>\n",
              "      <th>agentId</th>\n",
              "      <th>Total_followup_by_call</th>\n",
              "      <th>Total_followup_by_mail</th>\n",
              "      <th>Total_followup_by_text</th>\n",
              "    </tr>\n",
              "  </thead>\n",
              "  <tbody>\n",
              "    <tr>\n",
              "      <th>0</th>\n",
              "      <td>2</td>\n",
              "      <td>65.0</td>\n",
              "      <td>3706.0</td>\n",
              "      <td>315</td>\n",
              "    </tr>\n",
              "    <tr>\n",
              "      <th>1</th>\n",
              "      <td>4</td>\n",
              "      <td>1087.0</td>\n",
              "      <td>7140.0</td>\n",
              "      <td>7063</td>\n",
              "    </tr>\n",
              "    <tr>\n",
              "      <th>2</th>\n",
              "      <td>5</td>\n",
              "      <td>6.0</td>\n",
              "      <td>11065.0</td>\n",
              "      <td>170</td>\n",
              "    </tr>\n",
              "    <tr>\n",
              "      <th>3</th>\n",
              "      <td>6</td>\n",
              "      <td>210.0</td>\n",
              "      <td>2256.0</td>\n",
              "      <td>3140</td>\n",
              "    </tr>\n",
              "    <tr>\n",
              "      <th>4</th>\n",
              "      <td>7</td>\n",
              "      <td>183.0</td>\n",
              "      <td>5207.0</td>\n",
              "      <td>2429</td>\n",
              "    </tr>\n",
              "    <tr>\n",
              "      <th>5</th>\n",
              "      <td>8</td>\n",
              "      <td>293.0</td>\n",
              "      <td>1945.0</td>\n",
              "      <td>494</td>\n",
              "    </tr>\n",
              "    <tr>\n",
              "      <th>6</th>\n",
              "      <td>9</td>\n",
              "      <td>814.0</td>\n",
              "      <td>7292.0</td>\n",
              "      <td>1175</td>\n",
              "    </tr>\n",
              "    <tr>\n",
              "      <th>7</th>\n",
              "      <td>10</td>\n",
              "      <td>647.0</td>\n",
              "      <td>5630.0</td>\n",
              "      <td>5378</td>\n",
              "    </tr>\n",
              "    <tr>\n",
              "      <th>8</th>\n",
              "      <td>3</td>\n",
              "      <td>NaN</td>\n",
              "      <td>516.0</td>\n",
              "      <td>13</td>\n",
              "    </tr>\n",
              "    <tr>\n",
              "      <th>9</th>\n",
              "      <td>0</td>\n",
              "      <td>NaN</td>\n",
              "      <td>NaN</td>\n",
              "      <td>115</td>\n",
              "    </tr>\n",
              "  </tbody>\n",
              "</table>\n",
              "</div>"
            ],
            "text/plain": [
              "   agentId  ...  Total_followup_by_text\n",
              "0        2  ...                     315\n",
              "1        4  ...                    7063\n",
              "2        5  ...                     170\n",
              "3        6  ...                    3140\n",
              "4        7  ...                    2429\n",
              "5        8  ...                     494\n",
              "6        9  ...                    1175\n",
              "7       10  ...                    5378\n",
              "8        3  ...                      13\n",
              "9        0  ...                     115\n",
              "\n",
              "[10 rows x 4 columns]"
            ]
          },
          "metadata": {
            "tags": []
          },
          "execution_count": 270
        }
      ]
    },
    {
      "cell_type": "code",
      "metadata": {
        "colab": {
          "base_uri": "https://localhost:8080/",
          "height": 348
        },
        "id": "dBHhgxskgzf9",
        "outputId": "be7fb036-a0bd-4d34-9cee-cdbb00d8003a"
      },
      "source": [
        "final_df_till_3_feature_1"
      ],
      "execution_count": null,
      "outputs": [
        {
          "output_type": "execute_result",
          "data": {
            "text/html": [
              "<div>\n",
              "<style scoped>\n",
              "    .dataframe tbody tr th:only-of-type {\n",
              "        vertical-align: middle;\n",
              "    }\n",
              "\n",
              "    .dataframe tbody tr th {\n",
              "        vertical-align: top;\n",
              "    }\n",
              "\n",
              "    .dataframe thead th {\n",
              "        text-align: right;\n",
              "    }\n",
              "</style>\n",
              "<table border=\"1\" class=\"dataframe\">\n",
              "  <thead>\n",
              "    <tr style=\"text-align: right;\">\n",
              "      <th></th>\n",
              "      <th>agentId</th>\n",
              "      <th>agent_lead_count</th>\n",
              "      <th>Total_followup</th>\n",
              "      <th>outgoing_counts</th>\n",
              "      <th>incoming_counts</th>\n",
              "    </tr>\n",
              "  </thead>\n",
              "  <tbody>\n",
              "    <tr>\n",
              "      <th>0</th>\n",
              "      <td>0</td>\n",
              "      <td>5</td>\n",
              "      <td>115</td>\n",
              "      <td>0.0</td>\n",
              "      <td>115</td>\n",
              "    </tr>\n",
              "    <tr>\n",
              "      <th>1</th>\n",
              "      <td>2</td>\n",
              "      <td>874</td>\n",
              "      <td>4086</td>\n",
              "      <td>3745.0</td>\n",
              "      <td>341</td>\n",
              "    </tr>\n",
              "    <tr>\n",
              "      <th>2</th>\n",
              "      <td>3</td>\n",
              "      <td>343</td>\n",
              "      <td>529</td>\n",
              "      <td>505.0</td>\n",
              "      <td>24</td>\n",
              "    </tr>\n",
              "    <tr>\n",
              "      <th>3</th>\n",
              "      <td>4</td>\n",
              "      <td>1599</td>\n",
              "      <td>15290</td>\n",
              "      <td>11885.0</td>\n",
              "      <td>3405</td>\n",
              "    </tr>\n",
              "    <tr>\n",
              "      <th>4</th>\n",
              "      <td>5</td>\n",
              "      <td>398</td>\n",
              "      <td>11241</td>\n",
              "      <td>11108.0</td>\n",
              "      <td>133</td>\n",
              "    </tr>\n",
              "    <tr>\n",
              "      <th>5</th>\n",
              "      <td>6</td>\n",
              "      <td>351</td>\n",
              "      <td>5606</td>\n",
              "      <td>3349.0</td>\n",
              "      <td>2257</td>\n",
              "    </tr>\n",
              "    <tr>\n",
              "      <th>6</th>\n",
              "      <td>7</td>\n",
              "      <td>364</td>\n",
              "      <td>7819</td>\n",
              "      <td>3108.0</td>\n",
              "      <td>4711</td>\n",
              "    </tr>\n",
              "    <tr>\n",
              "      <th>7</th>\n",
              "      <td>8</td>\n",
              "      <td>568</td>\n",
              "      <td>2732</td>\n",
              "      <td>2572.0</td>\n",
              "      <td>160</td>\n",
              "    </tr>\n",
              "    <tr>\n",
              "      <th>8</th>\n",
              "      <td>9</td>\n",
              "      <td>876</td>\n",
              "      <td>9281</td>\n",
              "      <td>7066.0</td>\n",
              "      <td>2215</td>\n",
              "    </tr>\n",
              "    <tr>\n",
              "      <th>9</th>\n",
              "      <td>10</td>\n",
              "      <td>1425</td>\n",
              "      <td>11655</td>\n",
              "      <td>7875.0</td>\n",
              "      <td>3780</td>\n",
              "    </tr>\n",
              "  </tbody>\n",
              "</table>\n",
              "</div>"
            ],
            "text/plain": [
              "   agentId  agent_lead_count  Total_followup  outgoing_counts  incoming_counts\n",
              "0        0                 5             115              0.0              115\n",
              "1        2               874            4086           3745.0              341\n",
              "2        3               343             529            505.0               24\n",
              "3        4              1599           15290          11885.0             3405\n",
              "4        5               398           11241          11108.0              133\n",
              "5        6               351            5606           3349.0             2257\n",
              "6        7               364            7819           3108.0             4711\n",
              "7        8               568            2732           2572.0              160\n",
              "8        9               876            9281           7066.0             2215\n",
              "9       10              1425           11655           7875.0             3780"
            ]
          },
          "metadata": {
            "tags": []
          },
          "execution_count": 267
        }
      ]
    },
    {
      "cell_type": "code",
      "metadata": {
        "colab": {
          "base_uri": "https://localhost:8080/",
          "height": 368
        },
        "id": "bQrJ6E3cg5fA",
        "outputId": "eb6ad5ed-2fdc-4312-b66b-392f18cd724d"
      },
      "source": [
        "final_df_till_4_feature_new=pd.merge(final_df_till_3_feature_1,feature_4_df_merge_all, on = \"agentId\", how=\"outer\") \n",
        "final_df_till_4_feature_new"
      ],
      "execution_count": null,
      "outputs": [
        {
          "output_type": "execute_result",
          "data": {
            "text/html": [
              "<div>\n",
              "<style scoped>\n",
              "    .dataframe tbody tr th:only-of-type {\n",
              "        vertical-align: middle;\n",
              "    }\n",
              "\n",
              "    .dataframe tbody tr th {\n",
              "        vertical-align: top;\n",
              "    }\n",
              "\n",
              "    .dataframe thead th {\n",
              "        text-align: right;\n",
              "    }\n",
              "</style>\n",
              "<table border=\"1\" class=\"dataframe\">\n",
              "  <thead>\n",
              "    <tr style=\"text-align: right;\">\n",
              "      <th></th>\n",
              "      <th>agentId</th>\n",
              "      <th>agent_lead_count</th>\n",
              "      <th>Total_followup</th>\n",
              "      <th>outgoing_counts</th>\n",
              "      <th>incoming_counts</th>\n",
              "      <th>Total_followup_by_call</th>\n",
              "      <th>Total_followup_by_mail</th>\n",
              "      <th>Total_followup_by_text</th>\n",
              "    </tr>\n",
              "  </thead>\n",
              "  <tbody>\n",
              "    <tr>\n",
              "      <th>0</th>\n",
              "      <td>0</td>\n",
              "      <td>5</td>\n",
              "      <td>115</td>\n",
              "      <td>0.0</td>\n",
              "      <td>115</td>\n",
              "      <td>NaN</td>\n",
              "      <td>NaN</td>\n",
              "      <td>115</td>\n",
              "    </tr>\n",
              "    <tr>\n",
              "      <th>1</th>\n",
              "      <td>2</td>\n",
              "      <td>874</td>\n",
              "      <td>4086</td>\n",
              "      <td>3745.0</td>\n",
              "      <td>341</td>\n",
              "      <td>65.0</td>\n",
              "      <td>3706.0</td>\n",
              "      <td>315</td>\n",
              "    </tr>\n",
              "    <tr>\n",
              "      <th>2</th>\n",
              "      <td>3</td>\n",
              "      <td>343</td>\n",
              "      <td>529</td>\n",
              "      <td>505.0</td>\n",
              "      <td>24</td>\n",
              "      <td>NaN</td>\n",
              "      <td>516.0</td>\n",
              "      <td>13</td>\n",
              "    </tr>\n",
              "    <tr>\n",
              "      <th>3</th>\n",
              "      <td>4</td>\n",
              "      <td>1599</td>\n",
              "      <td>15290</td>\n",
              "      <td>11885.0</td>\n",
              "      <td>3405</td>\n",
              "      <td>1087.0</td>\n",
              "      <td>7140.0</td>\n",
              "      <td>7063</td>\n",
              "    </tr>\n",
              "    <tr>\n",
              "      <th>4</th>\n",
              "      <td>5</td>\n",
              "      <td>398</td>\n",
              "      <td>11241</td>\n",
              "      <td>11108.0</td>\n",
              "      <td>133</td>\n",
              "      <td>6.0</td>\n",
              "      <td>11065.0</td>\n",
              "      <td>170</td>\n",
              "    </tr>\n",
              "    <tr>\n",
              "      <th>5</th>\n",
              "      <td>6</td>\n",
              "      <td>351</td>\n",
              "      <td>5606</td>\n",
              "      <td>3349.0</td>\n",
              "      <td>2257</td>\n",
              "      <td>210.0</td>\n",
              "      <td>2256.0</td>\n",
              "      <td>3140</td>\n",
              "    </tr>\n",
              "    <tr>\n",
              "      <th>6</th>\n",
              "      <td>7</td>\n",
              "      <td>364</td>\n",
              "      <td>7819</td>\n",
              "      <td>3108.0</td>\n",
              "      <td>4711</td>\n",
              "      <td>183.0</td>\n",
              "      <td>5207.0</td>\n",
              "      <td>2429</td>\n",
              "    </tr>\n",
              "    <tr>\n",
              "      <th>7</th>\n",
              "      <td>8</td>\n",
              "      <td>568</td>\n",
              "      <td>2732</td>\n",
              "      <td>2572.0</td>\n",
              "      <td>160</td>\n",
              "      <td>293.0</td>\n",
              "      <td>1945.0</td>\n",
              "      <td>494</td>\n",
              "    </tr>\n",
              "    <tr>\n",
              "      <th>8</th>\n",
              "      <td>9</td>\n",
              "      <td>876</td>\n",
              "      <td>9281</td>\n",
              "      <td>7066.0</td>\n",
              "      <td>2215</td>\n",
              "      <td>814.0</td>\n",
              "      <td>7292.0</td>\n",
              "      <td>1175</td>\n",
              "    </tr>\n",
              "    <tr>\n",
              "      <th>9</th>\n",
              "      <td>10</td>\n",
              "      <td>1425</td>\n",
              "      <td>11655</td>\n",
              "      <td>7875.0</td>\n",
              "      <td>3780</td>\n",
              "      <td>647.0</td>\n",
              "      <td>5630.0</td>\n",
              "      <td>5378</td>\n",
              "    </tr>\n",
              "  </tbody>\n",
              "</table>\n",
              "</div>"
            ],
            "text/plain": [
              "   agentId  agent_lead_count  ...  Total_followup_by_mail  Total_followup_by_text\n",
              "0        0                 5  ...                     NaN                     115\n",
              "1        2               874  ...                  3706.0                     315\n",
              "2        3               343  ...                   516.0                      13\n",
              "3        4              1599  ...                  7140.0                    7063\n",
              "4        5               398  ...                 11065.0                     170\n",
              "5        6               351  ...                  2256.0                    3140\n",
              "6        7               364  ...                  5207.0                    2429\n",
              "7        8               568  ...                  1945.0                     494\n",
              "8        9               876  ...                  7292.0                    1175\n",
              "9       10              1425  ...                  5630.0                    5378\n",
              "\n",
              "[10 rows x 8 columns]"
            ]
          },
          "metadata": {
            "tags": []
          },
          "execution_count": 271
        }
      ]
    },
    {
      "cell_type": "markdown",
      "metadata": {
        "id": "zY9Ju9zboNR7"
      },
      "source": [
        "#handleing duration:feature 5\n",
        "\n",
        "\n"
      ]
    },
    {
      "cell_type": "code",
      "metadata": {
        "colab": {
          "base_uri": "https://localhost:8080/",
          "height": 407
        },
        "id": "JMo-XHL3g_x2",
        "outputId": "efbfc24c-3ec2-4368-b5b6-f6311a02ae79"
      },
      "source": [
        "df_duration= df[['agentId','duration']]\n",
        "df_duration"
      ],
      "execution_count": null,
      "outputs": [
        {
          "output_type": "execute_result",
          "data": {
            "text/html": [
              "<div>\n",
              "<style scoped>\n",
              "    .dataframe tbody tr th:only-of-type {\n",
              "        vertical-align: middle;\n",
              "    }\n",
              "\n",
              "    .dataframe tbody tr th {\n",
              "        vertical-align: top;\n",
              "    }\n",
              "\n",
              "    .dataframe thead th {\n",
              "        text-align: right;\n",
              "    }\n",
              "</style>\n",
              "<table border=\"1\" class=\"dataframe\">\n",
              "  <thead>\n",
              "    <tr style=\"text-align: right;\">\n",
              "      <th></th>\n",
              "      <th>agentId</th>\n",
              "      <th>duration</th>\n",
              "    </tr>\n",
              "  </thead>\n",
              "  <tbody>\n",
              "    <tr>\n",
              "      <th>0</th>\n",
              "      <td>10</td>\n",
              "      <td>0</td>\n",
              "    </tr>\n",
              "    <tr>\n",
              "      <th>1</th>\n",
              "      <td>10</td>\n",
              "      <td>0</td>\n",
              "    </tr>\n",
              "    <tr>\n",
              "      <th>2</th>\n",
              "      <td>4</td>\n",
              "      <td>91</td>\n",
              "    </tr>\n",
              "    <tr>\n",
              "      <th>3</th>\n",
              "      <td>9</td>\n",
              "      <td>0</td>\n",
              "    </tr>\n",
              "    <tr>\n",
              "      <th>4</th>\n",
              "      <td>9</td>\n",
              "      <td>0</td>\n",
              "    </tr>\n",
              "    <tr>\n",
              "      <th>...</th>\n",
              "      <td>...</td>\n",
              "      <td>...</td>\n",
              "    </tr>\n",
              "    <tr>\n",
              "      <th>68349</th>\n",
              "      <td>4</td>\n",
              "      <td>0</td>\n",
              "    </tr>\n",
              "    <tr>\n",
              "      <th>68350</th>\n",
              "      <td>4</td>\n",
              "      <td>0</td>\n",
              "    </tr>\n",
              "    <tr>\n",
              "      <th>68351</th>\n",
              "      <td>4</td>\n",
              "      <td>0</td>\n",
              "    </tr>\n",
              "    <tr>\n",
              "      <th>68352</th>\n",
              "      <td>7</td>\n",
              "      <td>0</td>\n",
              "    </tr>\n",
              "    <tr>\n",
              "      <th>68353</th>\n",
              "      <td>4</td>\n",
              "      <td>0</td>\n",
              "    </tr>\n",
              "  </tbody>\n",
              "</table>\n",
              "<p>68354 rows × 2 columns</p>\n",
              "</div>"
            ],
            "text/plain": [
              "       agentId  duration\n",
              "0           10         0\n",
              "1           10         0\n",
              "2            4        91\n",
              "3            9         0\n",
              "4            9         0\n",
              "...        ...       ...\n",
              "68349        4         0\n",
              "68350        4         0\n",
              "68351        4         0\n",
              "68352        7         0\n",
              "68353        4         0\n",
              "\n",
              "[68354 rows x 2 columns]"
            ]
          },
          "metadata": {
            "tags": []
          },
          "execution_count": 20
        }
      ]
    },
    {
      "cell_type": "code",
      "metadata": {
        "id": "wIR7RoHWg_8N"
      },
      "source": [
        "df_duration_index= df_duration.groupby(['agentId']).sum()\n",
        "df_duration_index_1=df_duration_index.reset_index()"
      ],
      "execution_count": null,
      "outputs": []
    },
    {
      "cell_type": "code",
      "metadata": {
        "colab": {
          "base_uri": "https://localhost:8080/",
          "height": 348
        },
        "id": "RAxV8D25hAGH",
        "outputId": "994fc2de-f062-4d0b-8fb6-2a088fc3edac"
      },
      "source": [
        "# Total call duration each agentId have \n",
        "df_duration_index_1.sort_values('duration', ascending=False)"
      ],
      "execution_count": null,
      "outputs": [
        {
          "output_type": "execute_result",
          "data": {
            "text/html": [
              "<div>\n",
              "<style scoped>\n",
              "    .dataframe tbody tr th:only-of-type {\n",
              "        vertical-align: middle;\n",
              "    }\n",
              "\n",
              "    .dataframe tbody tr th {\n",
              "        vertical-align: top;\n",
              "    }\n",
              "\n",
              "    .dataframe thead th {\n",
              "        text-align: right;\n",
              "    }\n",
              "</style>\n",
              "<table border=\"1\" class=\"dataframe\">\n",
              "  <thead>\n",
              "    <tr style=\"text-align: right;\">\n",
              "      <th></th>\n",
              "      <th>agentId</th>\n",
              "      <th>duration</th>\n",
              "    </tr>\n",
              "  </thead>\n",
              "  <tbody>\n",
              "    <tr>\n",
              "      <th>3</th>\n",
              "      <td>4</td>\n",
              "      <td>74545</td>\n",
              "    </tr>\n",
              "    <tr>\n",
              "      <th>9</th>\n",
              "      <td>10</td>\n",
              "      <td>46924</td>\n",
              "    </tr>\n",
              "    <tr>\n",
              "      <th>7</th>\n",
              "      <td>8</td>\n",
              "      <td>22414</td>\n",
              "    </tr>\n",
              "    <tr>\n",
              "      <th>8</th>\n",
              "      <td>9</td>\n",
              "      <td>18504</td>\n",
              "    </tr>\n",
              "    <tr>\n",
              "      <th>5</th>\n",
              "      <td>6</td>\n",
              "      <td>18177</td>\n",
              "    </tr>\n",
              "    <tr>\n",
              "      <th>6</th>\n",
              "      <td>7</td>\n",
              "      <td>8464</td>\n",
              "    </tr>\n",
              "    <tr>\n",
              "      <th>1</th>\n",
              "      <td>2</td>\n",
              "      <td>4631</td>\n",
              "    </tr>\n",
              "    <tr>\n",
              "      <th>0</th>\n",
              "      <td>0</td>\n",
              "      <td>0</td>\n",
              "    </tr>\n",
              "    <tr>\n",
              "      <th>2</th>\n",
              "      <td>3</td>\n",
              "      <td>0</td>\n",
              "    </tr>\n",
              "    <tr>\n",
              "      <th>4</th>\n",
              "      <td>5</td>\n",
              "      <td>0</td>\n",
              "    </tr>\n",
              "  </tbody>\n",
              "</table>\n",
              "</div>"
            ],
            "text/plain": [
              "   agentId  duration\n",
              "3        4     74545\n",
              "9       10     46924\n",
              "7        8     22414\n",
              "8        9     18504\n",
              "5        6     18177\n",
              "6        7      8464\n",
              "1        2      4631\n",
              "0        0         0\n",
              "2        3         0\n",
              "4        5         0"
            ]
          },
          "metadata": {
            "tags": []
          },
          "execution_count": 22
        }
      ]
    },
    {
      "cell_type": "code",
      "metadata": {
        "colab": {
          "base_uri": "https://localhost:8080/",
          "height": 350
        },
        "id": "5fQIIRjKk8xC",
        "outputId": "954e8c56-0f6b-4753-c4aa-6c5f8348bfe6"
      },
      "source": [
        "#graph for Total call duration each agentId have \n",
        "\n",
        "df_duration_index_garph=df_duration_index_1.sort_values('duration', ascending=False)\n",
        "fig = plt.figure(figsize = (10, 5))\n",
        " \n",
        "plt.bar(df_duration_index_garph.agentId, df_duration_index_garph.duration, color ='red',\n",
        "        width = 0.4)\n",
        " \n",
        "\n",
        "plt.xlabel(\"agentId\")\n",
        "plt.ylabel(\"duration\")\n",
        "plt.title(\"AgentId Vs duration\")\n",
        "plt.show()"
      ],
      "execution_count": null,
      "outputs": [
        {
          "output_type": "display_data",
          "data": {
            "image/png": "[encoded data removed]",
            "text/plain": [
              "<Figure size 720x360 with 1 Axes>"
            ]
          },
          "metadata": {
            "tags": [],
            "needs_background": "light"
          }
        }
      ]
    },
    {
      "cell_type": "code",
      "metadata": {
        "colab": {
          "base_uri": "https://localhost:8080/",
          "height": 348
        },
        "id": "bh934guBSot-",
        "outputId": "0450e1c1-7b8b-4a55-d751-666aa981faba"
      },
      "source": [
        "df_duration_index_1"
      ],
      "execution_count": null,
      "outputs": [
        {
          "output_type": "execute_result",
          "data": {
            "text/html": [
              "<div>\n",
              "<style scoped>\n",
              "    .dataframe tbody tr th:only-of-type {\n",
              "        vertical-align: middle;\n",
              "    }\n",
              "\n",
              "    .dataframe tbody tr th {\n",
              "        vertical-align: top;\n",
              "    }\n",
              "\n",
              "    .dataframe thead th {\n",
              "        text-align: right;\n",
              "    }\n",
              "</style>\n",
              "<table border=\"1\" class=\"dataframe\">\n",
              "  <thead>\n",
              "    <tr style=\"text-align: right;\">\n",
              "      <th></th>\n",
              "      <th>agentId</th>\n",
              "      <th>duration</th>\n",
              "    </tr>\n",
              "  </thead>\n",
              "  <tbody>\n",
              "    <tr>\n",
              "      <th>0</th>\n",
              "      <td>0</td>\n",
              "      <td>0</td>\n",
              "    </tr>\n",
              "    <tr>\n",
              "      <th>1</th>\n",
              "      <td>2</td>\n",
              "      <td>4631</td>\n",
              "    </tr>\n",
              "    <tr>\n",
              "      <th>2</th>\n",
              "      <td>3</td>\n",
              "      <td>0</td>\n",
              "    </tr>\n",
              "    <tr>\n",
              "      <th>3</th>\n",
              "      <td>4</td>\n",
              "      <td>74545</td>\n",
              "    </tr>\n",
              "    <tr>\n",
              "      <th>4</th>\n",
              "      <td>5</td>\n",
              "      <td>0</td>\n",
              "    </tr>\n",
              "    <tr>\n",
              "      <th>5</th>\n",
              "      <td>6</td>\n",
              "      <td>18177</td>\n",
              "    </tr>\n",
              "    <tr>\n",
              "      <th>6</th>\n",
              "      <td>7</td>\n",
              "      <td>8464</td>\n",
              "    </tr>\n",
              "    <tr>\n",
              "      <th>7</th>\n",
              "      <td>8</td>\n",
              "      <td>22414</td>\n",
              "    </tr>\n",
              "    <tr>\n",
              "      <th>8</th>\n",
              "      <td>9</td>\n",
              "      <td>18504</td>\n",
              "    </tr>\n",
              "    <tr>\n",
              "      <th>9</th>\n",
              "      <td>10</td>\n",
              "      <td>46924</td>\n",
              "    </tr>\n",
              "  </tbody>\n",
              "</table>\n",
              "</div>"
            ],
            "text/plain": [
              "   agentId  duration\n",
              "0        0         0\n",
              "1        2      4631\n",
              "2        3         0\n",
              "3        4     74545\n",
              "4        5         0\n",
              "5        6     18177\n",
              "6        7      8464\n",
              "7        8     22414\n",
              "8        9     18504\n",
              "9       10     46924"
            ]
          },
          "metadata": {
            "tags": []
          },
          "execution_count": 215
        }
      ]
    },
    {
      "cell_type": "markdown",
      "metadata": {
        "id": "hJCsIrfelrnh"
      },
      "source": [
        "# Merging all the features"
      ]
    },
    {
      "cell_type": "code",
      "metadata": {
        "colab": {
          "base_uri": "https://localhost:8080/",
          "height": 368
        },
        "id": "Qi42QIbSh3Sh",
        "outputId": "0fc8fddb-e06b-4c3f-acb1-ef98211d55ac"
      },
      "source": [
        "final_df_till_5_feature=pd.merge(final_df_till_4_feature_new,df_duration_index_1, on = \"agentId\", how=\"outer\") \n",
        "final_df_till_5_feature"
      ],
      "execution_count": null,
      "outputs": [
        {
          "output_type": "execute_result",
          "data": {
            "text/html": [
              "<div>\n",
              "<style scoped>\n",
              "    .dataframe tbody tr th:only-of-type {\n",
              "        vertical-align: middle;\n",
              "    }\n",
              "\n",
              "    .dataframe tbody tr th {\n",
              "        vertical-align: top;\n",
              "    }\n",
              "\n",
              "    .dataframe thead th {\n",
              "        text-align: right;\n",
              "    }\n",
              "</style>\n",
              "<table border=\"1\" class=\"dataframe\">\n",
              "  <thead>\n",
              "    <tr style=\"text-align: right;\">\n",
              "      <th></th>\n",
              "      <th>agentId</th>\n",
              "      <th>agent_lead_count</th>\n",
              "      <th>Total_followup</th>\n",
              "      <th>outgoing_counts</th>\n",
              "      <th>incoming_counts</th>\n",
              "      <th>Total_followup_by_call</th>\n",
              "      <th>Total_followup_by_mail</th>\n",
              "      <th>Total_followup_by_text</th>\n",
              "      <th>duration</th>\n",
              "    </tr>\n",
              "  </thead>\n",
              "  <tbody>\n",
              "    <tr>\n",
              "      <th>0</th>\n",
              "      <td>0</td>\n",
              "      <td>5</td>\n",
              "      <td>115</td>\n",
              "      <td>0.0</td>\n",
              "      <td>115</td>\n",
              "      <td>NaN</td>\n",
              "      <td>NaN</td>\n",
              "      <td>115</td>\n",
              "      <td>0</td>\n",
              "    </tr>\n",
              "    <tr>\n",
              "      <th>1</th>\n",
              "      <td>2</td>\n",
              "      <td>874</td>\n",
              "      <td>4086</td>\n",
              "      <td>3745.0</td>\n",
              "      <td>341</td>\n",
              "      <td>65.0</td>\n",
              "      <td>3706.0</td>\n",
              "      <td>315</td>\n",
              "      <td>4631</td>\n",
              "    </tr>\n",
              "    <tr>\n",
              "      <th>2</th>\n",
              "      <td>3</td>\n",
              "      <td>343</td>\n",
              "      <td>529</td>\n",
              "      <td>505.0</td>\n",
              "      <td>24</td>\n",
              "      <td>NaN</td>\n",
              "      <td>516.0</td>\n",
              "      <td>13</td>\n",
              "      <td>0</td>\n",
              "    </tr>\n",
              "    <tr>\n",
              "      <th>3</th>\n",
              "      <td>4</td>\n",
              "      <td>1599</td>\n",
              "      <td>15290</td>\n",
              "      <td>11885.0</td>\n",
              "      <td>3405</td>\n",
              "      <td>1087.0</td>\n",
              "      <td>7140.0</td>\n",
              "      <td>7063</td>\n",
              "      <td>74545</td>\n",
              "    </tr>\n",
              "    <tr>\n",
              "      <th>4</th>\n",
              "      <td>5</td>\n",
              "      <td>398</td>\n",
              "      <td>11241</td>\n",
              "      <td>11108.0</td>\n",
              "      <td>133</td>\n",
              "      <td>6.0</td>\n",
              "      <td>11065.0</td>\n",
              "      <td>170</td>\n",
              "      <td>0</td>\n",
              "    </tr>\n",
              "    <tr>\n",
              "      <th>5</th>\n",
              "      <td>6</td>\n",
              "      <td>351</td>\n",
              "      <td>5606</td>\n",
              "      <td>3349.0</td>\n",
              "      <td>2257</td>\n",
              "      <td>210.0</td>\n",
              "      <td>2256.0</td>\n",
              "      <td>3140</td>\n",
              "      <td>18177</td>\n",
              "    </tr>\n",
              "    <tr>\n",
              "      <th>6</th>\n",
              "      <td>7</td>\n",
              "      <td>364</td>\n",
              "      <td>7819</td>\n",
              "      <td>3108.0</td>\n",
              "      <td>4711</td>\n",
              "      <td>183.0</td>\n",
              "      <td>5207.0</td>\n",
              "      <td>2429</td>\n",
              "      <td>8464</td>\n",
              "    </tr>\n",
              "    <tr>\n",
              "      <th>7</th>\n",
              "      <td>8</td>\n",
              "      <td>568</td>\n",
              "      <td>2732</td>\n",
              "      <td>2572.0</td>\n",
              "      <td>160</td>\n",
              "      <td>293.0</td>\n",
              "      <td>1945.0</td>\n",
              "      <td>494</td>\n",
              "      <td>22414</td>\n",
              "    </tr>\n",
              "    <tr>\n",
              "      <th>8</th>\n",
              "      <td>9</td>\n",
              "      <td>876</td>\n",
              "      <td>9281</td>\n",
              "      <td>7066.0</td>\n",
              "      <td>2215</td>\n",
              "      <td>814.0</td>\n",
              "      <td>7292.0</td>\n",
              "      <td>1175</td>\n",
              "      <td>18504</td>\n",
              "    </tr>\n",
              "    <tr>\n",
              "      <th>9</th>\n",
              "      <td>10</td>\n",
              "      <td>1425</td>\n",
              "      <td>11655</td>\n",
              "      <td>7875.0</td>\n",
              "      <td>3780</td>\n",
              "      <td>647.0</td>\n",
              "      <td>5630.0</td>\n",
              "      <td>5378</td>\n",
              "      <td>46924</td>\n",
              "    </tr>\n",
              "  </tbody>\n",
              "</table>\n",
              "</div>"
            ],
            "text/plain": [
              "   agentId  agent_lead_count  ...  Total_followup_by_text  duration\n",
              "0        0                 5  ...                     115         0\n",
              "1        2               874  ...                     315      4631\n",
              "2        3               343  ...                      13         0\n",
              "3        4              1599  ...                    7063     74545\n",
              "4        5               398  ...                     170         0\n",
              "5        6               351  ...                    3140     18177\n",
              "6        7               364  ...                    2429      8464\n",
              "7        8               568  ...                     494     22414\n",
              "8        9               876  ...                    1175     18504\n",
              "9       10              1425  ...                    5378     46924\n",
              "\n",
              "[10 rows x 9 columns]"
            ]
          },
          "metadata": {
            "tags": []
          },
          "execution_count": 273
        }
      ]
    },
    {
      "cell_type": "markdown",
      "metadata": {
        "id": "X0fTjA1pjyXq"
      },
      "source": [
        ""
      ]
    },
    {
      "cell_type": "markdown",
      "metadata": {
        "id": "IFsu4pOLzr8C"
      },
      "source": [
        "# final_dataset"
      ]
    },
    {
      "cell_type": "code",
      "metadata": {
        "id": "jswQrbcvhgml"
      },
      "source": [
        "final_df_till_3_feature=pd.merge(final_df_till_2_feature,feature_3_df_outgoing,feature_3_df_incoming.drop_duplicates(['agentId']),how=\"outer\") \n",
        "print(final_df_till_3_feature.shape)\n",
        "final_df_till_3_feature.head()"
      ],
      "execution_count": null,
      "outputs": []
    },
    {
      "cell_type": "code",
      "metadata": {
        "id": "fc895H7ng_o0"
      },
      "source": [
        "final_dataset=final_df_till_5_feature.fillna(0)"
      ],
      "execution_count": null,
      "outputs": []
    },
    {
      "cell_type": "code",
      "metadata": {
        "colab": {
          "base_uri": "https://localhost:8080/",
          "height": 368
        },
        "id": "LoqTJrz4ktWl",
        "outputId": "a1009dd9-6fe2-4308-e709-836fe9ca69da"
      },
      "source": [
        "final_dataset"
      ],
      "execution_count": null,
      "outputs": [
        {
          "output_type": "execute_result",
          "data": {
            "text/html": [
              "<div>\n",
              "<style scoped>\n",
              "    .dataframe tbody tr th:only-of-type {\n",
              "        vertical-align: middle;\n",
              "    }\n",
              "\n",
              "    .dataframe tbody tr th {\n",
              "        vertical-align: top;\n",
              "    }\n",
              "\n",
              "    .dataframe thead th {\n",
              "        text-align: right;\n",
              "    }\n",
              "</style>\n",
              "<table border=\"1\" class=\"dataframe\">\n",
              "  <thead>\n",
              "    <tr style=\"text-align: right;\">\n",
              "      <th></th>\n",
              "      <th>agentId</th>\n",
              "      <th>agent_lead_count</th>\n",
              "      <th>Total_followup</th>\n",
              "      <th>outgoing_counts</th>\n",
              "      <th>incoming_counts</th>\n",
              "      <th>Total_followup_by_call</th>\n",
              "      <th>Total_followup_by_mail</th>\n",
              "      <th>Total_followup_by_text</th>\n",
              "      <th>duration</th>\n",
              "    </tr>\n",
              "  </thead>\n",
              "  <tbody>\n",
              "    <tr>\n",
              "      <th>0</th>\n",
              "      <td>0</td>\n",
              "      <td>5</td>\n",
              "      <td>115</td>\n",
              "      <td>0.0</td>\n",
              "      <td>115</td>\n",
              "      <td>0.0</td>\n",
              "      <td>0.0</td>\n",
              "      <td>115</td>\n",
              "      <td>0</td>\n",
              "    </tr>\n",
              "    <tr>\n",
              "      <th>1</th>\n",
              "      <td>2</td>\n",
              "      <td>874</td>\n",
              "      <td>4086</td>\n",
              "      <td>3745.0</td>\n",
              "      <td>341</td>\n",
              "      <td>65.0</td>\n",
              "      <td>3706.0</td>\n",
              "      <td>315</td>\n",
              "      <td>4631</td>\n",
              "    </tr>\n",
              "    <tr>\n",
              "      <th>2</th>\n",
              "      <td>3</td>\n",
              "      <td>343</td>\n",
              "      <td>529</td>\n",
              "      <td>505.0</td>\n",
              "      <td>24</td>\n",
              "      <td>0.0</td>\n",
              "      <td>516.0</td>\n",
              "      <td>13</td>\n",
              "      <td>0</td>\n",
              "    </tr>\n",
              "    <tr>\n",
              "      <th>3</th>\n",
              "      <td>4</td>\n",
              "      <td>1599</td>\n",
              "      <td>15290</td>\n",
              "      <td>11885.0</td>\n",
              "      <td>3405</td>\n",
              "      <td>1087.0</td>\n",
              "      <td>7140.0</td>\n",
              "      <td>7063</td>\n",
              "      <td>74545</td>\n",
              "    </tr>\n",
              "    <tr>\n",
              "      <th>4</th>\n",
              "      <td>5</td>\n",
              "      <td>398</td>\n",
              "      <td>11241</td>\n",
              "      <td>11108.0</td>\n",
              "      <td>133</td>\n",
              "      <td>6.0</td>\n",
              "      <td>11065.0</td>\n",
              "      <td>170</td>\n",
              "      <td>0</td>\n",
              "    </tr>\n",
              "    <tr>\n",
              "      <th>5</th>\n",
              "      <td>6</td>\n",
              "      <td>351</td>\n",
              "      <td>5606</td>\n",
              "      <td>3349.0</td>\n",
              "      <td>2257</td>\n",
              "      <td>210.0</td>\n",
              "      <td>2256.0</td>\n",
              "      <td>3140</td>\n",
              "      <td>18177</td>\n",
              "    </tr>\n",
              "    <tr>\n",
              "      <th>6</th>\n",
              "      <td>7</td>\n",
              "      <td>364</td>\n",
              "      <td>7819</td>\n",
              "      <td>3108.0</td>\n",
              "      <td>4711</td>\n",
              "      <td>183.0</td>\n",
              "      <td>5207.0</td>\n",
              "      <td>2429</td>\n",
              "      <td>8464</td>\n",
              "    </tr>\n",
              "    <tr>\n",
              "      <th>7</th>\n",
              "      <td>8</td>\n",
              "      <td>568</td>\n",
              "      <td>2732</td>\n",
              "      <td>2572.0</td>\n",
              "      <td>160</td>\n",
              "      <td>293.0</td>\n",
              "      <td>1945.0</td>\n",
              "      <td>494</td>\n",
              "      <td>22414</td>\n",
              "    </tr>\n",
              "    <tr>\n",
              "      <th>8</th>\n",
              "      <td>9</td>\n",
              "      <td>876</td>\n",
              "      <td>9281</td>\n",
              "      <td>7066.0</td>\n",
              "      <td>2215</td>\n",
              "      <td>814.0</td>\n",
              "      <td>7292.0</td>\n",
              "      <td>1175</td>\n",
              "      <td>18504</td>\n",
              "    </tr>\n",
              "    <tr>\n",
              "      <th>9</th>\n",
              "      <td>10</td>\n",
              "      <td>1425</td>\n",
              "      <td>11655</td>\n",
              "      <td>7875.0</td>\n",
              "      <td>3780</td>\n",
              "      <td>647.0</td>\n",
              "      <td>5630.0</td>\n",
              "      <td>5378</td>\n",
              "      <td>46924</td>\n",
              "    </tr>\n",
              "  </tbody>\n",
              "</table>\n",
              "</div>"
            ],
            "text/plain": [
              "   agentId  agent_lead_count  ...  Total_followup_by_text  duration\n",
              "0        0                 5  ...                     115         0\n",
              "1        2               874  ...                     315      4631\n",
              "2        3               343  ...                      13         0\n",
              "3        4              1599  ...                    7063     74545\n",
              "4        5               398  ...                     170         0\n",
              "5        6               351  ...                    3140     18177\n",
              "6        7               364  ...                    2429      8464\n",
              "7        8               568  ...                     494     22414\n",
              "8        9               876  ...                    1175     18504\n",
              "9       10              1425  ...                    5378     46924\n",
              "\n",
              "[10 rows x 9 columns]"
            ]
          },
          "metadata": {
            "tags": []
          },
          "execution_count": 275
        }
      ]
    },
    {
      "cell_type": "code",
      "metadata": {
        "colab": {
          "base_uri": "https://localhost:8080/"
        },
        "id": "cWsUMkVrkv6Z",
        "outputId": "b3c4681d-ce7e-4155-e73c-63bf5b97b246"
      },
      "source": [
        "final_dataset.dtypes"
      ],
      "execution_count": null,
      "outputs": [
        {
          "output_type": "execute_result",
          "data": {
            "text/plain": [
              "agentId                     int64\n",
              "agent_lead_count            int64\n",
              "Total_followup              int64\n",
              "outgoing_counts           float64\n",
              "incoming_counts             int64\n",
              "Total_followup_by_call    float64\n",
              "Total_followup_by_mail    float64\n",
              "Total_followup_by_text      int64\n",
              "duration                    int64\n",
              "dtype: object"
            ]
          },
          "metadata": {
            "tags": []
          },
          "execution_count": 278
        }
      ]
    },
    {
      "cell_type": "code",
      "metadata": {
        "id": "vcBcoy4UmgMJ"
      },
      "source": [
        "# type casting the data Frame into int \n",
        "final_dataset = final_dataset.astype(int)"
      ],
      "execution_count": null,
      "outputs": []
    },
    {
      "cell_type": "code",
      "metadata": {
        "colab": {
          "base_uri": "https://localhost:8080/",
          "height": 368
        },
        "id": "NfZ9h3Apmm9X",
        "outputId": "3be5bc08-e6c1-4a93-bea9-0e551d0307aa"
      },
      "source": [
        "final_dataset"
      ],
      "execution_count": null,
      "outputs": [
        {
          "output_type": "execute_result",
          "data": {
            "text/html": [
              "<div>\n",
              "<style scoped>\n",
              "    .dataframe tbody tr th:only-of-type {\n",
              "        vertical-align: middle;\n",
              "    }\n",
              "\n",
              "    .dataframe tbody tr th {\n",
              "        vertical-align: top;\n",
              "    }\n",
              "\n",
              "    .dataframe thead th {\n",
              "        text-align: right;\n",
              "    }\n",
              "</style>\n",
              "<table border=\"1\" class=\"dataframe\">\n",
              "  <thead>\n",
              "    <tr style=\"text-align: right;\">\n",
              "      <th></th>\n",
              "      <th>agentId</th>\n",
              "      <th>agent_lead_count</th>\n",
              "      <th>Total_followup</th>\n",
              "      <th>outgoing_counts</th>\n",
              "      <th>incoming_counts</th>\n",
              "      <th>Total_followup_by_call</th>\n",
              "      <th>Total_followup_by_mail</th>\n",
              "      <th>Total_followup_by_text</th>\n",
              "      <th>duration</th>\n",
              "    </tr>\n",
              "  </thead>\n",
              "  <tbody>\n",
              "    <tr>\n",
              "      <th>0</th>\n",
              "      <td>0</td>\n",
              "      <td>5</td>\n",
              "      <td>115</td>\n",
              "      <td>0</td>\n",
              "      <td>115</td>\n",
              "      <td>0</td>\n",
              "      <td>0</td>\n",
              "      <td>115</td>\n",
              "      <td>0</td>\n",
              "    </tr>\n",
              "    <tr>\n",
              "      <th>1</th>\n",
              "      <td>2</td>\n",
              "      <td>874</td>\n",
              "      <td>4086</td>\n",
              "      <td>3745</td>\n",
              "      <td>341</td>\n",
              "      <td>65</td>\n",
              "      <td>3706</td>\n",
              "      <td>315</td>\n",
              "      <td>4631</td>\n",
              "    </tr>\n",
              "    <tr>\n",
              "      <th>2</th>\n",
              "      <td>3</td>\n",
              "      <td>343</td>\n",
              "      <td>529</td>\n",
              "      <td>505</td>\n",
              "      <td>24</td>\n",
              "      <td>0</td>\n",
              "      <td>516</td>\n",
              "      <td>13</td>\n",
              "      <td>0</td>\n",
              "    </tr>\n",
              "    <tr>\n",
              "      <th>3</th>\n",
              "      <td>4</td>\n",
              "      <td>1599</td>\n",
              "      <td>15290</td>\n",
              "      <td>11885</td>\n",
              "      <td>3405</td>\n",
              "      <td>1087</td>\n",
              "      <td>7140</td>\n",
              "      <td>7063</td>\n",
              "      <td>74545</td>\n",
              "    </tr>\n",
              "    <tr>\n",
              "      <th>4</th>\n",
              "      <td>5</td>\n",
              "      <td>398</td>\n",
              "      <td>11241</td>\n",
              "      <td>11108</td>\n",
              "      <td>133</td>\n",
              "      <td>6</td>\n",
              "      <td>11065</td>\n",
              "      <td>170</td>\n",
              "      <td>0</td>\n",
              "    </tr>\n",
              "    <tr>\n",
              "      <th>5</th>\n",
              "      <td>6</td>\n",
              "      <td>351</td>\n",
              "      <td>5606</td>\n",
              "      <td>3349</td>\n",
              "      <td>2257</td>\n",
              "      <td>210</td>\n",
              "      <td>2256</td>\n",
              "      <td>3140</td>\n",
              "      <td>18177</td>\n",
              "    </tr>\n",
              "    <tr>\n",
              "      <th>6</th>\n",
              "      <td>7</td>\n",
              "      <td>364</td>\n",
              "      <td>7819</td>\n",
              "      <td>3108</td>\n",
              "      <td>4711</td>\n",
              "      <td>183</td>\n",
              "      <td>5207</td>\n",
              "      <td>2429</td>\n",
              "      <td>8464</td>\n",
              "    </tr>\n",
              "    <tr>\n",
              "      <th>7</th>\n",
              "      <td>8</td>\n",
              "      <td>568</td>\n",
              "      <td>2732</td>\n",
              "      <td>2572</td>\n",
              "      <td>160</td>\n",
              "      <td>293</td>\n",
              "      <td>1945</td>\n",
              "      <td>494</td>\n",
              "      <td>22414</td>\n",
              "    </tr>\n",
              "    <tr>\n",
              "      <th>8</th>\n",
              "      <td>9</td>\n",
              "      <td>876</td>\n",
              "      <td>9281</td>\n",
              "      <td>7066</td>\n",
              "      <td>2215</td>\n",
              "      <td>814</td>\n",
              "      <td>7292</td>\n",
              "      <td>1175</td>\n",
              "      <td>18504</td>\n",
              "    </tr>\n",
              "    <tr>\n",
              "      <th>9</th>\n",
              "      <td>10</td>\n",
              "      <td>1425</td>\n",
              "      <td>11655</td>\n",
              "      <td>7875</td>\n",
              "      <td>3780</td>\n",
              "      <td>647</td>\n",
              "      <td>5630</td>\n",
              "      <td>5378</td>\n",
              "      <td>46924</td>\n",
              "    </tr>\n",
              "  </tbody>\n",
              "</table>\n",
              "</div>"
            ],
            "text/plain": [
              "   agentId  agent_lead_count  ...  Total_followup_by_text  duration\n",
              "0        0                 5  ...                     115         0\n",
              "1        2               874  ...                     315      4631\n",
              "2        3               343  ...                      13         0\n",
              "3        4              1599  ...                    7063     74545\n",
              "4        5               398  ...                     170         0\n",
              "5        6               351  ...                    3140     18177\n",
              "6        7               364  ...                    2429      8464\n",
              "7        8               568  ...                     494     22414\n",
              "8        9               876  ...                    1175     18504\n",
              "9       10              1425  ...                    5378     46924\n",
              "\n",
              "[10 rows x 9 columns]"
            ]
          },
          "metadata": {
            "tags": []
          },
          "execution_count": 287
        }
      ]
    },
    {
      "cell_type": "code",
      "metadata": {
        "colab": {
          "base_uri": "https://localhost:8080/",
          "height": 308
        },
        "id": "9fCaZHXim3f9",
        "outputId": "b94d168e-f194-4cac-e0e5-c97ff16b90b2"
      },
      "source": [
        "final_dataset.describe()"
      ],
      "execution_count": null,
      "outputs": [
        {
          "output_type": "execute_result",
          "data": {
            "text/html": [
              "<div>\n",
              "<style scoped>\n",
              "    .dataframe tbody tr th:only-of-type {\n",
              "        vertical-align: middle;\n",
              "    }\n",
              "\n",
              "    .dataframe tbody tr th {\n",
              "        vertical-align: top;\n",
              "    }\n",
              "\n",
              "    .dataframe thead th {\n",
              "        text-align: right;\n",
              "    }\n",
              "</style>\n",
              "<table border=\"1\" class=\"dataframe\">\n",
              "  <thead>\n",
              "    <tr style=\"text-align: right;\">\n",
              "      <th></th>\n",
              "      <th>agentId</th>\n",
              "      <th>agent_lead_count</th>\n",
              "      <th>Total_followup</th>\n",
              "      <th>outgoing_counts</th>\n",
              "      <th>incoming_counts</th>\n",
              "      <th>Total_followup_by_call</th>\n",
              "      <th>Total_followup_by_mail</th>\n",
              "      <th>Total_followup_by_text</th>\n",
              "      <th>duration</th>\n",
              "    </tr>\n",
              "  </thead>\n",
              "  <tbody>\n",
              "    <tr>\n",
              "      <th>count</th>\n",
              "      <td>10.000000</td>\n",
              "      <td>10.000000</td>\n",
              "      <td>10.000000</td>\n",
              "      <td>10.000000</td>\n",
              "      <td>10.000000</td>\n",
              "      <td>10.000000</td>\n",
              "      <td>10.000000</td>\n",
              "      <td>10.000000</td>\n",
              "      <td>10.000000</td>\n",
              "    </tr>\n",
              "    <tr>\n",
              "      <th>mean</th>\n",
              "      <td>5.400000</td>\n",
              "      <td>680.300000</td>\n",
              "      <td>6835.400000</td>\n",
              "      <td>5121.300000</td>\n",
              "      <td>1714.100000</td>\n",
              "      <td>330.500000</td>\n",
              "      <td>4475.700000</td>\n",
              "      <td>2029.200000</td>\n",
              "      <td>19365.900000</td>\n",
              "    </tr>\n",
              "    <tr>\n",
              "      <th>std</th>\n",
              "      <td>3.204164</td>\n",
              "      <td>510.446003</td>\n",
              "      <td>5076.191906</td>\n",
              "      <td>4164.378466</td>\n",
              "      <td>1790.971273</td>\n",
              "      <td>385.597732</td>\n",
              "      <td>3463.318673</td>\n",
              "      <td>2475.617714</td>\n",
              "      <td>24213.660449</td>\n",
              "    </tr>\n",
              "    <tr>\n",
              "      <th>min</th>\n",
              "      <td>0.000000</td>\n",
              "      <td>5.000000</td>\n",
              "      <td>115.000000</td>\n",
              "      <td>0.000000</td>\n",
              "      <td>24.000000</td>\n",
              "      <td>0.000000</td>\n",
              "      <td>0.000000</td>\n",
              "      <td>13.000000</td>\n",
              "      <td>0.000000</td>\n",
              "    </tr>\n",
              "    <tr>\n",
              "      <th>25%</th>\n",
              "      <td>3.250000</td>\n",
              "      <td>354.250000</td>\n",
              "      <td>3070.500000</td>\n",
              "      <td>2706.000000</td>\n",
              "      <td>139.750000</td>\n",
              "      <td>20.750000</td>\n",
              "      <td>2022.750000</td>\n",
              "      <td>206.250000</td>\n",
              "      <td>1157.750000</td>\n",
              "    </tr>\n",
              "    <tr>\n",
              "      <th>50%</th>\n",
              "      <td>5.500000</td>\n",
              "      <td>483.000000</td>\n",
              "      <td>6712.500000</td>\n",
              "      <td>3547.000000</td>\n",
              "      <td>1278.000000</td>\n",
              "      <td>196.500000</td>\n",
              "      <td>4456.500000</td>\n",
              "      <td>834.500000</td>\n",
              "      <td>13320.500000</td>\n",
              "    </tr>\n",
              "    <tr>\n",
              "      <th>75%</th>\n",
              "      <td>7.750000</td>\n",
              "      <td>875.500000</td>\n",
              "      <td>10751.000000</td>\n",
              "      <td>7672.750000</td>\n",
              "      <td>3118.000000</td>\n",
              "      <td>558.500000</td>\n",
              "      <td>6762.500000</td>\n",
              "      <td>2962.250000</td>\n",
              "      <td>21436.500000</td>\n",
              "    </tr>\n",
              "    <tr>\n",
              "      <th>max</th>\n",
              "      <td>10.000000</td>\n",
              "      <td>1599.000000</td>\n",
              "      <td>15290.000000</td>\n",
              "      <td>11885.000000</td>\n",
              "      <td>4711.000000</td>\n",
              "      <td>1087.000000</td>\n",
              "      <td>11065.000000</td>\n",
              "      <td>7063.000000</td>\n",
              "      <td>74545.000000</td>\n",
              "    </tr>\n",
              "  </tbody>\n",
              "</table>\n",
              "</div>"
            ],
            "text/plain": [
              "         agentId  agent_lead_count  ...  Total_followup_by_text      duration\n",
              "count  10.000000         10.000000  ...               10.000000     10.000000\n",
              "mean    5.400000        680.300000  ...             2029.200000  19365.900000\n",
              "std     3.204164        510.446003  ...             2475.617714  24213.660449\n",
              "min     0.000000          5.000000  ...               13.000000      0.000000\n",
              "25%     3.250000        354.250000  ...              206.250000   1157.750000\n",
              "50%     5.500000        483.000000  ...              834.500000  13320.500000\n",
              "75%     7.750000        875.500000  ...             2962.250000  21436.500000\n",
              "max    10.000000       1599.000000  ...             7063.000000  74545.000000\n",
              "\n",
              "[8 rows x 9 columns]"
            ]
          },
          "metadata": {
            "tags": []
          },
          "execution_count": 288
        }
      ]
    },
    {
      "cell_type": "code",
      "metadata": {
        "colab": {
          "base_uri": "https://localhost:8080/"
        },
        "id": "mqmX672ioHxL",
        "outputId": "a2a65341-2130-44d1-949d-e442aa8c02df"
      },
      "source": [
        "print(final_dataset.corr(method='pearson'))"
      ],
      "execution_count": null,
      "outputs": [
        {
          "output_type": "stream",
          "text": [
            "                         agentId  ...  duration\n",
            "agentId                 1.000000  ...  0.350988\n",
            "agent_lead_count        0.391224  ...  0.869911\n",
            "Total_followup          0.466691  ...  0.707752\n",
            "outgoing_counts         0.335621  ...  0.613357\n",
            "incoming_counts         0.542365  ...  0.579816\n",
            "Total_followup_by_call  0.480410  ...  0.888755\n",
            "Total_followup_by_mail  0.386792  ...  0.278829\n",
            "Total_followup_by_text  0.341000  ...  0.922724\n",
            "duration                0.350988  ...  1.000000\n",
            "\n",
            "[9 rows x 9 columns]\n"
          ],
          "name": "stdout"
        }
      ]
    },
    {
      "cell_type": "code",
      "metadata": {
        "colab": {
          "base_uri": "https://localhost:8080/",
          "height": 998
        },
        "id": "Iim2idc3ovoW",
        "outputId": "11d7c823-9686-401e-9603-7fd587fee86d"
      },
      "source": [
        "# Plotting the Histogram\n",
        "final_dataset.hist(sharex=False, sharey=False, xlabelsize=15, ylabelsize=15, color='orange', figsize=(15,15))\n",
        "plt.suptitle(\"Historams\", y=1.00, fontweight='bold', fontsize=40)\n",
        "plt.show()"
      ],
      "execution_count": null,
      "outputs": [
        {
          "output_type": "display_data",
          "data": {
            "image/png": "[encoded data removed]",
            "text/plain": [
              "<Figure size 1080x1080 with 9 Axes>"
            ]
          },
          "metadata": {
            "tags": [],
            "needs_background": "light"
          }
        }
      ]
    },
    {
      "cell_type": "code",
      "metadata": {
        "colab": {
          "base_uri": "https://localhost:8080/",
          "height": 772
        },
        "id": "EsqV6HJrpFXw",
        "outputId": "5bfe3699-0a7f-48fb-f24b-d3dbab98a81d"
      },
      "source": [
        "# Heatmap is an effective way for identifying correlated features\n",
        "plt.figure(figsize=(11,11))\n",
        "plt.style.use('default')\n",
        "sns.heatmap(final_dataset.corr(), annot= True)"
      ],
      "execution_count": null,
      "outputs": [
        {
          "output_type": "execute_result",
          "data": {
            "text/plain": [
              "<matplotlib.axes._subplots.AxesSubplot at 0x7fd85e6832d0>"
            ]
          },
          "metadata": {
            "tags": []
          },
          "execution_count": 291
        },
        {
          "output_type": "display_data",
          "data": {
            "image/png": "[encoded data removed]",
            "text/plain": [
              "<Figure size 792x792 with 2 Axes>"
            ]
          },
          "metadata": {
            "tags": [],
            "needs_background": "light"
          }
        }
      ]
    },
    {
      "cell_type": "markdown",
      "metadata": {
        "id": "DahmRHjlmUTl"
      },
      "source": [
        "# Finding Important Features"
      ]
    },
    {
      "cell_type": "code",
      "metadata": {
        "id": "FyHXktynwTIu"
      },
      "source": [
        "X=final_dataset.iloc[:,0]"
      ],
      "execution_count": null,
      "outputs": []
    },
    {
      "cell_type": "code",
      "metadata": {
        "colab": {
          "base_uri": "https://localhost:8080/"
        },
        "id": "7p3AugP2y8xo",
        "outputId": "1e4bb68b-877e-4a8a-96d8-49177a0ba885"
      },
      "source": [
        "X.head()"
      ],
      "execution_count": null,
      "outputs": [
        {
          "output_type": "execute_result",
          "data": {
            "text/plain": [
              "0    0\n",
              "1    2\n",
              "2    3\n",
              "3    4\n",
              "4    5\n",
              "Name: agentId, dtype: int64"
            ]
          },
          "metadata": {
            "tags": []
          },
          "execution_count": 304
        }
      ]
    },
    {
      "cell_type": "code",
      "metadata": {
        "id": "paqgitrsy9tS"
      },
      "source": [
        "Y=final_dataset.loc[:,['agent_lead_count', 'Total_followup', 'outgoing_counts',\n",
        "       'incoming_counts', 'Total_followup_by_call', 'Total_followup_by_mail',\n",
        "       'Total_followup_by_text', 'duration']]"
      ],
      "execution_count": null,
      "outputs": []
    },
    {
      "cell_type": "code",
      "metadata": {
        "colab": {
          "base_uri": "https://localhost:8080/",
          "height": 368
        },
        "id": "TwsWWnlR0Rtx",
        "outputId": "33287114-9f21-45cd-d3c6-d7ff4637a4c8"
      },
      "source": [
        "Y"
      ],
      "execution_count": null,
      "outputs": [
        {
          "output_type": "execute_result",
          "data": {
            "text/html": [
              "<div>\n",
              "<style scoped>\n",
              "    .dataframe tbody tr th:only-of-type {\n",
              "        vertical-align: middle;\n",
              "    }\n",
              "\n",
              "    .dataframe tbody tr th {\n",
              "        vertical-align: top;\n",
              "    }\n",
              "\n",
              "    .dataframe thead th {\n",
              "        text-align: right;\n",
              "    }\n",
              "</style>\n",
              "<table border=\"1\" class=\"dataframe\">\n",
              "  <thead>\n",
              "    <tr style=\"text-align: right;\">\n",
              "      <th></th>\n",
              "      <th>agent_lead_count</th>\n",
              "      <th>Total_followup</th>\n",
              "      <th>outgoing_counts</th>\n",
              "      <th>incoming_counts</th>\n",
              "      <th>Total_followup_by_call</th>\n",
              "      <th>Total_followup_by_mail</th>\n",
              "      <th>Total_followup_by_text</th>\n",
              "      <th>duration</th>\n",
              "    </tr>\n",
              "  </thead>\n",
              "  <tbody>\n",
              "    <tr>\n",
              "      <th>0</th>\n",
              "      <td>5</td>\n",
              "      <td>115</td>\n",
              "      <td>0</td>\n",
              "      <td>115</td>\n",
              "      <td>0</td>\n",
              "      <td>0</td>\n",
              "      <td>115</td>\n",
              "      <td>0</td>\n",
              "    </tr>\n",
              "    <tr>\n",
              "      <th>1</th>\n",
              "      <td>874</td>\n",
              "      <td>4086</td>\n",
              "      <td>3745</td>\n",
              "      <td>341</td>\n",
              "      <td>65</td>\n",
              "      <td>3706</td>\n",
              "      <td>315</td>\n",
              "      <td>4631</td>\n",
              "    </tr>\n",
              "    <tr>\n",
              "      <th>2</th>\n",
              "      <td>343</td>\n",
              "      <td>529</td>\n",
              "      <td>505</td>\n",
              "      <td>24</td>\n",
              "      <td>0</td>\n",
              "      <td>516</td>\n",
              "      <td>13</td>\n",
              "      <td>0</td>\n",
              "    </tr>\n",
              "    <tr>\n",
              "      <th>3</th>\n",
              "      <td>1599</td>\n",
              "      <td>15290</td>\n",
              "      <td>11885</td>\n",
              "      <td>3405</td>\n",
              "      <td>1087</td>\n",
              "      <td>7140</td>\n",
              "      <td>7063</td>\n",
              "      <td>74545</td>\n",
              "    </tr>\n",
              "    <tr>\n",
              "      <th>4</th>\n",
              "      <td>398</td>\n",
              "      <td>11241</td>\n",
              "      <td>11108</td>\n",
              "      <td>133</td>\n",
              "      <td>6</td>\n",
              "      <td>11065</td>\n",
              "      <td>170</td>\n",
              "      <td>0</td>\n",
              "    </tr>\n",
              "    <tr>\n",
              "      <th>5</th>\n",
              "      <td>351</td>\n",
              "      <td>5606</td>\n",
              "      <td>3349</td>\n",
              "      <td>2257</td>\n",
              "      <td>210</td>\n",
              "      <td>2256</td>\n",
              "      <td>3140</td>\n",
              "      <td>18177</td>\n",
              "    </tr>\n",
              "    <tr>\n",
              "      <th>6</th>\n",
              "      <td>364</td>\n",
              "      <td>7819</td>\n",
              "      <td>3108</td>\n",
              "      <td>4711</td>\n",
              "      <td>183</td>\n",
              "      <td>5207</td>\n",
              "      <td>2429</td>\n",
              "      <td>8464</td>\n",
              "    </tr>\n",
              "    <tr>\n",
              "      <th>7</th>\n",
              "      <td>568</td>\n",
              "      <td>2732</td>\n",
              "      <td>2572</td>\n",
              "      <td>160</td>\n",
              "      <td>293</td>\n",
              "      <td>1945</td>\n",
              "      <td>494</td>\n",
              "      <td>22414</td>\n",
              "    </tr>\n",
              "    <tr>\n",
              "      <th>8</th>\n",
              "      <td>876</td>\n",
              "      <td>9281</td>\n",
              "      <td>7066</td>\n",
              "      <td>2215</td>\n",
              "      <td>814</td>\n",
              "      <td>7292</td>\n",
              "      <td>1175</td>\n",
              "      <td>18504</td>\n",
              "    </tr>\n",
              "    <tr>\n",
              "      <th>9</th>\n",
              "      <td>1425</td>\n",
              "      <td>11655</td>\n",
              "      <td>7875</td>\n",
              "      <td>3780</td>\n",
              "      <td>647</td>\n",
              "      <td>5630</td>\n",
              "      <td>5378</td>\n",
              "      <td>46924</td>\n",
              "    </tr>\n",
              "  </tbody>\n",
              "</table>\n",
              "</div>"
            ],
            "text/plain": [
              "   agent_lead_count  Total_followup  ...  Total_followup_by_text  duration\n",
              "0                 5             115  ...                     115         0\n",
              "1               874            4086  ...                     315      4631\n",
              "2               343             529  ...                      13         0\n",
              "3              1599           15290  ...                    7063     74545\n",
              "4               398           11241  ...                     170         0\n",
              "5               351            5606  ...                    3140     18177\n",
              "6               364            7819  ...                    2429      8464\n",
              "7               568            2732  ...                     494     22414\n",
              "8               876            9281  ...                    1175     18504\n",
              "9              1425           11655  ...                    5378     46924\n",
              "\n",
              "[10 rows x 8 columns]"
            ]
          },
          "metadata": {
            "tags": []
          },
          "execution_count": 303
        }
      ]
    },
    {
      "cell_type": "code",
      "metadata": {
        "colab": {
          "base_uri": "https://localhost:8080/"
        },
        "id": "FO_JYDBZ0ULZ",
        "outputId": "318e337b-7e41-4736-bdde-55eb0bd61a0c"
      },
      "source": [
        "from sklearn.ensemble import ExtraTreesRegressor\n",
        "selection = ExtraTreesRegressor()\n",
        "selection.fit(Y, X)"
      ],
      "execution_count": null,
      "outputs": [
        {
          "output_type": "execute_result",
          "data": {
            "text/plain": [
              "ExtraTreesRegressor(bootstrap=False, ccp_alpha=0.0, criterion='mse',\n",
              "                    max_depth=None, max_features='auto', max_leaf_nodes=None,\n",
              "                    max_samples=None, min_impurity_decrease=0.0,\n",
              "                    min_impurity_split=None, min_samples_leaf=1,\n",
              "                    min_samples_split=2, min_weight_fraction_leaf=0.0,\n",
              "                    n_estimators=100, n_jobs=None, oob_score=False,\n",
              "                    random_state=None, verbose=0, warm_start=False)"
            ]
          },
          "metadata": {
            "tags": []
          },
          "execution_count": 305
        }
      ]
    },
    {
      "cell_type": "code",
      "metadata": {
        "colab": {
          "base_uri": "https://localhost:8080/"
        },
        "id": "Ysc3_zXp4jNU",
        "outputId": "958739b0-f708-4555-e568-e0e2ddb875e5"
      },
      "source": [
        "important_features=print(selection.feature_importances_)\n"
      ],
      "execution_count": null,
      "outputs": [
        {
          "output_type": "stream",
          "text": [
            "[0.10466592 0.12134946 0.17072176 0.0958229  0.18255592 0.07277932\n",
            " 0.08136802 0.1707367 ]\n"
          ],
          "name": "stdout"
        }
      ]
    },
    {
      "cell_type": "code",
      "metadata": {
        "id": "I98BwOVs6aT3"
      },
      "source": [
        "important_features"
      ],
      "execution_count": null,
      "outputs": []
    },
    {
      "cell_type": "code",
      "metadata": {
        "colab": {
          "base_uri": "https://localhost:8080/",
          "height": 676
        },
        "id": "rDZQrBO44n1e",
        "outputId": "b07e1f32-4de9-4adc-818a-409eeacd9d45"
      },
      "source": [
        "plt.figure(figsize = (12,8))\n",
        "feat_importances = pd.Series(selection.feature_importances_, index=Y.columns)\n",
        "feat_importances.nlargest(8).plot(kind='barh')\n",
        "plt.show()"
      ],
      "execution_count": null,
      "outputs": [
        {
          "output_type": "display_data",
          "data": {
            "image/png": "[encoded data removed]",
            "text/plain": [
              "<Figure size 1200x800 with 1 Axes>"
            ]
          },
          "metadata": {
            "tags": []
          }
        }
      ]
    },
    {
      "cell_type": "code",
      "metadata": {
        "colab": {
          "base_uri": "https://localhost:8080/"
        },
        "id": "L_cvQaA_5KNW",
        "outputId": "d58487ae-2907-482e-f677-ebf38adcfd93"
      },
      "source": [
        "feat_importances"
      ],
      "execution_count": null,
      "outputs": [
        {
          "output_type": "execute_result",
          "data": {
            "text/plain": [
              "agent_lead_count          0.104666\n",
              "Total_followup            0.121349\n",
              "outgoing_counts           0.170722\n",
              "incoming_counts           0.095823\n",
              "Total_followup_by_call    0.182556\n",
              "Total_followup_by_mail    0.072779\n",
              "Total_followup_by_text    0.081368\n",
              "duration                  0.170737\n",
              "dtype: float64"
            ]
          },
          "metadata": {
            "tags": []
          },
          "execution_count": 312
        }
      ]
    },
    {
      "cell_type": "markdown",
      "metadata": {
        "id": "nYHWuxHomvqQ"
      },
      "source": [
        "# Calculating agent_mean_weight for Recommendation"
      ]
    },
    {
      "cell_type": "code",
      "metadata": {
        "id": "MHj7BecU66JP"
      },
      "source": [
        "agent_mean_weight = []\n",
        "def getTopAgents():\n",
        "  #columns = list(Y)\n",
        "  for index,row in Y.iterrows():\n",
        "    total_weight_value = 0\n",
        "    for col in list(Y):\n",
        "      total_weight_value += (row[col] * feat_importances[col])\n",
        "    \n",
        "    agent_mean_weight.append(total_weight_value/len(list(Y)))\n",
        "    "
      ],
      "execution_count": null,
      "outputs": []
    },
    {
      "cell_type": "code",
      "metadata": {
        "colab": {
          "base_uri": "https://localhost:8080/"
        },
        "id": "caL4mFU9_TZ7",
        "outputId": "d48e28f9-3ca8-4a7c-c4ef-949b19dd34ea"
      },
      "source": [
        "getTopAgents()"
      ],
      "execution_count": null,
      "outputs": [
        {
          "output_type": "stream",
          "text": [
            "Original weight value 34.85547309833024\n",
            "4.35693413729128\n",
            "Original weight value 2357.2394260204082\n",
            "294.65492825255103\n",
            "Original weight value 227.22042967944753\n",
            "28.40255370993094\n",
            "Original weight value 18398.451713564216\n",
            "2299.806464195527\n",
            "Original weight value 4135.099215496805\n",
            "516.8874019371007\n",
            "Original weight value 5066.545815811174\n",
            "633.3182269763968\n",
            "Original weight value 4024.082794140384\n",
            "503.010349267548\n",
            "Original weight value 4907.537951195631\n",
            "613.4422438994538\n",
            "Original weight value 6570.726115362813\n",
            "821.3407644203517\n",
            "Original weight value 12247.22889159452\n",
            "1530.903611449315\n"
          ],
          "name": "stdout"
        }
      ]
    },
    {
      "cell_type": "code",
      "metadata": {
        "id": "N510CIeVAbmE"
      },
      "source": [
        "getTopAgents()\n"
      ],
      "execution_count": null,
      "outputs": []
    },
    {
      "cell_type": "code",
      "metadata": {
        "colab": {
          "base_uri": "https://localhost:8080/"
        },
        "id": "OHZtWpBOBdY6",
        "outputId": "59a70461-0a9d-4755-e09f-619923b0a01f"
      },
      "source": [
        "agent_mean_weight\n"
      ],
      "execution_count": null,
      "outputs": [
        {
          "output_type": "execute_result",
          "data": {
            "text/plain": [
              "[4.35693413729128,\n",
              " 294.65492825255103,\n",
              " 28.40255370993094,\n",
              " 2299.806464195527,\n",
              " 516.8874019371007,\n",
              " 633.3182269763968,\n",
              " 503.010349267548,\n",
              " 613.4422438994538,\n",
              " 821.3407644203517,\n",
              " 1530.903611449315]"
            ]
          },
          "metadata": {
            "tags": []
          },
          "execution_count": 330
        }
      ]
    },
    {
      "cell_type": "code",
      "metadata": {
        "id": "DX_8F025Qzn7"
      },
      "source": [
        "# converting list into dataFrame\n",
        "agent_mean_weight_df = pd.DataFrame(agent_mean_weight)"
      ],
      "execution_count": null,
      "outputs": []
    },
    {
      "cell_type": "code",
      "metadata": {
        "id": "0BOFnWFwSxLo"
      },
      "source": [
        "agent_mean_weight_df.columns = [\"agent_mean_weight_df\"]"
      ],
      "execution_count": null,
      "outputs": []
    },
    {
      "cell_type": "code",
      "metadata": {
        "colab": {
          "base_uri": "https://localhost:8080/",
          "height": 359
        },
        "id": "tYKwlOZaS6mO",
        "outputId": "11ad88de-d8d5-4b76-e1c5-6f3cc83c431c"
      },
      "source": [
        "agent_mean_weight_df"
      ],
      "execution_count": null,
      "outputs": [
        {
          "output_type": "execute_result",
          "data": {
            "text/html": [
              "<div>\n",
              "<style scoped>\n",
              "    .dataframe tbody tr th:only-of-type {\n",
              "        vertical-align: middle;\n",
              "    }\n",
              "\n",
              "    .dataframe tbody tr th {\n",
              "        vertical-align: top;\n",
              "    }\n",
              "\n",
              "    .dataframe thead th {\n",
              "        text-align: right;\n",
              "    }\n",
              "</style>\n",
              "<table border=\"1\" class=\"dataframe\">\n",
              "  <thead>\n",
              "    <tr style=\"text-align: right;\">\n",
              "      <th></th>\n",
              "      <th>agent_mean_weight_df</th>\n",
              "    </tr>\n",
              "  </thead>\n",
              "  <tbody>\n",
              "    <tr>\n",
              "      <th>0</th>\n",
              "      <td>4.356934</td>\n",
              "    </tr>\n",
              "    <tr>\n",
              "      <th>1</th>\n",
              "      <td>294.654928</td>\n",
              "    </tr>\n",
              "    <tr>\n",
              "      <th>2</th>\n",
              "      <td>28.402554</td>\n",
              "    </tr>\n",
              "    <tr>\n",
              "      <th>3</th>\n",
              "      <td>2299.806464</td>\n",
              "    </tr>\n",
              "    <tr>\n",
              "      <th>4</th>\n",
              "      <td>516.887402</td>\n",
              "    </tr>\n",
              "    <tr>\n",
              "      <th>5</th>\n",
              "      <td>633.318227</td>\n",
              "    </tr>\n",
              "    <tr>\n",
              "      <th>6</th>\n",
              "      <td>503.010349</td>\n",
              "    </tr>\n",
              "    <tr>\n",
              "      <th>7</th>\n",
              "      <td>613.442244</td>\n",
              "    </tr>\n",
              "    <tr>\n",
              "      <th>8</th>\n",
              "      <td>821.340764</td>\n",
              "    </tr>\n",
              "    <tr>\n",
              "      <th>9</th>\n",
              "      <td>1530.903611</td>\n",
              "    </tr>\n",
              "  </tbody>\n",
              "</table>\n",
              "</div>"
            ],
            "text/plain": [
              "   agent_mean_weight_df\n",
              "0              4.356934\n",
              "1            294.654928\n",
              "2             28.402554\n",
              "3           2299.806464\n",
              "4            516.887402\n",
              "5            633.318227\n",
              "6            503.010349\n",
              "7            613.442244\n",
              "8            821.340764\n",
              "9           1530.903611"
            ]
          },
          "metadata": {
            "tags": []
          },
          "execution_count": 344
        }
      ]
    },
    {
      "cell_type": "code",
      "metadata": {
        "id": "4v1trn9CS9S6",
        "colab": {
          "base_uri": "https://localhost:8080/",
          "height": 368
        },
        "outputId": "43922aa3-8fc3-4960-8df8-5d35bc294627"
      },
      "source": [
        "#final_dataset\n",
        "final_dataset_merge=pd.merge(final_dataset,agent_mean_weight_df, left_index=True, right_index=True)\n",
        "final_dataset_merge"
      ],
      "execution_count": null,
      "outputs": [
        {
          "output_type": "execute_result",
          "data": {
            "text/html": [
              "<div>\n",
              "<style scoped>\n",
              "    .dataframe tbody tr th:only-of-type {\n",
              "        vertical-align: middle;\n",
              "    }\n",
              "\n",
              "    .dataframe tbody tr th {\n",
              "        vertical-align: top;\n",
              "    }\n",
              "\n",
              "    .dataframe thead th {\n",
              "        text-align: right;\n",
              "    }\n",
              "</style>\n",
              "<table border=\"1\" class=\"dataframe\">\n",
              "  <thead>\n",
              "    <tr style=\"text-align: right;\">\n",
              "      <th></th>\n",
              "      <th>agentId</th>\n",
              "      <th>agent_lead_count</th>\n",
              "      <th>Total_followup</th>\n",
              "      <th>outgoing_counts</th>\n",
              "      <th>incoming_counts</th>\n",
              "      <th>Total_followup_by_call</th>\n",
              "      <th>Total_followup_by_mail</th>\n",
              "      <th>Total_followup_by_text</th>\n",
              "      <th>duration</th>\n",
              "      <th>agent_mean_weight_df</th>\n",
              "    </tr>\n",
              "  </thead>\n",
              "  <tbody>\n",
              "    <tr>\n",
              "      <th>0</th>\n",
              "      <td>0</td>\n",
              "      <td>5</td>\n",
              "      <td>115</td>\n",
              "      <td>0</td>\n",
              "      <td>115</td>\n",
              "      <td>0</td>\n",
              "      <td>0</td>\n",
              "      <td>115</td>\n",
              "      <td>0</td>\n",
              "      <td>4.356934</td>\n",
              "    </tr>\n",
              "    <tr>\n",
              "      <th>1</th>\n",
              "      <td>2</td>\n",
              "      <td>874</td>\n",
              "      <td>4086</td>\n",
              "      <td>3745</td>\n",
              "      <td>341</td>\n",
              "      <td>65</td>\n",
              "      <td>3706</td>\n",
              "      <td>315</td>\n",
              "      <td>4631</td>\n",
              "      <td>294.654928</td>\n",
              "    </tr>\n",
              "    <tr>\n",
              "      <th>2</th>\n",
              "      <td>3</td>\n",
              "      <td>343</td>\n",
              "      <td>529</td>\n",
              "      <td>505</td>\n",
              "      <td>24</td>\n",
              "      <td>0</td>\n",
              "      <td>516</td>\n",
              "      <td>13</td>\n",
              "      <td>0</td>\n",
              "      <td>28.402554</td>\n",
              "    </tr>\n",
              "    <tr>\n",
              "      <th>3</th>\n",
              "      <td>4</td>\n",
              "      <td>1599</td>\n",
              "      <td>15290</td>\n",
              "      <td>11885</td>\n",
              "      <td>3405</td>\n",
              "      <td>1087</td>\n",
              "      <td>7140</td>\n",
              "      <td>7063</td>\n",
              "      <td>74545</td>\n",
              "      <td>2299.806464</td>\n",
              "    </tr>\n",
              "    <tr>\n",
              "      <th>4</th>\n",
              "      <td>5</td>\n",
              "      <td>398</td>\n",
              "      <td>11241</td>\n",
              "      <td>11108</td>\n",
              "      <td>133</td>\n",
              "      <td>6</td>\n",
              "      <td>11065</td>\n",
              "      <td>170</td>\n",
              "      <td>0</td>\n",
              "      <td>516.887402</td>\n",
              "    </tr>\n",
              "    <tr>\n",
              "      <th>5</th>\n",
              "      <td>6</td>\n",
              "      <td>351</td>\n",
              "      <td>5606</td>\n",
              "      <td>3349</td>\n",
              "      <td>2257</td>\n",
              "      <td>210</td>\n",
              "      <td>2256</td>\n",
              "      <td>3140</td>\n",
              "      <td>18177</td>\n",
              "      <td>633.318227</td>\n",
              "    </tr>\n",
              "    <tr>\n",
              "      <th>6</th>\n",
              "      <td>7</td>\n",
              "      <td>364</td>\n",
              "      <td>7819</td>\n",
              "      <td>3108</td>\n",
              "      <td>4711</td>\n",
              "      <td>183</td>\n",
              "      <td>5207</td>\n",
              "      <td>2429</td>\n",
              "      <td>8464</td>\n",
              "      <td>503.010349</td>\n",
              "    </tr>\n",
              "    <tr>\n",
              "      <th>7</th>\n",
              "      <td>8</td>\n",
              "      <td>568</td>\n",
              "      <td>2732</td>\n",
              "      <td>2572</td>\n",
              "      <td>160</td>\n",
              "      <td>293</td>\n",
              "      <td>1945</td>\n",
              "      <td>494</td>\n",
              "      <td>22414</td>\n",
              "      <td>613.442244</td>\n",
              "    </tr>\n",
              "    <tr>\n",
              "      <th>8</th>\n",
              "      <td>9</td>\n",
              "      <td>876</td>\n",
              "      <td>9281</td>\n",
              "      <td>7066</td>\n",
              "      <td>2215</td>\n",
              "      <td>814</td>\n",
              "      <td>7292</td>\n",
              "      <td>1175</td>\n",
              "      <td>18504</td>\n",
              "      <td>821.340764</td>\n",
              "    </tr>\n",
              "    <tr>\n",
              "      <th>9</th>\n",
              "      <td>10</td>\n",
              "      <td>1425</td>\n",
              "      <td>11655</td>\n",
              "      <td>7875</td>\n",
              "      <td>3780</td>\n",
              "      <td>647</td>\n",
              "      <td>5630</td>\n",
              "      <td>5378</td>\n",
              "      <td>46924</td>\n",
              "      <td>1530.903611</td>\n",
              "    </tr>\n",
              "  </tbody>\n",
              "</table>\n",
              "</div>"
            ],
            "text/plain": [
              "   agentId  agent_lead_count  ...  duration  agent_mean_weight_df\n",
              "0        0                 5  ...         0              4.356934\n",
              "1        2               874  ...      4631            294.654928\n",
              "2        3               343  ...         0             28.402554\n",
              "3        4              1599  ...     74545           2299.806464\n",
              "4        5               398  ...         0            516.887402\n",
              "5        6               351  ...     18177            633.318227\n",
              "6        7               364  ...      8464            503.010349\n",
              "7        8               568  ...     22414            613.442244\n",
              "8        9               876  ...     18504            821.340764\n",
              "9       10              1425  ...     46924           1530.903611\n",
              "\n",
              "[10 rows x 10 columns]"
            ]
          },
          "metadata": {
            "tags": []
          },
          "execution_count": 345
        }
      ]
    },
    {
      "cell_type": "markdown",
      "metadata": {
        "id": "J6QHXCPJnOOi"
      },
      "source": [
        "# Graph for Top Agents for Recomendation"
      ]
    },
    {
      "cell_type": "code",
      "metadata": {
        "colab": {
          "base_uri": "https://localhost:8080/",
          "height": 467
        },
        "id": "PFvwX8IgVOg9",
        "outputId": "930240a9-2b61-44ca-8267-593e5f6342ad"
      },
      "source": [
        "sns.barplot(x='agentId',y= \"agent_mean_weight_df\", data = final_dataset_merge, order=final_dataset_merge.sort_values('agent_mean_weight_df', ascending = False).agentId)"
      ],
      "execution_count": null,
      "outputs": [
        {
          "output_type": "execute_result",
          "data": {
            "text/plain": [
              "<matplotlib.axes._subplots.AxesSubplot at 0x7fd848be8a90>"
            ]
          },
          "metadata": {
            "tags": []
          },
          "execution_count": 347
        },
        {
          "output_type": "display_data",
          "data": {
            "image/png": "[encoded data removed]",
            "text/plain": [
              "<Figure size 640x480 with 1 Axes>"
            ]
          },
          "metadata": {
            "tags": []
          }
        }
      ]
    },
    {
      "cell_type": "markdown",
      "metadata": {
        "id": "EPPNtK4Qnjtd"
      },
      "source": [
        "# Top 3 Agents"
      ]
    },
    {
      "cell_type": "code",
      "metadata": {
        "colab": {
          "base_uri": "https://localhost:8080/",
          "height": 138
        },
        "id": "chQrHg61Z6k8",
        "outputId": "8f3bf061-b266-42d1-b1ec-35ea07a3e0ff"
      },
      "source": [
        "final_dataset_merge[['agentId','agent_mean_weight_df']].sort_values('agent_mean_weight_df',ascending= False)[:3]"
      ],
      "execution_count": null,
      "outputs": [
        {
          "output_type": "execute_result",
          "data": {
            "text/html": [
              "<div>\n",
              "<style scoped>\n",
              "    .dataframe tbody tr th:only-of-type {\n",
              "        vertical-align: middle;\n",
              "    }\n",
              "\n",
              "    .dataframe tbody tr th {\n",
              "        vertical-align: top;\n",
              "    }\n",
              "\n",
              "    .dataframe thead th {\n",
              "        text-align: right;\n",
              "    }\n",
              "</style>\n",
              "<table border=\"1\" class=\"dataframe\">\n",
              "  <thead>\n",
              "    <tr style=\"text-align: right;\">\n",
              "      <th></th>\n",
              "      <th>agentId</th>\n",
              "      <th>agent_mean_weight_df</th>\n",
              "    </tr>\n",
              "  </thead>\n",
              "  <tbody>\n",
              "    <tr>\n",
              "      <th>3</th>\n",
              "      <td>4</td>\n",
              "      <td>2299.806464</td>\n",
              "    </tr>\n",
              "    <tr>\n",
              "      <th>9</th>\n",
              "      <td>10</td>\n",
              "      <td>1530.903611</td>\n",
              "    </tr>\n",
              "    <tr>\n",
              "      <th>8</th>\n",
              "      <td>9</td>\n",
              "      <td>821.340764</td>\n",
              "    </tr>\n",
              "  </tbody>\n",
              "</table>\n",
              "</div>"
            ],
            "text/plain": [
              "   agentId  agent_mean_weight_df\n",
              "3        4           2299.806464\n",
              "9       10           1530.903611\n",
              "8        9            821.340764"
            ]
          },
          "metadata": {
            "tags": []
          },
          "execution_count": 351
        }
      ]
    },
    {
      "cell_type": "code",
      "metadata": {
        "id": "v9sidik5YvUY"
      },
      "source": [
        ""
      ],
      "execution_count": null,
      "outputs": []
    }
  ]
}